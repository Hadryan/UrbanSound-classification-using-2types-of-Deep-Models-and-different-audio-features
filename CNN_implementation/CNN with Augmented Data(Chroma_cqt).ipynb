{
 "cells": [
  {
   "cell_type": "code",
   "execution_count": 1,
   "metadata": {},
   "outputs": [],
   "source": [
    "import os\n",
    "import sys\n",
    "from os import listdir\n",
    "from os.path import isfile, join\n",
    "import IPython.display as ipd\n",
    "import librosa \n",
    "import librosa.display\n",
    "%matplotlib inline\n",
    "import matplotlib.pyplot as plt\n",
    "import pandas as pd\n",
    "from scipy.io import wavfile as wav\n",
    "import numpy as np\n",
    "from timeit import default_timer as timer"
   ]
  },
  {
   "cell_type": "code",
   "execution_count": 2,
   "metadata": {},
   "outputs": [],
   "source": [
    "def extract_Chroma_cqt(filename):\n",
    "    audio,sample_rate=librosa.load(filename, res_type='kaiser_fast')\n",
    "    chroma_cqt = np.mean(librosa.feature.chroma_cqt(y=audio, sr=sample_rate,n_chroma=100).T,axis=0)\n",
    "    \n",
    "    return chroma_cqt"
   ]
  },
  {
   "cell_type": "code",
   "execution_count": 3,
   "metadata": {},
   "outputs": [
    {
     "name": "stdout",
     "output_type": "stream",
     "text": [
      "time to extract features from one file: 0.058sec\n"
     ]
    }
   ],
   "source": [
    "start_time= timer()\n",
    "a= extract_Chroma_cqt('E:/Thesis/Dataset/UrbanSound8K/audio/fold3/6988-5-0-4.wav')\n",
    "end_time=timer()\n",
    "print('time to extract features from one file: {:.3f}sec'.format((end_time-start_time)/60))"
   ]
  },
  {
   "cell_type": "code",
   "execution_count": 4,
   "metadata": {},
   "outputs": [],
   "source": [
    "metadata=pd.read_csv('E:/Thesis/Dataset/UrbanSound8K/Augmented_metadata/UrbanSound8k_Augmented.csv')\n",
    "metadata_ori=pd.read_csv('E:/Thesis/Dataset/UrbanSound8K/metadata/UrbanSound8K.csv')"
   ]
  },
  {
   "cell_type": "code",
   "execution_count": 5,
   "metadata": {},
   "outputs": [],
   "source": [
    "fold_list = ['fold1', 'fold2', 'fold3', 'fold4', 'fold5', 'fold6', 'fold7', 'fold8', 'fold9', 'fold10']"
   ]
  },
  {
   "cell_type": "code",
   "execution_count": 6,
   "metadata": {},
   "outputs": [],
   "source": [
    "Augment_list= ['pitch_2', 'pitch_-2','pitch_time290','pitch_time-290','pitch_time2110','pitch_time-2110','speed_90','speed_110']"
   ]
  },
  {
   "cell_type": "code",
   "execution_count": 7,
   "metadata": {},
   "outputs": [
    {
     "name": "stderr",
     "output_type": "stream",
     "text": [
      "C:\\Users\\User\\Anaconda3\\lib\\site-packages\\librosa\\core\\audio.py:146: UserWarning: PySoundFile failed. Trying audioread instead.\n",
      "  warnings.warn('PySoundFile failed. Trying audioread instead.')\n"
     ]
    },
    {
     "name": "stdout",
     "output_type": "stream",
     "text": [
      "E:/Thesis/Dataset/UrbanSound8K/Augmented_audio/fold1/pitch_2/.DS_Store\n",
      "E:/Thesis/Dataset/UrbanSound8K/Augmented_audio/fold1/pitch_-2/.DS_Store\n"
     ]
    },
    {
     "name": "stderr",
     "output_type": "stream",
     "text": [
      "C:\\Users\\User\\Anaconda3\\lib\\site-packages\\librosa\\core\\pitch.py:146: UserWarning: Trying to estimate tuning from empty frequency set.\n",
      "  warnings.warn('Trying to estimate tuning from empty frequency set.')\n"
     ]
    },
    {
     "name": "stdout",
     "output_type": "stream",
     "text": [
      "E:/Thesis/Dataset/UrbanSound8K/Augmented_audio/fold1/pitch_time290/.DS_Store\n",
      "E:/Thesis/Dataset/UrbanSound8K/Augmented_audio/fold1/pitch_time-290/.DS_Store\n",
      "E:/Thesis/Dataset/UrbanSound8K/Augmented_audio/fold1/pitch_time2110/.DS_Store\n",
      "E:/Thesis/Dataset/UrbanSound8K/Augmented_audio/fold1/pitch_time-2110/.DS_Store\n",
      "E:/Thesis/Dataset/UrbanSound8K/Augmented_audio/fold1/speed_90/.DS_Store\n",
      "E:/Thesis/Dataset/UrbanSound8K/Augmented_audio/fold1/speed_110/.DS_Store\n",
      "E:/Thesis/Dataset/UrbanSound8K/Augmented_audio/fold2/pitch_2/.DS_Store\n",
      "E:/Thesis/Dataset/UrbanSound8K/Augmented_audio/fold2/pitch_-2/.DS_Store\n",
      "E:/Thesis/Dataset/UrbanSound8K/Augmented_audio/fold2/pitch_time290/.DS_Store\n",
      "E:/Thesis/Dataset/UrbanSound8K/Augmented_audio/fold2/pitch_time-290/.DS_Store\n",
      "E:/Thesis/Dataset/UrbanSound8K/Augmented_audio/fold2/pitch_time2110/.DS_Store\n",
      "E:/Thesis/Dataset/UrbanSound8K/Augmented_audio/fold2/pitch_time-2110/.DS_Store\n",
      "E:/Thesis/Dataset/UrbanSound8K/Augmented_audio/fold2/speed_90/.DS_Store\n",
      "E:/Thesis/Dataset/UrbanSound8K/Augmented_audio/fold2/speed_110/.DS_Store\n",
      "E:/Thesis/Dataset/UrbanSound8K/Augmented_audio/fold3/pitch_2/.DS_Store\n",
      "E:/Thesis/Dataset/UrbanSound8K/Augmented_audio/fold3/pitch_-2/.DS_Store\n",
      "E:/Thesis/Dataset/UrbanSound8K/Augmented_audio/fold3/pitch_time290/.DS_Store\n",
      "E:/Thesis/Dataset/UrbanSound8K/Augmented_audio/fold3/pitch_time-290/.DS_Store\n",
      "E:/Thesis/Dataset/UrbanSound8K/Augmented_audio/fold3/pitch_time2110/.DS_Store\n",
      "E:/Thesis/Dataset/UrbanSound8K/Augmented_audio/fold3/pitch_time-2110/.DS_Store\n",
      "E:/Thesis/Dataset/UrbanSound8K/Augmented_audio/fold3/speed_90/.DS_Store\n",
      "E:/Thesis/Dataset/UrbanSound8K/Augmented_audio/fold3/speed_110/.DS_Store\n",
      "E:/Thesis/Dataset/UrbanSound8K/Augmented_audio/fold4/pitch_2/.DS_Store\n",
      "E:/Thesis/Dataset/UrbanSound8K/Augmented_audio/fold4/pitch_-2/.DS_Store\n",
      "E:/Thesis/Dataset/UrbanSound8K/Augmented_audio/fold4/pitch_time290/.DS_Store\n",
      "E:/Thesis/Dataset/UrbanSound8K/Augmented_audio/fold4/pitch_time-290/.DS_Store\n",
      "E:/Thesis/Dataset/UrbanSound8K/Augmented_audio/fold4/pitch_time2110/.DS_Store\n",
      "E:/Thesis/Dataset/UrbanSound8K/Augmented_audio/fold4/pitch_time-2110/.DS_Store\n",
      "E:/Thesis/Dataset/UrbanSound8K/Augmented_audio/fold4/speed_90/.DS_Store\n",
      "E:/Thesis/Dataset/UrbanSound8K/Augmented_audio/fold4/speed_110/.DS_Store\n",
      "E:/Thesis/Dataset/UrbanSound8K/Augmented_audio/fold5/pitch_2/.DS_Store\n",
      "E:/Thesis/Dataset/UrbanSound8K/Augmented_audio/fold5/pitch_-2/.DS_Store\n",
      "E:/Thesis/Dataset/UrbanSound8K/Augmented_audio/fold5/pitch_time290/.DS_Store\n",
      "E:/Thesis/Dataset/UrbanSound8K/Augmented_audio/fold5/pitch_time-290/.DS_Store\n",
      "E:/Thesis/Dataset/UrbanSound8K/Augmented_audio/fold5/pitch_time2110/.DS_Store\n",
      "E:/Thesis/Dataset/UrbanSound8K/Augmented_audio/fold5/pitch_time-2110/.DS_Store\n",
      "E:/Thesis/Dataset/UrbanSound8K/Augmented_audio/fold5/speed_90/.DS_Store\n",
      "E:/Thesis/Dataset/UrbanSound8K/Augmented_audio/fold5/speed_110/.DS_Store\n",
      "E:/Thesis/Dataset/UrbanSound8K/Augmented_audio/fold6/pitch_2/.DS_Store\n",
      "E:/Thesis/Dataset/UrbanSound8K/Augmented_audio/fold6/pitch_-2/.DS_Store\n",
      "E:/Thesis/Dataset/UrbanSound8K/Augmented_audio/fold6/pitch_time290/.DS_Store\n",
      "E:/Thesis/Dataset/UrbanSound8K/Augmented_audio/fold6/pitch_time-290/.DS_Store\n",
      "E:/Thesis/Dataset/UrbanSound8K/Augmented_audio/fold6/pitch_time2110/.DS_Store\n",
      "E:/Thesis/Dataset/UrbanSound8K/Augmented_audio/fold6/pitch_time-2110/.DS_Store\n",
      "E:/Thesis/Dataset/UrbanSound8K/Augmented_audio/fold6/speed_90/.DS_Store\n",
      "E:/Thesis/Dataset/UrbanSound8K/Augmented_audio/fold6/speed_110/.DS_Store\n",
      "E:/Thesis/Dataset/UrbanSound8K/Augmented_audio/fold7/pitch_2/.DS_Store\n",
      "E:/Thesis/Dataset/UrbanSound8K/Augmented_audio/fold7/pitch_-2/.DS_Store\n",
      "E:/Thesis/Dataset/UrbanSound8K/Augmented_audio/fold7/pitch_time290/.DS_Store\n",
      "E:/Thesis/Dataset/UrbanSound8K/Augmented_audio/fold7/pitch_time-290/.DS_Store\n",
      "E:/Thesis/Dataset/UrbanSound8K/Augmented_audio/fold7/pitch_time2110/.DS_Store\n",
      "E:/Thesis/Dataset/UrbanSound8K/Augmented_audio/fold7/pitch_time-2110/.DS_Store\n",
      "E:/Thesis/Dataset/UrbanSound8K/Augmented_audio/fold7/speed_90/.DS_Store\n",
      "E:/Thesis/Dataset/UrbanSound8K/Augmented_audio/fold7/speed_110/.DS_Store\n",
      "E:/Thesis/Dataset/UrbanSound8K/Augmented_audio/fold8/pitch_2/.DS_Store\n",
      "E:/Thesis/Dataset/UrbanSound8K/Augmented_audio/fold8/pitch_-2/.DS_Store\n",
      "E:/Thesis/Dataset/UrbanSound8K/Augmented_audio/fold8/pitch_time290/.DS_Store\n",
      "E:/Thesis/Dataset/UrbanSound8K/Augmented_audio/fold8/pitch_time-290/.DS_Store\n",
      "E:/Thesis/Dataset/UrbanSound8K/Augmented_audio/fold8/pitch_time2110/.DS_Store\n",
      "E:/Thesis/Dataset/UrbanSound8K/Augmented_audio/fold8/pitch_time-2110/.DS_Store\n",
      "E:/Thesis/Dataset/UrbanSound8K/Augmented_audio/fold8/speed_90/.DS_Store\n",
      "E:/Thesis/Dataset/UrbanSound8K/Augmented_audio/fold8/speed_110/.DS_Store\n",
      "E:/Thesis/Dataset/UrbanSound8K/Augmented_audio/fold9/pitch_2/.DS_Store\n",
      "E:/Thesis/Dataset/UrbanSound8K/Augmented_audio/fold9/pitch_-2/.DS_Store\n",
      "E:/Thesis/Dataset/UrbanSound8K/Augmented_audio/fold9/pitch_time290/.DS_Store\n",
      "E:/Thesis/Dataset/UrbanSound8K/Augmented_audio/fold9/pitch_time-290/.DS_Store\n",
      "E:/Thesis/Dataset/UrbanSound8K/Augmented_audio/fold9/pitch_time2110/.DS_Store\n",
      "E:/Thesis/Dataset/UrbanSound8K/Augmented_audio/fold9/pitch_time-2110/.DS_Store\n",
      "E:/Thesis/Dataset/UrbanSound8K/Augmented_audio/fold9/speed_90/.DS_Store\n",
      "E:/Thesis/Dataset/UrbanSound8K/Augmented_audio/fold9/speed_110/.DS_Store\n",
      "E:/Thesis/Dataset/UrbanSound8K/Augmented_audio/fold10/pitch_2/.DS_Store\n",
      "E:/Thesis/Dataset/UrbanSound8K/Augmented_audio/fold10/pitch_-2/.DS_Store\n",
      "E:/Thesis/Dataset/UrbanSound8K/Augmented_audio/fold10/pitch_time290/.DS_Store\n",
      "E:/Thesis/Dataset/UrbanSound8K/Augmented_audio/fold10/pitch_time-290/.DS_Store\n",
      "E:/Thesis/Dataset/UrbanSound8K/Augmented_audio/fold10/pitch_time2110/.DS_Store\n",
      "E:/Thesis/Dataset/UrbanSound8K/Augmented_audio/fold10/pitch_time-2110/.DS_Store\n",
      "E:/Thesis/Dataset/UrbanSound8K/Augmented_audio/fold10/speed_90/.DS_Store\n",
      "E:/Thesis/Dataset/UrbanSound8K/Augmented_audio/fold10/speed_110/.DS_Store\n",
      "E:/Thesis/Dataset/UrbanSound8K/audio/fold1/.DS_Store\n",
      "E:/Thesis/Dataset/UrbanSound8K/audio/fold2/.DS_Store\n",
      "E:/Thesis/Dataset/UrbanSound8K/audio/fold3/.DS_Store\n",
      "E:/Thesis/Dataset/UrbanSound8K/audio/fold4/.DS_Store\n",
      "E:/Thesis/Dataset/UrbanSound8K/audio/fold5/.DS_Store\n",
      "E:/Thesis/Dataset/UrbanSound8K/audio/fold6/.DS_Store\n",
      "E:/Thesis/Dataset/UrbanSound8K/audio/fold7/.DS_Store\n",
      "E:/Thesis/Dataset/UrbanSound8K/audio/fold8/.DS_Store\n",
      "E:/Thesis/Dataset/UrbanSound8K/audio/fold9/.DS_Store\n",
      "E:/Thesis/Dataset/UrbanSound8K/audio/fold10/.DS_Store\n",
      "Exceptions:  90\n",
      "time taken: 291.0 minutes 30.4 seconds\n",
      "None\n",
      "Finished feature extraction from all folder\n"
     ]
    }
   ],
   "source": [
    "stacked_features = []\n",
    "exceptions=0\n",
    "count=0\n",
    "\n",
    "start_time = timer()\n",
    "for i in range(10):\n",
    "    for j in range(8):\n",
    "  \n",
    "        mypath = 'E:/Thesis/Dataset/UrbanSound8K/Augmented_audio/'+ fold_list[i] + '/' + Augment_list[j] + '/'\n",
    "        files = [mypath + f for f in listdir(mypath) if isfile(join(mypath, f))]\n",
    "\n",
    "        for fn in files:\n",
    "            try: \n",
    "                a= extract_Chroma_cqt(fn)\n",
    "                features=np.reshape((a),(20,5))\n",
    "            \n",
    "            \n",
    "\n",
    "\n",
    "            except: \n",
    "                print(fn)\n",
    "                exceptions += 1\n",
    "                continue\n",
    "\n",
    "            l_row = metadata.loc[metadata['file']==fn.split('/')[-1]].values.tolist()\n",
    "            label = l_row[0][-4]\n",
    "            fold = i+1\n",
    "            \n",
    "\n",
    "            stacked_features.append([features, features.shape, label, fold])\n",
    "\n",
    "            \n",
    "for i in range(10):\n",
    "    \n",
    "    mypath = 'E:/Thesis/Dataset/UrbanSound8K/audio/'+ fold_list[i] + '/'\n",
    "    files = [mypath + f for f in listdir(mypath) if isfile(join(mypath, f))]\n",
    "    \n",
    "    for fn in files:\n",
    "        try:\n",
    "            a= extract_Chroma_cqt(fn)\n",
    "            features=np.reshape((a),(20,5))\n",
    "            \n",
    "        except: \n",
    "            print(fn)\n",
    "            exceptions += 1\n",
    "            continue\n",
    "            \n",
    "        l_row = metadata_ori.loc[metadata_ori['slice_file_name']==fn.split('/')[-1]].values.tolist()\n",
    "        label = l_row[0][-1]\n",
    "        fold = i+1\n",
    "    \n",
    "        stacked_features.append([features, features.shape, label, fold])\n",
    "        \n",
    "        \n",
    "print(\"Exceptions: \", exceptions)\n",
    "end_time = timer()\n",
    "print(print(\"time taken: {0} minutes {1:.1f} seconds\".format((end_time - start_time)//60, (end_time - start_time)%60)))\n",
    "print('Finished feature extraction from all folder')"
   ]
  },
  {
   "cell_type": "code",
   "execution_count": 11,
   "metadata": {},
   "outputs": [
    {
     "data": {
      "text/html": [
       "<div>\n",
       "<style scoped>\n",
       "    .dataframe tbody tr th:only-of-type {\n",
       "        vertical-align: middle;\n",
       "    }\n",
       "\n",
       "    .dataframe tbody tr th {\n",
       "        vertical-align: top;\n",
       "    }\n",
       "\n",
       "    .dataframe thead th {\n",
       "        text-align: right;\n",
       "    }\n",
       "</style>\n",
       "<table border=\"1\" class=\"dataframe\">\n",
       "  <thead>\n",
       "    <tr style=\"text-align: right;\">\n",
       "      <th></th>\n",
       "      <th>Chroma_cens_feature</th>\n",
       "      <th>Matrix_shape</th>\n",
       "      <th>Label</th>\n",
       "      <th>Fold</th>\n",
       "    </tr>\n",
       "  </thead>\n",
       "  <tbody>\n",
       "    <tr>\n",
       "      <td>0</td>\n",
       "      <td>[[0.5396146, 0.48717988, 0.43642205, 0.4032648...</td>\n",
       "      <td>(20, 5)</td>\n",
       "      <td>dog_bark</td>\n",
       "      <td>1</td>\n",
       "    </tr>\n",
       "    <tr>\n",
       "      <td>1</td>\n",
       "      <td>[[0.4028212, 0.37180892, 0.36956087, 0.3403533...</td>\n",
       "      <td>(20, 5)</td>\n",
       "      <td>dog_bark</td>\n",
       "      <td>1</td>\n",
       "    </tr>\n",
       "    <tr>\n",
       "      <td>2</td>\n",
       "      <td>[[0.5410408, 0.5867591, 0.60682976, 0.5607813,...</td>\n",
       "      <td>(20, 5)</td>\n",
       "      <td>dog_bark</td>\n",
       "      <td>1</td>\n",
       "    </tr>\n",
       "    <tr>\n",
       "      <td>3</td>\n",
       "      <td>[[0.4466586, 0.35938162, 0.31248572, 0.3287319...</td>\n",
       "      <td>(20, 5)</td>\n",
       "      <td>dog_bark</td>\n",
       "      <td>1</td>\n",
       "    </tr>\n",
       "    <tr>\n",
       "      <td>4</td>\n",
       "      <td>[[0.7798228, 0.84452456, 0.72355807, 0.5930090...</td>\n",
       "      <td>(20, 5)</td>\n",
       "      <td>gun_shot</td>\n",
       "      <td>1</td>\n",
       "    </tr>\n",
       "  </tbody>\n",
       "</table>\n",
       "</div>"
      ],
      "text/plain": [
       "                                 Chroma_cens_feature Matrix_shape     Label  \\\n",
       "0  [[0.5396146, 0.48717988, 0.43642205, 0.4032648...      (20, 5)  dog_bark   \n",
       "1  [[0.4028212, 0.37180892, 0.36956087, 0.3403533...      (20, 5)  dog_bark   \n",
       "2  [[0.5410408, 0.5867591, 0.60682976, 0.5607813,...      (20, 5)  dog_bark   \n",
       "3  [[0.4466586, 0.35938162, 0.31248572, 0.3287319...      (20, 5)  dog_bark   \n",
       "4  [[0.7798228, 0.84452456, 0.72355807, 0.5930090...      (20, 5)  gun_shot   \n",
       "\n",
       "   Fold  \n",
       "0     1  \n",
       "1     1  \n",
       "2     1  \n",
       "3     1  \n",
       "4     1  "
      ]
     },
     "execution_count": 11,
     "metadata": {},
     "output_type": "execute_result"
    }
   ],
   "source": [
    "cols=['Chroma_cens_feature', 'Matrix_shape','Label', 'Fold']\n",
    "Chroma_features=pd.DataFrame(data=stacked_features, columns=cols)\n",
    "Chroma_features.head()"
   ]
  },
  {
   "cell_type": "code",
   "execution_count": 13,
   "metadata": {},
   "outputs": [],
   "source": [
    "from sklearn.preprocessing import LabelEncoder\n",
    "from keras.utils import to_categorical\n",
    "\n",
    "\n",
    "X = np.array(Chroma_features.Chroma_cens_feature.tolist())\n",
    "y = np.array(Chroma_features.Label.tolist())\n",
    "\n",
    "\n",
    "le = LabelEncoder()\n",
    "yy = to_categorical(le.fit_transform(y))"
   ]
  },
  {
   "cell_type": "code",
   "execution_count": 14,
   "metadata": {},
   "outputs": [],
   "source": [
    "from sklearn.model_selection import train_test_split \n",
    "\n",
    "x_train, x_test, y_train, y_test = train_test_split(X, yy, test_size=0.2, random_state=42)"
   ]
  },
  {
   "cell_type": "code",
   "execution_count": 15,
   "metadata": {},
   "outputs": [
    {
     "name": "stdout",
     "output_type": "stream",
     "text": [
      "(62870, 20, 5, 1) (15718, 20, 5, 1)\n"
     ]
    }
   ],
   "source": [
    "x_train=np.reshape(x_train,(x_train.shape[0], 20,5,1))\n",
    "x_test=np.reshape(x_test,(x_test.shape[0], 20,5,1))\n",
    "print(x_train.shape, x_test.shape)"
   ]
  },
  {
   "cell_type": "code",
   "execution_count": 16,
   "metadata": {},
   "outputs": [],
   "source": [
    "import numpy as np\n",
    "from keras.models import Sequential\n",
    "from keras.layers import Dense, Dropout, Activation, Flatten\n",
    "from keras.layers import Convolution2D, Conv2D, MaxPooling2D, GlobalAveragePooling2D\n",
    "from keras.optimizers import Adam\n",
    "from keras.utils import np_utils\n",
    "from sklearn import metrics"
   ]
  },
  {
   "cell_type": "code",
   "execution_count": 17,
   "metadata": {},
   "outputs": [],
   "source": [
    "model=Sequential()\n",
    "model.add(Conv2D(64,kernel_size=5,strides=1,padding=\"Same\",activation=\"relu\",input_shape=(20,5,1)))\n",
    "model.add(MaxPooling2D(padding=\"same\"))\n",
    "\n",
    "model.add(Conv2D(128,kernel_size=5,strides=1,padding=\"same\",activation=\"relu\"))\n",
    "model.add(MaxPooling2D(padding=\"same\"))\n",
    "model.add(Dropout(0.3))\n",
    "\n",
    "model.add(Flatten())\n",
    "#model.add(GlobalAveragePooling2D())\n",
    "\n",
    "\n",
    "model.add(Dense(256,activation=\"relu\"))\n",
    "model.add(Dropout(0.3))\n",
    "\n",
    "model.add(Dense(512,activation=\"relu\"))\n",
    "model.add(Dropout(0.3))\n",
    "\n",
    "model.add(Dense(10,activation=\"softmax\"))"
   ]
  },
  {
   "cell_type": "code",
   "execution_count": 18,
   "metadata": {},
   "outputs": [
    {
     "name": "stdout",
     "output_type": "stream",
     "text": [
      "Model: \"sequential_1\"\n",
      "_________________________________________________________________\n",
      "Layer (type)                 Output Shape              Param #   \n",
      "=================================================================\n",
      "conv2d_1 (Conv2D)            (None, 20, 5, 64)         1664      \n",
      "_________________________________________________________________\n",
      "max_pooling2d_1 (MaxPooling2 (None, 10, 3, 64)         0         \n",
      "_________________________________________________________________\n",
      "conv2d_2 (Conv2D)            (None, 10, 3, 128)        204928    \n",
      "_________________________________________________________________\n",
      "max_pooling2d_2 (MaxPooling2 (None, 5, 2, 128)         0         \n",
      "_________________________________________________________________\n",
      "dropout_1 (Dropout)          (None, 5, 2, 128)         0         \n",
      "_________________________________________________________________\n",
      "flatten_1 (Flatten)          (None, 1280)              0         \n",
      "_________________________________________________________________\n",
      "dense_1 (Dense)              (None, 256)               327936    \n",
      "_________________________________________________________________\n",
      "dropout_2 (Dropout)          (None, 256)               0         \n",
      "_________________________________________________________________\n",
      "dense_2 (Dense)              (None, 512)               131584    \n",
      "_________________________________________________________________\n",
      "dropout_3 (Dropout)          (None, 512)               0         \n",
      "_________________________________________________________________\n",
      "dense_3 (Dense)              (None, 10)                5130      \n",
      "=================================================================\n",
      "Total params: 671,242\n",
      "Trainable params: 671,242\n",
      "Non-trainable params: 0\n",
      "_________________________________________________________________\n"
     ]
    }
   ],
   "source": [
    "model.compile(loss='categorical_crossentropy', metrics=['accuracy'], optimizer='adam')\n",
    "model.summary()"
   ]
  },
  {
   "cell_type": "code",
   "execution_count": 19,
   "metadata": {},
   "outputs": [
    {
     "name": "stdout",
     "output_type": "stream",
     "text": [
      "15718/15718 [==============================] - 7s 466us/step\n",
      "Pre-training accuracy: 5.7514%\n"
     ]
    }
   ],
   "source": [
    "score = model.evaluate(x_test, y_test, verbose=1)\n",
    "accuracy = 100*score[1]\n",
    "\n",
    "print(\"Pre-training accuracy: %.4f%%\" % accuracy)"
   ]
  },
  {
   "cell_type": "code",
   "execution_count": 20,
   "metadata": {},
   "outputs": [
    {
     "name": "stdout",
     "output_type": "stream",
     "text": [
      "Train on 62870 samples, validate on 15718 samples\n",
      "Epoch 1/30\n",
      "62870/62870 [==============================] - 78s 1ms/step - loss: 1.8816 - accuracy: 0.3090 - val_loss: 1.6451 - val_accuracy: 0.4142\n",
      "Epoch 2/30\n",
      "62870/62870 [==============================] - 80s 1ms/step - loss: 1.5816 - accuracy: 0.4364 - val_loss: 1.4429 - val_accuracy: 0.4963\n",
      "Epoch 3/30\n",
      "62870/62870 [==============================] - 79s 1ms/step - loss: 1.4514 - accuracy: 0.4849 - val_loss: 1.3365 - val_accuracy: 0.5280\n",
      "Epoch 4/30\n",
      "62870/62870 [==============================] - 80s 1ms/step - loss: 1.3656 - accuracy: 0.5161 - val_loss: 1.2657 - val_accuracy: 0.5578\n",
      "Epoch 5/30\n",
      "62870/62870 [==============================] - 79s 1ms/step - loss: 1.3021 - accuracy: 0.5391 - val_loss: 1.2069 - val_accuracy: 0.5769\n",
      "Epoch 6/30\n",
      "62870/62870 [==============================] - 80s 1ms/step - loss: 1.2516 - accuracy: 0.5587 - val_loss: 1.1888 - val_accuracy: 0.5826\n",
      "Epoch 7/30\n",
      "62870/62870 [==============================] - 79s 1ms/step - loss: 1.2028 - accuracy: 0.5761 - val_loss: 1.1248 - val_accuracy: 0.6024\n",
      "Epoch 8/30\n",
      "62870/62870 [==============================] - 80s 1ms/step - loss: 1.1627 - accuracy: 0.5877 - val_loss: 1.1029 - val_accuracy: 0.6108\n",
      "Epoch 9/30\n",
      "62870/62870 [==============================] - 80s 1ms/step - loss: 1.1282 - accuracy: 0.5996 - val_loss: 1.0831 - val_accuracy: 0.6205\n",
      "Epoch 10/30\n",
      "62870/62870 [==============================] - 79s 1ms/step - loss: 1.0978 - accuracy: 0.6079 - val_loss: 1.0554 - val_accuracy: 0.6314\n",
      "Epoch 11/30\n",
      "62870/62870 [==============================] - 79s 1ms/step - loss: 1.0760 - accuracy: 0.6173 - val_loss: 1.0628 - val_accuracy: 0.6300\n",
      "Epoch 12/30\n",
      "62870/62870 [==============================] - 80s 1ms/step - loss: 1.0463 - accuracy: 0.6281 - val_loss: 1.0040 - val_accuracy: 0.6468\n",
      "Epoch 13/30\n",
      "62870/62870 [==============================] - 79s 1ms/step - loss: 1.0235 - accuracy: 0.6348 - val_loss: 1.0065 - val_accuracy: 0.6452\n",
      "Epoch 14/30\n",
      "62870/62870 [==============================] - 79s 1ms/step - loss: 1.0108 - accuracy: 0.6400 - val_loss: 1.0033 - val_accuracy: 0.6464\n",
      "Epoch 15/30\n",
      "62870/62870 [==============================] - 80s 1ms/step - loss: 0.9880 - accuracy: 0.6491 - val_loss: 0.9636 - val_accuracy: 0.6638\n",
      "Epoch 16/30\n",
      "62870/62870 [==============================] - 79s 1ms/step - loss: 0.9753 - accuracy: 0.6549 - val_loss: 0.9689 - val_accuracy: 0.6598\n",
      "Epoch 17/30\n",
      "62870/62870 [==============================] - 80s 1ms/step - loss: 0.9585 - accuracy: 0.6583 - val_loss: 0.9478 - val_accuracy: 0.6729\n",
      "Epoch 18/30\n",
      "62870/62870 [==============================] - 80s 1ms/step - loss: 0.9412 - accuracy: 0.6627 - val_loss: 0.9528 - val_accuracy: 0.6655\n",
      "Epoch 19/30\n",
      "62870/62870 [==============================] - 80s 1ms/step - loss: 0.9283 - accuracy: 0.6705 - val_loss: 0.9280 - val_accuracy: 0.6767\n",
      "Epoch 20/30\n",
      "62870/62870 [==============================] - 80s 1ms/step - loss: 0.9188 - accuracy: 0.6712 - val_loss: 0.9340 - val_accuracy: 0.6765\n",
      "Epoch 21/30\n",
      "62870/62870 [==============================] - 81s 1ms/step - loss: 0.9033 - accuracy: 0.6789 - val_loss: 0.9240 - val_accuracy: 0.6800\n",
      "Epoch 22/30\n",
      "62870/62870 [==============================] - 80s 1ms/step - loss: 0.8898 - accuracy: 0.6817 - val_loss: 0.9110 - val_accuracy: 0.6809\n",
      "Epoch 23/30\n",
      "62870/62870 [==============================] - 80s 1ms/step - loss: 0.8786 - accuracy: 0.6857 - val_loss: 0.9002 - val_accuracy: 0.6846\n",
      "Epoch 24/30\n",
      "62870/62870 [==============================] - 80s 1ms/step - loss: 0.8694 - accuracy: 0.6895 - val_loss: 0.9117 - val_accuracy: 0.6813\n",
      "Epoch 25/30\n",
      "62870/62870 [==============================] - 80s 1ms/step - loss: 0.8612 - accuracy: 0.6930 - val_loss: 0.9001 - val_accuracy: 0.6853\n",
      "Epoch 26/30\n",
      "62870/62870 [==============================] - 80s 1ms/step - loss: 0.8466 - accuracy: 0.6973 - val_loss: 0.8859 - val_accuracy: 0.6907\n",
      "Epoch 27/30\n",
      "62870/62870 [==============================] - 81s 1ms/step - loss: 0.8382 - accuracy: 0.7016 - val_loss: 0.9241 - val_accuracy: 0.6767\n",
      "Epoch 28/30\n",
      "62870/62870 [==============================] - 80s 1ms/step - loss: 0.8303 - accuracy: 0.7042 - val_loss: 0.8851 - val_accuracy: 0.6946\n",
      "Epoch 29/30\n",
      "62870/62870 [==============================] - 80s 1ms/step - loss: 0.8263 - accuracy: 0.7027 - val_loss: 0.8748 - val_accuracy: 0.6956\n",
      "Epoch 30/30\n",
      "62870/62870 [==============================] - 80s 1ms/step - loss: 0.8172 - accuracy: 0.7089 - val_loss: 0.8922 - val_accuracy: 0.6941\n",
      "time taken: 39.0 minutes 53.4 seconds\n",
      "None\n"
     ]
    }
   ],
   "source": [
    "start_time=timer()\n",
    "history=model.fit(x_train,y_train,batch_size=50,epochs=30,validation_data=(x_test,y_test))\n",
    "end_time=timer()\n",
    "print(print(\"time taken: {0} minutes {1:.1f} seconds\".format((end_time - start_time)//60, (end_time - start_time)%60)))"
   ]
  },
  {
   "cell_type": "code",
   "execution_count": 21,
   "metadata": {},
   "outputs": [
    {
     "name": "stdout",
     "output_type": "stream",
     "text": [
      "62870/62870 [==============================] - 30s 478us/step\n",
      "Training Accuracy:  81.54763579368591\n",
      "Testing Accuracy:  69.41086649894714\n"
     ]
    }
   ],
   "source": [
    "score = model.evaluate(x_train, y_train, verbose=1)\n",
    "print(\"Training Accuracy: \", score[1]*100)\n",
    "\n",
    "score = model.evaluate(x_test, y_test, verbose=0)\n",
    "print(\"Testing Accuracy: \", score[1]*100)"
   ]
  },
  {
   "cell_type": "code",
   "execution_count": 22,
   "metadata": {},
   "outputs": [],
   "source": [
    "def plot_accuracy():\n",
    "    plt.plot(history.history['accuracy'])\n",
    "    plt.plot(history.history['val_accuracy'])\n",
    "    plt.title('Model Accuracy')\n",
    "    plt.ylabel('Accuracy')\n",
    "    plt.xlabel('No of epoch')\n",
    "    plt.legend(['train', 'test'], loc='upper left')\n",
    "    plt.show()\n",
    "    \n",
    "def plot_loss():\n",
    "    plt.plot(history.history['loss'], label='Training')\n",
    "    plt.plot(history.history['val_loss'], label='Testing')\n",
    "    plt.title('Model Loss')\n",
    "    plt.ylabel('Loss')\n",
    "    plt.xlabel('No of epoch')\n",
    "    #plt.xlabel('No of epoch')\n",
    "    plt.legend(loc=\"upper left\")\n",
    "    plt.show()"
   ]
  },
  {
   "cell_type": "code",
   "execution_count": 23,
   "metadata": {},
   "outputs": [
    {
     "data": {
      "image/png": "[encoded data removed]",
      "text/plain": [
       "<Figure size 720x288 with 1 Axes>"
      ]
     },
     "metadata": {
      "needs_background": "light"
     },
     "output_type": "display_data"
    },
    {
     "data": {
      "image/png": "[encoded data removed]",
      "text/plain": [
       "<Figure size 720x288 with 1 Axes>"
      ]
     },
     "metadata": {
      "needs_background": "light"
     },
     "output_type": "display_data"
    }
   ],
   "source": [
    "plt.figure(figsize=(10,4))\n",
    "plot_accuracy()\n",
    "plt.figure(figsize=(10,4))\n",
    "plot_loss()"
   ]
  },
  {
   "cell_type": "code",
   "execution_count": 24,
   "metadata": {},
   "outputs": [],
   "source": [
    "Class_Label = {'Air_conditioner':0, 'Car_horn':1, 'Children_playing':2, 'Dog_Bark':3, \n",
    "               'Drilling':4,'Engine_idling':5, 'Gun_Shot' :6, 'Jackhammer': 7 ,'Siren':8,'Street_Music':9 }"
   ]
  },
  {
   "cell_type": "code",
   "execution_count": 25,
   "metadata": {},
   "outputs": [
    {
     "name": "stdout",
     "output_type": "stream",
     "text": [
      "(15718,) (15718,)\n",
      "                  precision    recall  f1-score   support\n",
      "\n",
      " Air_conditioner       0.86      0.80      0.83      1823\n",
      "        Car_horn       0.78      0.73      0.75       793\n",
      "Children_playing       0.41      0.61      0.49      1766\n",
      "        Dog_Bark       0.49      0.58      0.53      1814\n",
      "        Drilling       0.74      0.68      0.71      1744\n",
      "   Engine_idling       0.84      0.83      0.84      1798\n",
      "        Gun_Shot       0.84      0.60      0.70       693\n",
      "      Jackhammer       0.84      0.77      0.80      1786\n",
      "           Siren       0.71      0.56      0.63      1685\n",
      "    Street_Music       0.81      0.73      0.77      1816\n",
      "\n",
      "        accuracy                           0.69     15718\n",
      "       macro avg       0.73      0.69      0.70     15718\n",
      "    weighted avg       0.72      0.69      0.70     15718\n",
      "\n"
     ]
    }
   ],
   "source": [
    "from sklearn.metrics import classification_report\n",
    "\n",
    "y_true = np.argmax(y_test, axis = 1)\n",
    "y_pred = model.predict(x_test)\n",
    "y_pred = np.argmax(y_pred, axis=1)\n",
    "labels = [0,1,2,3,4,5,6,7,8,9]\n",
    "target_names = Class_Label.keys()\n",
    "\n",
    "print(y_true.shape, y_pred.shape)\n",
    "print(classification_report(y_true, y_pred, target_names=target_names))"
   ]
  },
  {
   "cell_type": "code",
   "execution_count": 26,
   "metadata": {},
   "outputs": [
    {
     "data": {
      "image/png": "[encoded data removed]",
      "text/plain": [
       "<Figure size 432x288 with 1 Axes>"
      ]
     },
     "metadata": {
      "needs_background": "light"
     },
     "output_type": "display_data"
    },
    {
     "data": {
      "text/plain": [
       "<Figure size 720x288 with 0 Axes>"
      ]
     },
     "metadata": {},
     "output_type": "display_data"
    }
   ],
   "source": [
    "from sklearn.metrics import confusion_matrix\n",
    "import seaborn as sns\n",
    "import matplotlib.pyplot as plt\n",
    "\n",
    "ax=plt.subplot()\n",
    "mat = confusion_matrix(y_true, y_pred)\n",
    "plt.figure(figsize=(10,4))\n",
    "sns.heatmap(mat, square=False, annot=True, fmt='d',cbar=False,linewidths=.5,xticklabels=Class_Label.keys(),yticklabels=Class_Label.keys(), ax=ax, cmap='PuBuGn')\n",
    "bottom, top= ax.get_ylim()\n",
    "ax.set_ylim(bottom + 0.5 , top -0.5)\n",
    "ax.set_title('Confusion Matrix')\n",
    "ax.set_xlabel('True label')\n",
    "ax.set_ylabel('Predicted label');"
   ]
  },
  {
   "cell_type": "code",
   "execution_count": 27,
   "metadata": {},
   "outputs": [],
   "source": [
    "def acc_per_class(np_probs_array):    \n",
    "    accs = []\n",
    "    for idx in range(0, np_probs_array.shape[0]):\n",
    "        correct = np_probs_array[idx][idx].astype(int)\n",
    "        total = np_probs_array[idx].sum().astype(int)\n",
    "        acc = (correct / total) * 100\n",
    "        accs.append(acc)\n",
    "    return accs"
   ]
  },
  {
   "cell_type": "code",
   "execution_count": 28,
   "metadata": {},
   "outputs": [],
   "source": [
    "labels = ['Air Conditioner','Car Horn','Children Playing','Dog bark','Drilling','Engine Idling','Gun Shot','Jackhammer','Siren','Street Music']"
   ]
  },
  {
   "cell_type": "code",
   "execution_count": 29,
   "metadata": {},
   "outputs": [
    {
     "data": {
      "text/html": [
       "<div>\n",
       "<style scoped>\n",
       "    .dataframe tbody tr th:only-of-type {\n",
       "        vertical-align: middle;\n",
       "    }\n",
       "\n",
       "    .dataframe tbody tr th {\n",
       "        vertical-align: top;\n",
       "    }\n",
       "\n",
       "    .dataframe thead th {\n",
       "        text-align: right;\n",
       "    }\n",
       "</style>\n",
       "<table border=\"1\" class=\"dataframe\">\n",
       "  <thead>\n",
       "    <tr style=\"text-align: right;\">\n",
       "      <th></th>\n",
       "      <th>CLASS</th>\n",
       "      <th>ACCURACY</th>\n",
       "    </tr>\n",
       "  </thead>\n",
       "  <tbody>\n",
       "    <tr>\n",
       "      <td>5</td>\n",
       "      <td>Engine Idling</td>\n",
       "      <td>83.147942</td>\n",
       "    </tr>\n",
       "    <tr>\n",
       "      <td>0</td>\n",
       "      <td>Air Conditioner</td>\n",
       "      <td>80.307186</td>\n",
       "    </tr>\n",
       "    <tr>\n",
       "      <td>7</td>\n",
       "      <td>Jackhammer</td>\n",
       "      <td>76.931691</td>\n",
       "    </tr>\n",
       "    <tr>\n",
       "      <td>9</td>\n",
       "      <td>Street Music</td>\n",
       "      <td>72.577093</td>\n",
       "    </tr>\n",
       "    <tr>\n",
       "      <td>1</td>\n",
       "      <td>Car Horn</td>\n",
       "      <td>72.509458</td>\n",
       "    </tr>\n",
       "    <tr>\n",
       "      <td>4</td>\n",
       "      <td>Drilling</td>\n",
       "      <td>68.004587</td>\n",
       "    </tr>\n",
       "    <tr>\n",
       "      <td>2</td>\n",
       "      <td>Children Playing</td>\n",
       "      <td>61.325028</td>\n",
       "    </tr>\n",
       "    <tr>\n",
       "      <td>6</td>\n",
       "      <td>Gun Shot</td>\n",
       "      <td>59.595960</td>\n",
       "    </tr>\n",
       "    <tr>\n",
       "      <td>3</td>\n",
       "      <td>Dog bark</td>\n",
       "      <td>58.269019</td>\n",
       "    </tr>\n",
       "    <tr>\n",
       "      <td>8</td>\n",
       "      <td>Siren</td>\n",
       "      <td>56.083086</td>\n",
       "    </tr>\n",
       "  </tbody>\n",
       "</table>\n",
       "</div>"
      ],
      "text/plain": [
       "              CLASS   ACCURACY\n",
       "5     Engine Idling  83.147942\n",
       "0   Air Conditioner  80.307186\n",
       "7        Jackhammer  76.931691\n",
       "9      Street Music  72.577093\n",
       "1          Car Horn  72.509458\n",
       "4          Drilling  68.004587\n",
       "2  Children Playing  61.325028\n",
       "6          Gun Shot  59.595960\n",
       "3          Dog bark  58.269019\n",
       "8             Siren  56.083086"
      ]
     },
     "execution_count": 29,
     "metadata": {},
     "output_type": "execute_result"
    }
   ],
   "source": [
    "accuracies=acc_per_class(mat)\n",
    "pd.DataFrame({'CLASS':labels, 'ACCURACY': accuracies}).sort_values(by='ACCURACY', ascending=False)"
   ]
  },
  {
   "cell_type": "code",
   "execution_count": 30,
   "metadata": {},
   "outputs": [
    {
     "data": {
      "text/plain": [
       "Text(0.5, 1.0, 'Accuracy per Class')"
      ]
     },
     "execution_count": 30,
     "metadata": {},
     "output_type": "execute_result"
    },
    {
     "data": {
      "image/png": "[encoded data removed]",
      "text/plain": [
       "<Figure size 720x432 with 1 Axes>"
      ]
     },
     "metadata": {
      "needs_background": "light"
     },
     "output_type": "display_data"
    }
   ],
   "source": [
    "Y=np.around(accuracies , decimals=1)\n",
    "index=np.arange(len(labels))\n",
    "plt.figure(figsize=(10,6))\n",
    "plt.bar(index, Y, color='olive')\n",
    "plt.xticks(index, labels, rotation=90)\n",
    "plt.xlabel('Class_Name')\n",
    "plt.ylabel('Accuracy')\n",
    "plt.title('Accuracy per Class')"
   ]
  },
  {
   "cell_type": "code",
   "execution_count": null,
   "metadata": {},
   "outputs": [],
   "source": []
  }
 ],
 "metadata": {
  "kernelspec": {
   "display_name": "Python 3",
   "language": "python",
   "name": "python3"
  },
  "language_info": {
   "codemirror_mode": {
    "name": "ipython",
    "version": 3
   },
   "file_extension": ".py",
   "mimetype": "text/x-python",
   "name": "python",
   "nbconvert_exporter": "python",
   "pygments_lexer": "ipython3",
   "version": "3.7.4"
  }
 },
 "nbformat": 4,
 "nbformat_minor": 2
}
