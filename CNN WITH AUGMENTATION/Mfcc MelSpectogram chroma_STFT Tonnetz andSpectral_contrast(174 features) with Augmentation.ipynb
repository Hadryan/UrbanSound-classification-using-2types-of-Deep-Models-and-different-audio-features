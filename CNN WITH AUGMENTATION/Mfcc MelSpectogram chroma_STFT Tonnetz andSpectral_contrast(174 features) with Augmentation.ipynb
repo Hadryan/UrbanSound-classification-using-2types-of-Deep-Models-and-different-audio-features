{
 "cells": [
  {
   "cell_type": "code",
   "execution_count": 1,
   "metadata": {},
   "outputs": [],
   "source": [
    "import os\n",
    "import sys\n",
    "from os import listdir\n",
    "from os.path import isfile, join\n",
    "import IPython.display as ipd\n",
    "import librosa \n",
    "import librosa.display\n",
    "%matplotlib inline\n",
    "import matplotlib.pyplot as plt\n",
    "import pandas as pd\n",
    "from scipy.io import wavfile as wav\n",
    "import numpy as np\n",
    "from timeit import default_timer as timer"
   ]
  },
  {
   "cell_type": "code",
   "execution_count": 2,
   "metadata": {},
   "outputs": [],
   "source": [
    "def extract_feature(file_name):\n",
    "    \n",
    "        audio, sample_rate = librosa.load(file_name, res_type='kaiser_fast')\n",
    "        stft=np.abs(librosa.stft(audio))\n",
    "        mfccs=np.mean(librosa.feature.mfcc(y=audio, sr=sample_rate, n_mfcc=21).T,axis=0)\n",
    "        chroma_stft=np.mean(librosa.feature.chroma_stft(y=audio, sr=sample_rate).T,axis=0)\n",
    "        mel = np.mean(librosa.feature.melspectrogram(audio, sr=sample_rate).T,axis=0)\n",
    "        contrast = np.mean(librosa.feature.spectral_contrast(S=stft, sr=sample_rate).T,axis=0)\n",
    "        tonnetz = np.mean(librosa.feature.tonnetz(y=librosa.effects.harmonic(audio), sr=sample_rate).T,axis=0)\n",
    "        \n",
    "   # except Exception as e:\n",
    "    #    print(\"Error encountered while parsing file: \", file)\n",
    "     #   return None\n",
    "    \n",
    "        return mfccs,chroma_stft,mel,contrast,tonnetz"
   ]
  },
  {
   "cell_type": "code",
   "execution_count": 3,
   "metadata": {},
   "outputs": [
    {
     "name": "stderr",
     "output_type": "stream",
     "text": [
      "C:\\Users\\User\\Anaconda3\\lib\\site-packages\\librosa\\core\\pitch.py:146: UserWarning: Trying to estimate tuning from empty frequency set.\n",
      "  warnings.warn('Trying to estimate tuning from empty frequency set.')\n"
     ]
    },
    {
     "name": "stdout",
     "output_type": "stream",
     "text": [
      "time to extract features from one file: 0.032sec\n"
     ]
    }
   ],
   "source": [
    "start_time= timer()\n",
    "mfccs,chroma,mel,contrast,tonnetz= extract_feature('E:/Thesis/Dataset/UrbanSound8K/audio/fold3/6988-5-0-4.wav')\n",
    "end_time=timer()\n",
    "print('time to extract features from one file: {:.3f}sec'.format((end_time-start_time)/60))"
   ]
  },
  {
   "cell_type": "code",
   "execution_count": 5,
   "metadata": {},
   "outputs": [
    {
     "name": "stdout",
     "output_type": "stream",
     "text": [
      "(21,) (12,) (128,) (7,) (6,)\n"
     ]
    }
   ],
   "source": [
    "print(mfccs.shape,chroma.shape,mel.shape,contrast.shape,tonnetz.shape)"
   ]
  },
  {
   "cell_type": "code",
   "execution_count": 8,
   "metadata": {},
   "outputs": [],
   "source": [
    "metadata=pd.read_csv('E:/Thesis/Dataset/UrbanSound8K/Augmented_metadata/UrbanSound8k_Augmented.csv')\n",
    "metadata_ori=pd.read_csv('E:/Thesis/Dataset/UrbanSound8K/metadata/UrbanSound8K.csv')"
   ]
  },
  {
   "cell_type": "code",
   "execution_count": 7,
   "metadata": {},
   "outputs": [],
   "source": [
    "fold_list = ['fold1', 'fold2', 'fold3', 'fold4', 'fold5', 'fold6', 'fold7', 'fold8', 'fold9', 'fold10']"
   ]
  },
  {
   "cell_type": "code",
   "execution_count": 9,
   "metadata": {},
   "outputs": [],
   "source": [
    "Augment_list= ['pitch_2', 'pitch_-2','pitch_time290','pitch_time-290','pitch_time2110','pitch_time-2110','speed_90','speed_110']"
   ]
  },
  {
   "cell_type": "code",
   "execution_count": 10,
   "metadata": {},
   "outputs": [
    {
     "name": "stderr",
     "output_type": "stream",
     "text": [
      "C:\\Users\\User\\Anaconda3\\lib\\site-packages\\librosa\\core\\audio.py:146: UserWarning: PySoundFile failed. Trying audioread instead.\n",
      "  warnings.warn('PySoundFile failed. Trying audioread instead.')\n"
     ]
    },
    {
     "name": "stdout",
     "output_type": "stream",
     "text": [
      "E:/Thesis/Dataset/UrbanSound8K/Augmented_audio/fold1/pitch_2/.DS_Store\n",
      "E:/Thesis/Dataset/UrbanSound8K/Augmented_audio/fold1/pitch_-2/.DS_Store\n",
      "E:/Thesis/Dataset/UrbanSound8K/Augmented_audio/fold1/pitch_time290/.DS_Store\n",
      "E:/Thesis/Dataset/UrbanSound8K/Augmented_audio/fold1/pitch_time-290/.DS_Store\n",
      "E:/Thesis/Dataset/UrbanSound8K/Augmented_audio/fold1/pitch_time2110/.DS_Store\n"
     ]
    },
    {
     "name": "stderr",
     "output_type": "stream",
     "text": [
      "C:\\Users\\User\\Anaconda3\\lib\\site-packages\\librosa\\util\\utils.py:1591: RuntimeWarning: invalid value encountered in less\n",
      "  if np.any(X < 0) or np.any(X_ref < 0):\n",
      "C:\\Users\\User\\Anaconda3\\lib\\site-packages\\librosa\\util\\utils.py:1604: RuntimeWarning: invalid value encountered in less\n",
      "  bad_idx = (Z < np.finfo(dtype).tiny)\n"
     ]
    },
    {
     "name": "stdout",
     "output_type": "stream",
     "text": [
      "E:/Thesis/Dataset/UrbanSound8K/Augmented_audio/fold1/pitch_time2110/87275-1-1-0.wav\n",
      "E:/Thesis/Dataset/UrbanSound8K/Augmented_audio/fold1/pitch_time2110/87275-1-2-0.wav\n",
      "E:/Thesis/Dataset/UrbanSound8K/Augmented_audio/fold1/pitch_time-2110/.DS_Store\n",
      "E:/Thesis/Dataset/UrbanSound8K/Augmented_audio/fold1/pitch_time-2110/87275-1-1-0.wav\n",
      "E:/Thesis/Dataset/UrbanSound8K/Augmented_audio/fold1/pitch_time-2110/87275-1-2-0.wav\n",
      "E:/Thesis/Dataset/UrbanSound8K/Augmented_audio/fold1/speed_90/.DS_Store\n",
      "E:/Thesis/Dataset/UrbanSound8K/Augmented_audio/fold1/speed_110/.DS_Store\n",
      "E:/Thesis/Dataset/UrbanSound8K/Augmented_audio/fold1/speed_110/87275-1-1-0.wav\n",
      "E:/Thesis/Dataset/UrbanSound8K/Augmented_audio/fold1/speed_110/87275-1-2-0.wav\n",
      "E:/Thesis/Dataset/UrbanSound8K/Augmented_audio/fold2/pitch_2/.DS_Store\n",
      "E:/Thesis/Dataset/UrbanSound8K/Augmented_audio/fold2/pitch_-2/.DS_Store\n",
      "E:/Thesis/Dataset/UrbanSound8K/Augmented_audio/fold2/pitch_time290/.DS_Store\n",
      "E:/Thesis/Dataset/UrbanSound8K/Augmented_audio/fold2/pitch_time-290/.DS_Store\n",
      "E:/Thesis/Dataset/UrbanSound8K/Augmented_audio/fold2/pitch_time2110/.DS_Store\n",
      "E:/Thesis/Dataset/UrbanSound8K/Augmented_audio/fold2/pitch_time-2110/.DS_Store\n",
      "E:/Thesis/Dataset/UrbanSound8K/Augmented_audio/fold2/speed_90/.DS_Store\n",
      "E:/Thesis/Dataset/UrbanSound8K/Augmented_audio/fold2/speed_110/.DS_Store\n",
      "E:/Thesis/Dataset/UrbanSound8K/Augmented_audio/fold3/pitch_2/.DS_Store\n",
      "E:/Thesis/Dataset/UrbanSound8K/Augmented_audio/fold3/pitch_-2/.DS_Store\n",
      "E:/Thesis/Dataset/UrbanSound8K/Augmented_audio/fold3/pitch_time290/.DS_Store\n",
      "E:/Thesis/Dataset/UrbanSound8K/Augmented_audio/fold3/pitch_time-290/.DS_Store\n",
      "E:/Thesis/Dataset/UrbanSound8K/Augmented_audio/fold3/pitch_time2110/.DS_Store\n",
      "E:/Thesis/Dataset/UrbanSound8K/Augmented_audio/fold3/pitch_time-2110/.DS_Store\n",
      "E:/Thesis/Dataset/UrbanSound8K/Augmented_audio/fold3/speed_90/.DS_Store\n",
      "E:/Thesis/Dataset/UrbanSound8K/Augmented_audio/fold3/speed_110/.DS_Store\n",
      "E:/Thesis/Dataset/UrbanSound8K/Augmented_audio/fold4/pitch_2/.DS_Store\n",
      "E:/Thesis/Dataset/UrbanSound8K/Augmented_audio/fold4/pitch_-2/.DS_Store\n",
      "E:/Thesis/Dataset/UrbanSound8K/Augmented_audio/fold4/pitch_time290/.DS_Store\n",
      "E:/Thesis/Dataset/UrbanSound8K/Augmented_audio/fold4/pitch_time-290/.DS_Store\n",
      "E:/Thesis/Dataset/UrbanSound8K/Augmented_audio/fold4/pitch_time2110/.DS_Store\n",
      "E:/Thesis/Dataset/UrbanSound8K/Augmented_audio/fold4/pitch_time-2110/.DS_Store\n",
      "E:/Thesis/Dataset/UrbanSound8K/Augmented_audio/fold4/speed_90/.DS_Store\n",
      "E:/Thesis/Dataset/UrbanSound8K/Augmented_audio/fold4/speed_110/.DS_Store\n",
      "E:/Thesis/Dataset/UrbanSound8K/Augmented_audio/fold5/pitch_2/.DS_Store\n",
      "E:/Thesis/Dataset/UrbanSound8K/Augmented_audio/fold5/pitch_-2/.DS_Store\n",
      "E:/Thesis/Dataset/UrbanSound8K/Augmented_audio/fold5/pitch_time290/.DS_Store\n",
      "E:/Thesis/Dataset/UrbanSound8K/Augmented_audio/fold5/pitch_time-290/.DS_Store\n",
      "E:/Thesis/Dataset/UrbanSound8K/Augmented_audio/fold5/pitch_time2110/.DS_Store\n",
      "E:/Thesis/Dataset/UrbanSound8K/Augmented_audio/fold5/pitch_time-2110/.DS_Store\n",
      "E:/Thesis/Dataset/UrbanSound8K/Augmented_audio/fold5/speed_90/.DS_Store\n",
      "E:/Thesis/Dataset/UrbanSound8K/Augmented_audio/fold5/speed_110/.DS_Store\n",
      "E:/Thesis/Dataset/UrbanSound8K/Augmented_audio/fold6/pitch_2/.DS_Store\n",
      "E:/Thesis/Dataset/UrbanSound8K/Augmented_audio/fold6/pitch_-2/.DS_Store\n",
      "E:/Thesis/Dataset/UrbanSound8K/Augmented_audio/fold6/pitch_time290/.DS_Store\n",
      "E:/Thesis/Dataset/UrbanSound8K/Augmented_audio/fold6/pitch_time-290/.DS_Store\n",
      "E:/Thesis/Dataset/UrbanSound8K/Augmented_audio/fold6/pitch_time2110/.DS_Store\n",
      "E:/Thesis/Dataset/UrbanSound8K/Augmented_audio/fold6/pitch_time-2110/.DS_Store\n",
      "E:/Thesis/Dataset/UrbanSound8K/Augmented_audio/fold6/speed_90/.DS_Store\n",
      "E:/Thesis/Dataset/UrbanSound8K/Augmented_audio/fold6/speed_110/.DS_Store\n",
      "E:/Thesis/Dataset/UrbanSound8K/Augmented_audio/fold7/pitch_2/.DS_Store\n",
      "E:/Thesis/Dataset/UrbanSound8K/Augmented_audio/fold7/pitch_-2/.DS_Store\n",
      "E:/Thesis/Dataset/UrbanSound8K/Augmented_audio/fold7/pitch_time290/.DS_Store\n",
      "E:/Thesis/Dataset/UrbanSound8K/Augmented_audio/fold7/pitch_time-290/.DS_Store\n",
      "E:/Thesis/Dataset/UrbanSound8K/Augmented_audio/fold7/pitch_time2110/.DS_Store\n",
      "E:/Thesis/Dataset/UrbanSound8K/Augmented_audio/fold7/pitch_time-2110/.DS_Store\n",
      "E:/Thesis/Dataset/UrbanSound8K/Augmented_audio/fold7/speed_90/.DS_Store\n",
      "E:/Thesis/Dataset/UrbanSound8K/Augmented_audio/fold7/speed_110/.DS_Store\n",
      "E:/Thesis/Dataset/UrbanSound8K/Augmented_audio/fold8/pitch_2/.DS_Store\n",
      "E:/Thesis/Dataset/UrbanSound8K/Augmented_audio/fold8/pitch_-2/.DS_Store\n",
      "E:/Thesis/Dataset/UrbanSound8K/Augmented_audio/fold8/pitch_time290/.DS_Store\n",
      "E:/Thesis/Dataset/UrbanSound8K/Augmented_audio/fold8/pitch_time-290/.DS_Store\n",
      "E:/Thesis/Dataset/UrbanSound8K/Augmented_audio/fold8/pitch_time2110/.DS_Store\n",
      "E:/Thesis/Dataset/UrbanSound8K/Augmented_audio/fold8/pitch_time-2110/.DS_Store\n",
      "E:/Thesis/Dataset/UrbanSound8K/Augmented_audio/fold8/speed_90/.DS_Store\n",
      "E:/Thesis/Dataset/UrbanSound8K/Augmented_audio/fold8/speed_110/.DS_Store\n",
      "E:/Thesis/Dataset/UrbanSound8K/Augmented_audio/fold9/pitch_2/.DS_Store\n",
      "E:/Thesis/Dataset/UrbanSound8K/Augmented_audio/fold9/pitch_-2/.DS_Store\n",
      "E:/Thesis/Dataset/UrbanSound8K/Augmented_audio/fold9/pitch_time290/.DS_Store\n",
      "E:/Thesis/Dataset/UrbanSound8K/Augmented_audio/fold9/pitch_time-290/.DS_Store\n",
      "E:/Thesis/Dataset/UrbanSound8K/Augmented_audio/fold9/pitch_time2110/.DS_Store\n",
      "E:/Thesis/Dataset/UrbanSound8K/Augmented_audio/fold9/pitch_time-2110/.DS_Store\n",
      "E:/Thesis/Dataset/UrbanSound8K/Augmented_audio/fold9/speed_90/.DS_Store\n",
      "E:/Thesis/Dataset/UrbanSound8K/Augmented_audio/fold9/speed_110/.DS_Store\n",
      "E:/Thesis/Dataset/UrbanSound8K/Augmented_audio/fold10/pitch_2/.DS_Store\n",
      "E:/Thesis/Dataset/UrbanSound8K/Augmented_audio/fold10/pitch_-2/.DS_Store\n",
      "E:/Thesis/Dataset/UrbanSound8K/Augmented_audio/fold10/pitch_time290/.DS_Store\n",
      "E:/Thesis/Dataset/UrbanSound8K/Augmented_audio/fold10/pitch_time-290/.DS_Store\n",
      "E:/Thesis/Dataset/UrbanSound8K/Augmented_audio/fold10/pitch_time2110/.DS_Store\n",
      "E:/Thesis/Dataset/UrbanSound8K/Augmented_audio/fold10/pitch_time-2110/.DS_Store\n",
      "E:/Thesis/Dataset/UrbanSound8K/Augmented_audio/fold10/speed_90/.DS_Store\n",
      "E:/Thesis/Dataset/UrbanSound8K/Augmented_audio/fold10/speed_110/.DS_Store\n",
      "E:/Thesis/Dataset/UrbanSound8K/audio/fold1/.DS_Store\n",
      "E:/Thesis/Dataset/UrbanSound8K/audio/fold2/.DS_Store\n",
      "E:/Thesis/Dataset/UrbanSound8K/audio/fold3/.DS_Store\n",
      "E:/Thesis/Dataset/UrbanSound8K/audio/fold4/.DS_Store\n",
      "E:/Thesis/Dataset/UrbanSound8K/audio/fold5/.DS_Store\n",
      "E:/Thesis/Dataset/UrbanSound8K/audio/fold6/.DS_Store\n",
      "E:/Thesis/Dataset/UrbanSound8K/audio/fold7/.DS_Store\n",
      "E:/Thesis/Dataset/UrbanSound8K/audio/fold8/.DS_Store\n",
      "E:/Thesis/Dataset/UrbanSound8K/audio/fold9/.DS_Store\n",
      "E:/Thesis/Dataset/UrbanSound8K/audio/fold10/.DS_Store\n",
      "Exceptions:  96\n",
      "time taken: 480.0 minutes 39.0 seconds\n",
      "None\n",
      "Finished feature extraction from all folder\n"
     ]
    }
   ],
   "source": [
    "stacked_features = []\n",
    "exceptions=0\n",
    "count=0\n",
    "\n",
    "start_time = timer()\n",
    "for i in range(10):\n",
    "    for j in range(8):\n",
    "  \n",
    "        mypath = 'E:/Thesis/Dataset/UrbanSound8K/Augmented_audio/'+ fold_list[i] + '/' + Augment_list[j] + '/'\n",
    "        files = [mypath + f for f in listdir(mypath) if isfile(join(mypath, f))]\n",
    "\n",
    "        for fn in files:\n",
    "            try: \n",
    "                mfccs,chroma,mel,contrast,tonnetz = extract_feature(fn)\n",
    "                features = np.empty((0,174))\n",
    "                ext_features = np.hstack([mfccs,chroma,mel,contrast,tonnetz])\n",
    "                features = np.reshape(np.vstack([features,ext_features]),(29,6))\n",
    "            \n",
    "\n",
    "\n",
    "            except: \n",
    "                print(fn)\n",
    "                exceptions += 1\n",
    "                continue\n",
    "\n",
    "            l_row = metadata.loc[metadata['file']==fn.split('/')[-1]].values.tolist()\n",
    "            label = l_row[0][-4]\n",
    "            fold = i+1\n",
    "            \n",
    "\n",
    "            stacked_features.append([features, features.shape, label, fold])\n",
    "\n",
    "            \n",
    "for i in range(10):\n",
    "    \n",
    "    mypath = 'E:/Thesis/Dataset/UrbanSound8K/audio/'+ fold_list[i] + '/'\n",
    "    files = [mypath + f for f in listdir(mypath) if isfile(join(mypath, f))]\n",
    "    \n",
    "    for fn in files:\n",
    "        try:\n",
    "            mfccs,chroma,mel,contrast,tonnetz = extract_feature(fn)\n",
    "            features = np.empty((0,174))\n",
    "            ext_features = np.hstack([mfccs,chroma,mel,contrast,tonnetz])\n",
    "            features = np.reshape(np.vstack([features,ext_features]),(29,6))\n",
    "            \n",
    "        except: \n",
    "            print(fn)\n",
    "            exceptions += 1\n",
    "            continue\n",
    "            \n",
    "        l_row = metadata_ori.loc[metadata_ori['slice_file_name']==fn.split('/')[-1]].values.tolist()\n",
    "        label = l_row[0][-1]\n",
    "        fold = i+1\n",
    "    \n",
    "        stacked_features.append([features, features.shape, label, fold])\n",
    "        \n",
    "        \n",
    "print(\"Exceptions: \", exceptions)\n",
    "end_time = timer()\n",
    "print(print(\"time taken: {0} minutes {1:.1f} seconds\".format((end_time - start_time)//60, (end_time - start_time)%60)))\n",
    "print('Finished feature extraction from all folder')"
   ]
  },
  {
   "cell_type": "code",
   "execution_count": 11,
   "metadata": {},
   "outputs": [
    {
     "name": "stdout",
     "output_type": "stream",
     "text": [
      "<class 'pandas.core.frame.DataFrame'>\n",
      "RangeIndex: 78582 entries, 0 to 78581\n",
      "Data columns (total 4 columns):\n",
      "Stacked_Features    78582 non-null object\n",
      "Matrix_Shape        78582 non-null object\n",
      "Label               78582 non-null object\n",
      "Fold                78582 non-null int64\n",
      "dtypes: int64(1), object(3)\n",
      "memory usage: 2.4+ MB\n"
     ]
    }
   ],
   "source": [
    "cols=['Stacked_Features', 'Matrix_Shape', 'Label', 'Fold']\n",
    "Stacked_feature_pd=pd.DataFrame(data=stacked_features , columns=cols)\n",
    "Stacked_feature_pd.info()"
   ]
  },
  {
   "cell_type": "code",
   "execution_count": 12,
   "metadata": {},
   "outputs": [
    {
     "name": "stderr",
     "output_type": "stream",
     "text": [
      "Using TensorFlow backend.\n"
     ]
    }
   ],
   "source": [
    "from sklearn.preprocessing import LabelEncoder\n",
    "from keras.utils import to_categorical\n",
    "\n",
    "\n",
    "X = np.array(Stacked_feature_pd.Stacked_Features.tolist())\n",
    "y = np.array(Stacked_feature_pd.Label.tolist())\n",
    "\n",
    "\n",
    "le = LabelEncoder()\n",
    "yy = to_categorical(le.fit_transform(y))"
   ]
  },
  {
   "cell_type": "code",
   "execution_count": 13,
   "metadata": {},
   "outputs": [],
   "source": [
    "from sklearn.model_selection import train_test_split \n",
    "\n",
    "x_train, x_test, y_train, y_test = train_test_split(X, yy, test_size=0.2, random_state=42)"
   ]
  },
  {
   "cell_type": "code",
   "execution_count": 14,
   "metadata": {},
   "outputs": [
    {
     "name": "stdout",
     "output_type": "stream",
     "text": [
      "(62865, 29, 6) (15717, 29, 6) (62865, 10) (15717, 10) (78582, 10)\n"
     ]
    }
   ],
   "source": [
    "print(x_train.shape, x_test.shape, y_train.shape, y_test.shape, yy.shape)"
   ]
  },
  {
   "cell_type": "code",
   "execution_count": 16,
   "metadata": {},
   "outputs": [
    {
     "name": "stdout",
     "output_type": "stream",
     "text": [
      "(62865, 29, 6, 1) (15717, 29, 6, 1)\n"
     ]
    }
   ],
   "source": [
    "x_train=np.reshape(x_train,(x_train.shape[0], 29,6,1))\n",
    "x_test=np.reshape(x_test,(x_test.shape[0], 29,6,1))\n",
    "print(x_train.shape, x_test.shape)"
   ]
  },
  {
   "cell_type": "code",
   "execution_count": 17,
   "metadata": {},
   "outputs": [],
   "source": [
    "import numpy as np\n",
    "from keras.models import Sequential\n",
    "from keras.layers import Dense, Dropout, Activation, Flatten\n",
    "from keras.layers import Convolution2D, Conv2D, MaxPooling2D, GlobalAveragePooling2D\n",
    "from keras.optimizers import Adam\n",
    "from keras.utils import np_utils\n",
    "from sklearn import metrics"
   ]
  },
  {
   "cell_type": "code",
   "execution_count": 18,
   "metadata": {},
   "outputs": [],
   "source": [
    "model=Sequential()\n",
    "model.add(Conv2D(64,kernel_size=5,strides=1,padding=\"Same\",activation=\"relu\",input_shape=(29,6,1)))\n",
    "model.add(MaxPooling2D(padding=\"same\"))\n",
    "\n",
    "model.add(Conv2D(128,kernel_size=5,strides=1,padding=\"same\",activation=\"relu\"))\n",
    "model.add(MaxPooling2D(padding=\"same\"))\n",
    "model.add(Dropout(0.3))\n",
    "\n",
    "model.add(Flatten())\n",
    "#model.add(GlobalAveragePooling2D())\n",
    "\n",
    "\n",
    "model.add(Dense(256,activation=\"relu\"))\n",
    "model.add(Dropout(0.3))\n",
    "\n",
    "model.add(Dense(512,activation=\"relu\"))\n",
    "model.add(Dropout(0.3))\n",
    "\n",
    "model.add(Dense(10,activation=\"softmax\"))"
   ]
  },
  {
   "cell_type": "code",
   "execution_count": 19,
   "metadata": {},
   "outputs": [
    {
     "name": "stdout",
     "output_type": "stream",
     "text": [
      "Model: \"sequential_1\"\n",
      "_________________________________________________________________\n",
      "Layer (type)                 Output Shape              Param #   \n",
      "=================================================================\n",
      "conv2d_1 (Conv2D)            (None, 29, 6, 64)         1664      \n",
      "_________________________________________________________________\n",
      "max_pooling2d_1 (MaxPooling2 (None, 15, 3, 64)         0         \n",
      "_________________________________________________________________\n",
      "conv2d_2 (Conv2D)            (None, 15, 3, 128)        204928    \n",
      "_________________________________________________________________\n",
      "max_pooling2d_2 (MaxPooling2 (None, 8, 2, 128)         0         \n",
      "_________________________________________________________________\n",
      "dropout_1 (Dropout)          (None, 8, 2, 128)         0         \n",
      "_________________________________________________________________\n",
      "flatten_1 (Flatten)          (None, 2048)              0         \n",
      "_________________________________________________________________\n",
      "dense_1 (Dense)              (None, 256)               524544    \n",
      "_________________________________________________________________\n",
      "dropout_2 (Dropout)          (None, 256)               0         \n",
      "_________________________________________________________________\n",
      "dense_2 (Dense)              (None, 512)               131584    \n",
      "_________________________________________________________________\n",
      "dropout_3 (Dropout)          (None, 512)               0         \n",
      "_________________________________________________________________\n",
      "dense_3 (Dense)              (None, 10)                5130      \n",
      "=================================================================\n",
      "Total params: 867,850\n",
      "Trainable params: 867,850\n",
      "Non-trainable params: 0\n",
      "_________________________________________________________________\n"
     ]
    }
   ],
   "source": [
    "model.compile(loss='categorical_crossentropy', metrics=['accuracy'], optimizer='adam')\n",
    "model.summary()"
   ]
  },
  {
   "cell_type": "code",
   "execution_count": 20,
   "metadata": {},
   "outputs": [
    {
     "name": "stdout",
     "output_type": "stream",
     "text": [
      "15717/15717 [==============================] - 11s 710us/step\n",
      "Pre-training accuracy: 11.0390%\n"
     ]
    }
   ],
   "source": [
    "score = model.evaluate(x_test, y_test, verbose=1)\n",
    "accuracy = 100*score[1]\n",
    "\n",
    "print(\"Pre-training accuracy: %.4f%%\" % accuracy)"
   ]
  },
  {
   "cell_type": "code",
   "execution_count": 21,
   "metadata": {},
   "outputs": [
    {
     "name": "stdout",
     "output_type": "stream",
     "text": [
      "Train on 62865 samples, validate on 15717 samples\n",
      "Epoch 1/30\n",
      "62865/62865 [==============================] - 111s 2ms/step - loss: 1.5066 - accuracy: 0.4784 - val_loss: 0.9849 - val_accuracy: 0.6673\n",
      "Epoch 2/30\n",
      "62865/62865 [==============================] - 114s 2ms/step - loss: 1.0149 - accuracy: 0.6573 - val_loss: 0.6937 - val_accuracy: 0.7702\n",
      "Epoch 3/30\n",
      "62865/62865 [==============================] - 114s 2ms/step - loss: 0.8345 - accuracy: 0.7220 - val_loss: 0.5738 - val_accuracy: 0.8128\n",
      "Epoch 4/30\n",
      "62865/62865 [==============================] - 115s 2ms/step - loss: 0.7026 - accuracy: 0.7665 - val_loss: 0.4830 - val_accuracy: 0.8486\n",
      "Epoch 5/30\n",
      "62865/62865 [==============================] - 114s 2ms/step - loss: 0.6387 - accuracy: 0.7895 - val_loss: 0.4179 - val_accuracy: 0.8621\n",
      "Epoch 6/30\n",
      "62865/62865 [==============================] - 115s 2ms/step - loss: 0.5824 - accuracy: 0.8080 - val_loss: 0.3695 - val_accuracy: 0.8816\n",
      "Epoch 7/30\n",
      "62865/62865 [==============================] - 114s 2ms/step - loss: 0.5300 - accuracy: 0.8245 - val_loss: 0.3108 - val_accuracy: 0.8962\n",
      "Epoch 8/30\n",
      "62865/62865 [==============================] - 114s 2ms/step - loss: 0.5095 - accuracy: 0.8313 - val_loss: 0.3019 - val_accuracy: 0.9003\n",
      "Epoch 9/30\n",
      "62865/62865 [==============================] - 114s 2ms/step - loss: 0.4610 - accuracy: 0.8491 - val_loss: 0.2801 - val_accuracy: 0.9058\n",
      "Epoch 10/30\n",
      "62865/62865 [==============================] - 114s 2ms/step - loss: 0.4754 - accuracy: 0.8483 - val_loss: 0.3271 - val_accuracy: 0.8938\n",
      "Epoch 11/30\n",
      "62865/62865 [==============================] - 114s 2ms/step - loss: 0.4490 - accuracy: 0.8551 - val_loss: 0.2411 - val_accuracy: 0.9224\n",
      "Epoch 12/30\n",
      "62865/62865 [==============================] - 114s 2ms/step - loss: 0.4099 - accuracy: 0.8667 - val_loss: 0.2470 - val_accuracy: 0.9233\n",
      "Epoch 13/30\n",
      "62865/62865 [==============================] - 114s 2ms/step - loss: 0.3921 - accuracy: 0.8735 - val_loss: 0.2184 - val_accuracy: 0.9281\n",
      "Epoch 14/30\n",
      "62865/62865 [==============================] - 114s 2ms/step - loss: 0.3976 - accuracy: 0.8706 - val_loss: 0.2217 - val_accuracy: 0.9303\n",
      "Epoch 15/30\n",
      "62865/62865 [==============================] - 114s 2ms/step - loss: 0.3898 - accuracy: 0.8766 - val_loss: 0.2072 - val_accuracy: 0.9338\n",
      "Epoch 16/30\n",
      "62865/62865 [==============================] - 114s 2ms/step - loss: 0.3700 - accuracy: 0.8813 - val_loss: 0.1962 - val_accuracy: 0.9344\n",
      "Epoch 17/30\n",
      "62865/62865 [==============================] - 114s 2ms/step - loss: 0.3573 - accuracy: 0.8841 - val_loss: 0.1912 - val_accuracy: 0.9349\n",
      "Epoch 18/30\n",
      "62865/62865 [==============================] - 114s 2ms/step - loss: 0.3526 - accuracy: 0.8864 - val_loss: 0.1750 - val_accuracy: 0.9476\n",
      "Epoch 19/30\n",
      "62865/62865 [==============================] - 114s 2ms/step - loss: 0.3475 - accuracy: 0.8886 - val_loss: 0.1829 - val_accuracy: 0.9401\n",
      "Epoch 20/30\n",
      "62865/62865 [==============================] - 114s 2ms/step - loss: 0.3316 - accuracy: 0.8931 - val_loss: 0.1739 - val_accuracy: 0.9431\n",
      "Epoch 21/30\n",
      "62865/62865 [==============================] - 114s 2ms/step - loss: 0.3266 - accuracy: 0.8956 - val_loss: 0.1609 - val_accuracy: 0.9502\n",
      "Epoch 22/30\n",
      "62865/62865 [==============================] - 114s 2ms/step - loss: 0.3147 - accuracy: 0.8991 - val_loss: 0.1663 - val_accuracy: 0.9473\n",
      "Epoch 23/30\n",
      "62865/62865 [==============================] - 114s 2ms/step - loss: 0.3156 - accuracy: 0.8992 - val_loss: 0.1570 - val_accuracy: 0.9495\n",
      "Epoch 24/30\n",
      "62865/62865 [==============================] - 114s 2ms/step - loss: 0.3199 - accuracy: 0.8988 - val_loss: 0.1681 - val_accuracy: 0.9422\n",
      "Epoch 25/30\n",
      "62865/62865 [==============================] - 113s 2ms/step - loss: 0.3121 - accuracy: 0.9021 - val_loss: 0.1608 - val_accuracy: 0.9520\n",
      "Epoch 26/30\n",
      "62865/62865 [==============================] - 114s 2ms/step - loss: 0.3079 - accuracy: 0.9037 - val_loss: 0.1493 - val_accuracy: 0.9512\n",
      "Epoch 27/30\n",
      "62865/62865 [==============================] - 115s 2ms/step - loss: 0.3029 - accuracy: 0.9057 - val_loss: 0.1365 - val_accuracy: 0.9585\n",
      "Epoch 28/30\n",
      "62865/62865 [==============================] - 114s 2ms/step - loss: 0.2919 - accuracy: 0.9063 - val_loss: 0.1449 - val_accuracy: 0.9606\n",
      "Epoch 29/30\n",
      "62865/62865 [==============================] - 114s 2ms/step - loss: 0.3011 - accuracy: 0.9058 - val_loss: 0.2675 - val_accuracy: 0.9504\n",
      "Epoch 30/30\n",
      "62865/62865 [==============================] - 114s 2ms/step - loss: 0.2884 - accuracy: 0.9088 - val_loss: 0.1618 - val_accuracy: 0.9499\n",
      "time taken: 56.0 minutes 55.3 seconds\n",
      "None\n"
     ]
    }
   ],
   "source": [
    "start_time=timer()\n",
    "history=model.fit(x_train,y_train,batch_size=50,epochs=30,validation_data=(x_test,y_test))\n",
    "end_time=timer()\n",
    "print(print(\"time taken: {0} minutes {1:.1f} seconds\".format((end_time - start_time)//60, (end_time - start_time)%60)))"
   ]
  },
  {
   "cell_type": "code",
   "execution_count": 22,
   "metadata": {},
   "outputs": [
    {
     "name": "stdout",
     "output_type": "stream",
     "text": [
      "Training Accuracy:  96.96492552757263\n",
      "Testing Accuracy:  94.99268531799316\n"
     ]
    }
   ],
   "source": [
    "score = model.evaluate(x_train, y_train, verbose=0)\n",
    "print(\"Training Accuracy: \", score[1]*100)\n",
    "\n",
    "score = model.evaluate(x_test, y_test, verbose=0)\n",
    "print(\"Testing Accuracy: \", score[1]*100)"
   ]
  },
  {
   "cell_type": "code",
   "execution_count": 23,
   "metadata": {},
   "outputs": [],
   "source": [
    "def plot_accuracy():\n",
    "    plt.plot(history.history['accuracy'])\n",
    "    plt.plot(history.history['val_accuracy'])\n",
    "    plt.title('Model Accuracy')\n",
    "    plt.ylabel('Accuracy')\n",
    "    plt.xlabel('No of epoch')\n",
    "    plt.legend(['train', 'test'], loc='upper left')\n",
    "    plt.show()\n",
    "    \n",
    "def plot_loss():\n",
    "    plt.plot(history.history['loss'], label='Training')\n",
    "    plt.plot(history.history['val_loss'], label='Testing')\n",
    "    plt.title('Model Loss')\n",
    "    plt.ylabel('Loss')\n",
    "    plt.xlabel('No of epoch')\n",
    "    #plt.xlabel('No of epoch')\n",
    "    plt.legend(loc=\"upper left\")\n",
    "    plt.show()"
   ]
  },
  {
   "cell_type": "code",
   "execution_count": 24,
   "metadata": {},
   "outputs": [
    {
     "data": {
      "image/png": "[encoded data removed]",
      "text/plain": [
       "<Figure size 864x288 with 1 Axes>"
      ]
     },
     "metadata": {
      "needs_background": "light"
     },
     "output_type": "display_data"
    },
    {
     "data": {
      "image/png": "[encoded data removed]",
      "text/plain": [
       "<Figure size 864x288 with 1 Axes>"
      ]
     },
     "metadata": {
      "needs_background": "light"
     },
     "output_type": "display_data"
    }
   ],
   "source": [
    "plt.figure(figsize=(12,4))\n",
    "plot_accuracy()\n",
    "plt.figure(figsize=(12,4))\n",
    "plot_loss()"
   ]
  },
  {
   "cell_type": "code",
   "execution_count": 25,
   "metadata": {},
   "outputs": [],
   "source": [
    "Class_Label = {'Air_conditioner':0, 'Car_horn':1, 'Children_playing':2, 'Dog_Bark':3, \n",
    "               'Drilling':4,'Engine_idling':5, 'Gun_Shot' :6, 'Jackhammer': 7 ,'Siren':8,'Street_Music':9 }"
   ]
  },
  {
   "cell_type": "code",
   "execution_count": 26,
   "metadata": {},
   "outputs": [
    {
     "name": "stdout",
     "output_type": "stream",
     "text": [
      "(15717,) (15717,)\n",
      "                  precision    recall  f1-score   support\n",
      "\n",
      " Air_conditioner       0.97      0.97      0.97      1843\n",
      "        Car_horn       0.97      0.96      0.97       770\n",
      "Children_playing       0.88      0.91      0.89      1799\n",
      "        Dog_Bark       0.97      0.89      0.93      1741\n",
      "        Drilling       0.97      0.95      0.96      1766\n",
      "   Engine_idling       0.98      0.97      0.97      1828\n",
      "        Gun_Shot       0.99      0.97      0.98       711\n",
      "      Jackhammer       0.96      0.98      0.97      1814\n",
      "           Siren       0.99      0.96      0.98      1661\n",
      "    Street_Music       0.87      0.95      0.91      1784\n",
      "\n",
      "        accuracy                           0.95     15717\n",
      "       macro avg       0.96      0.95      0.95     15717\n",
      "    weighted avg       0.95      0.95      0.95     15717\n",
      "\n"
     ]
    }
   ],
   "source": [
    "from sklearn.metrics import classification_report\n",
    "\n",
    "y_true = np.argmax(y_test, axis = 1)\n",
    "y_pred = model.predict(x_test)\n",
    "y_pred = np.argmax(y_pred, axis=1)\n",
    "labels = [0,1,2,3,4,5,6,7,8,9]\n",
    "target_names = Class_Label.keys()\n",
    "\n",
    "print(y_true.shape, y_pred.shape)\n",
    "print(classification_report(y_true, y_pred, target_names=target_names))"
   ]
  },
  {
   "cell_type": "code",
   "execution_count": 27,
   "metadata": {},
   "outputs": [
    {
     "name": "stdout",
     "output_type": "stream",
     "text": [
      "95.0\n"
     ]
    }
   ],
   "source": [
    "from sklearn.metrics import accuracy_score\n",
    "z=np.around((accuracy_score(y_true, y_pred)*100), decimals=0)\n",
    "print(z)"
   ]
  },
  {
   "cell_type": "code",
   "execution_count": 28,
   "metadata": {},
   "outputs": [
    {
     "name": "stdout",
     "output_type": "stream",
     "text": [
      "[[1789    1   21    0    2    3    1    7    0   19]\n",
      " [   1  739    2    3    0    1    0    0    1   23]\n",
      " [  15    1 1632   13    7    6    1    1    3  120]\n",
      " [   9    3   98 1557   10    9    3    3   13   36]\n",
      " [   6    4    5    3 1685    2    0   43    0   18]\n",
      " [   8    1   19    6    1 1769    0    3    0   21]\n",
      " [   0    1    5    2    4    0  689    2    0    8]\n",
      " [   2    0    7    1   22    0    0 1774    0    8]\n",
      " [   0    4   30    7    0    8    0    3 1598   11]\n",
      " [   8    5   43   11    5    3    0   10    1 1698]]\n"
     ]
    }
   ],
   "source": [
    "from sklearn.metrics import confusion_matrix\n",
    "print(confusion_matrix(y_true, y_pred))"
   ]
  },
  {
   "cell_type": "code",
   "execution_count": 29,
   "metadata": {},
   "outputs": [
    {
     "data": {
      "image/png": "[encoded data removed]",
      "text/plain": [
       "<Figure size 432x288 with 1 Axes>"
      ]
     },
     "metadata": {
      "needs_background": "light"
     },
     "output_type": "display_data"
    },
    {
     "data": {
      "text/plain": [
       "<Figure size 720x288 with 0 Axes>"
      ]
     },
     "metadata": {},
     "output_type": "display_data"
    }
   ],
   "source": [
    "from sklearn.metrics import confusion_matrix\n",
    "import seaborn as sns\n",
    "import matplotlib.pyplot as plt\n",
    "\n",
    "ax=plt.subplot()\n",
    "mat = confusion_matrix(y_true, y_pred)\n",
    "plt.figure(figsize=(10,4))\n",
    "sns.heatmap(mat, square=False, annot=True, fmt='d',cbar=False,linewidths=.5,xticklabels=Class_Label.keys(),yticklabels=Class_Label.keys(), ax=ax, cmap='PuBuGn')\n",
    "bottom, top= ax.get_ylim()\n",
    "ax.set_ylim(bottom + 0.5 , top -0.5)\n",
    "ax.set_title('Confusion Matrix')\n",
    "ax.set_xlabel('True label')\n",
    "ax.set_ylabel('Predicted label');"
   ]
  },
  {
   "cell_type": "code",
   "execution_count": 30,
   "metadata": {},
   "outputs": [],
   "source": [
    "def acc_per_class(np_probs_array):    \n",
    "    accs = []\n",
    "    for idx in range(0, np_probs_array.shape[0]):\n",
    "        correct = np_probs_array[idx][idx].astype(int)\n",
    "        total = np_probs_array[idx].sum().astype(int)\n",
    "        acc = (correct / total) * 100\n",
    "        accs.append(acc)\n",
    "    return accs"
   ]
  },
  {
   "cell_type": "code",
   "execution_count": 32,
   "metadata": {},
   "outputs": [
    {
     "data": {
      "text/html": [
       "<div>\n",
       "<style scoped>\n",
       "    .dataframe tbody tr th:only-of-type {\n",
       "        vertical-align: middle;\n",
       "    }\n",
       "\n",
       "    .dataframe tbody tr th {\n",
       "        vertical-align: top;\n",
       "    }\n",
       "\n",
       "    .dataframe thead th {\n",
       "        text-align: right;\n",
       "    }\n",
       "</style>\n",
       "<table border=\"1\" class=\"dataframe\">\n",
       "  <thead>\n",
       "    <tr style=\"text-align: right;\">\n",
       "      <th></th>\n",
       "      <th>CLASS</th>\n",
       "      <th>ACCURACY</th>\n",
       "    </tr>\n",
       "  </thead>\n",
       "  <tbody>\n",
       "    <tr>\n",
       "      <td>7</td>\n",
       "      <td>Jackhammer</td>\n",
       "      <td>97.794928</td>\n",
       "    </tr>\n",
       "    <tr>\n",
       "      <td>0</td>\n",
       "      <td>Air Conditioner</td>\n",
       "      <td>97.069995</td>\n",
       "    </tr>\n",
       "    <tr>\n",
       "      <td>6</td>\n",
       "      <td>Gun Shot</td>\n",
       "      <td>96.905767</td>\n",
       "    </tr>\n",
       "    <tr>\n",
       "      <td>5</td>\n",
       "      <td>Engine Idling</td>\n",
       "      <td>96.772429</td>\n",
       "    </tr>\n",
       "    <tr>\n",
       "      <td>8</td>\n",
       "      <td>Siren</td>\n",
       "      <td>96.207104</td>\n",
       "    </tr>\n",
       "    <tr>\n",
       "      <td>1</td>\n",
       "      <td>Car Horn</td>\n",
       "      <td>95.974026</td>\n",
       "    </tr>\n",
       "    <tr>\n",
       "      <td>4</td>\n",
       "      <td>Drilling</td>\n",
       "      <td>95.413364</td>\n",
       "    </tr>\n",
       "    <tr>\n",
       "      <td>9</td>\n",
       "      <td>Street Music</td>\n",
       "      <td>95.179372</td>\n",
       "    </tr>\n",
       "    <tr>\n",
       "      <td>2</td>\n",
       "      <td>Children Playing</td>\n",
       "      <td>90.717065</td>\n",
       "    </tr>\n",
       "    <tr>\n",
       "      <td>3</td>\n",
       "      <td>Dog bark</td>\n",
       "      <td>89.431361</td>\n",
       "    </tr>\n",
       "  </tbody>\n",
       "</table>\n",
       "</div>"
      ],
      "text/plain": [
       "              CLASS   ACCURACY\n",
       "7        Jackhammer  97.794928\n",
       "0   Air Conditioner  97.069995\n",
       "6          Gun Shot  96.905767\n",
       "5     Engine Idling  96.772429\n",
       "8             Siren  96.207104\n",
       "1          Car Horn  95.974026\n",
       "4          Drilling  95.413364\n",
       "9      Street Music  95.179372\n",
       "2  Children Playing  90.717065\n",
       "3          Dog bark  89.431361"
      ]
     },
     "execution_count": 32,
     "metadata": {},
     "output_type": "execute_result"
    }
   ],
   "source": [
    "accuracies=acc_per_class(mat)\n",
    "labels = [\n",
    "        'Air Conditioner',\n",
    "        'Car Horn',\n",
    "        'Children Playing',\n",
    "        'Dog bark',\n",
    "        'Drilling',\n",
    "        'Engine Idling',\n",
    "        'Gun Shot',\n",
    "        'Jackhammer',\n",
    "        'Siren',\n",
    "        'Street Music'\n",
    "    ]\n",
    "pd.DataFrame({'CLASS':labels, 'ACCURACY': accuracies}).sort_values(by='ACCURACY', ascending=False)"
   ]
  },
  {
   "cell_type": "code",
   "execution_count": 33,
   "metadata": {},
   "outputs": [
    {
     "data": {
      "text/plain": [
       "Text(0.5, 1.0, 'Accuracy per Class')"
      ]
     },
     "execution_count": 33,
     "metadata": {},
     "output_type": "execute_result"
    },
    {
     "data": {
      "image/png": "[encoded data removed]",
      "text/plain": [
       "<Figure size 720x432 with 1 Axes>"
      ]
     },
     "metadata": {
      "needs_background": "light"
     },
     "output_type": "display_data"
    }
   ],
   "source": [
    "Y=np.around(accuracies , decimals=1)\n",
    "labels = [\n",
    "        'Air Conditioner',\n",
    "        'Car Horn',\n",
    "        'Children Playing',\n",
    "        'Dog bark',\n",
    "        'Drilling',\n",
    "        'Engine Idling',\n",
    "        'Gun Shot',\n",
    "        'Jackhammer',\n",
    "        'Siren',\n",
    "        'Street Music'\n",
    "    ]\n",
    "index=np.arange(len(labels))\n",
    "plt.figure(figsize=(10,6))\n",
    "plt.bar(index, Y, color='olive')\n",
    "plt.xticks(index, labels, rotation=90)\n",
    "plt.xlabel('Class_Name')\n",
    "plt.ylabel('Accuracy')\n",
    "plt.title('Accuracy per Class')"
   ]
  },
  {
   "cell_type": "code",
   "execution_count": null,
   "metadata": {},
   "outputs": [],
   "source": []
  }
 ],
 "metadata": {
  "kernelspec": {
   "display_name": "Python 3",
   "language": "python",
   "name": "python3"
  },
  "language_info": {
   "codemirror_mode": {
    "name": "ipython",
    "version": 3
   },
   "file_extension": ".py",
   "mimetype": "text/x-python",
   "name": "python",
   "nbconvert_exporter": "python",
   "pygments_lexer": "ipython3",
   "version": "3.7.4"
  }
 },
 "nbformat": 4,
 "nbformat_minor": 2
}
