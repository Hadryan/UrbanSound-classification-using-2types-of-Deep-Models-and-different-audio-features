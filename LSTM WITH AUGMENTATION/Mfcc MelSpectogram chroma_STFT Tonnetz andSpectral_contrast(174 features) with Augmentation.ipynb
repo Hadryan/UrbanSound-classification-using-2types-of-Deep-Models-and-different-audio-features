{
 "cells": [
  {
   "cell_type": "code",
   "execution_count": 1,
   "metadata": {},
   "outputs": [],
   "source": [
    "import os\n",
    "import sys\n",
    "from os import listdir\n",
    "from os.path import isfile, join\n",
    "import IPython.display as ipd\n",
    "import librosa \n",
    "import librosa.display\n",
    "%matplotlib inline\n",
    "import matplotlib.pyplot as plt\n",
    "import pandas as pd\n",
    "from scipy.io import wavfile as wav\n",
    "import numpy as np\n",
    "from timeit import default_timer as timer\n",
    "\n",
    "import tensorflow as tf"
   ]
  },
  {
   "cell_type": "code",
   "execution_count": 2,
   "metadata": {},
   "outputs": [
    {
     "name": "stdout",
     "output_type": "stream",
     "text": [
      "TensorFlow Version: 2.0.0\n",
      "Default GPU Device: /device:GPU:0\n"
     ]
    }
   ],
   "source": [
    "from distutils.version import LooseVersion\n",
    "import warnings\n",
    "import tensorflow as tf\n",
    "\n",
    "# Check TensorFlow Version\n",
    "assert LooseVersion(tf.__version__) >= LooseVersion('1.0'), 'Please use TensorFlow version 1.0 or newer.  You are using {}'.format(tf.__version__)\n",
    "print('TensorFlow Version: {}'.format(tf.__version__))\n",
    "\n",
    "# Check for a GPU\n",
    "if not tf.test.gpu_device_name():\n",
    "    warnings.warn('No GPU found. Please ensure you have installed TensorFlow correctly')\n",
    "else:\n",
    "    print('Default GPU Device: {}'.format(tf.test.gpu_device_name()))"
   ]
  },
  {
   "cell_type": "code",
   "execution_count": 3,
   "metadata": {},
   "outputs": [],
   "source": [
    "def extract_feature(file_name):\n",
    "    \n",
    "        audio, sample_rate = librosa.load(file_name, res_type='kaiser_fast')\n",
    "        stft=np.abs(librosa.stft(audio))\n",
    "        mfccs=np.mean(librosa.feature.mfcc(y=audio, sr=sample_rate, n_mfcc=21).T,axis=0)\n",
    "        chroma_stft=np.mean(librosa.feature.chroma_stft(y=audio, sr=sample_rate).T,axis=0)\n",
    "        mel = np.mean(librosa.feature.melspectrogram(audio, sr=sample_rate).T,axis=0)\n",
    "        contrast = np.mean(librosa.feature.spectral_contrast(S=stft, sr=sample_rate).T,axis=0)\n",
    "        tonnetz = np.mean(librosa.feature.tonnetz(y=librosa.effects.harmonic(audio), sr=sample_rate).T,axis=0)\n",
    "        \n",
    "   # except Exception as e:\n",
    "    #    print(\"Error encountered while parsing file: \", file)\n",
    "     #   return None\n",
    "    \n",
    "        return mfccs,chroma_stft,mel,contrast,tonnetz"
   ]
  },
  {
   "cell_type": "code",
   "execution_count": 4,
   "metadata": {},
   "outputs": [
    {
     "name": "stderr",
     "output_type": "stream",
     "text": [
      "C:\\Users\\Admin\\Anaconda3\\envs\\gputest\\lib\\site-packages\\librosa\\core\\pitch.py:146: UserWarning: Trying to estimate tuning from empty frequency set.\n",
      "  warnings.warn('Trying to estimate tuning from empty frequency set.')\n"
     ]
    },
    {
     "name": "stdout",
     "output_type": "stream",
     "text": [
      "time to extract features from one file: 0.011sec\n"
     ]
    }
   ],
   "source": [
    "start_time= timer()\n",
    "mfccs,chroma,mel,contrast,tonnetz= extract_feature('E:/Dataset/UrbanSound8K/audio/fold3/6988-5-0-4.wav')\n",
    "end_time=timer()\n",
    "print('time to extract features from one file: {:.3f}sec'.format((end_time-start_time)/60))"
   ]
  },
  {
   "cell_type": "code",
   "execution_count": 14,
   "metadata": {
    "scrolled": true
   },
   "outputs": [],
   "source": [
    "metadata=pd.read_csv('E:/Dataset/UrbanSound8K/metadata/UrbanSound8K.csv')\n",
    "metadata_ori=pd.read_csv('E:/Dataset/UrbanSound8K/Augmented_metadata/UrbanSound8k_Augmented.csv')\n"
   ]
  },
  {
   "cell_type": "code",
   "execution_count": 6,
   "metadata": {},
   "outputs": [
    {
     "name": "stdout",
     "output_type": "stream",
     "text": [
      "(21,) (12,) (128,) (7,) (6,)\n"
     ]
    }
   ],
   "source": [
    "print(mfccs.shape,chroma.shape,mel.shape,contrast.shape,tonnetz.shape)"
   ]
  },
  {
   "cell_type": "code",
   "execution_count": 7,
   "metadata": {},
   "outputs": [],
   "source": [
    "fold_list = ['fold1', 'fold2', 'fold3', 'fold4', 'fold5', 'fold6', 'fold7', 'fold8', 'fold9', 'fold10']"
   ]
  },
  {
   "cell_type": "code",
   "execution_count": 12,
   "metadata": {},
   "outputs": [],
   "source": [
    "Augment_list= ['pitch_2', 'pitch_-2','pitch_time290','pitch_time-290','pitch_time2110','pitch_time-2110','speed_90','speed_110']\n",
    "\n"
   ]
  },
  {
   "cell_type": "code",
   "execution_count": 16,
   "metadata": {
    "scrolled": true
   },
   "outputs": [
    {
     "name": "stdout",
     "output_type": "stream",
     "text": [
      "E:/Dataset/UrbanSound8K/Augmented_audio/fold1/pitch_2/.DS_Store\n"
     ]
    },
    {
     "name": "stderr",
     "output_type": "stream",
     "text": [
      "C:\\Users\\Admin\\Anaconda3\\envs\\gputest\\lib\\site-packages\\librosa\\core\\pitch.py:146: UserWarning: Trying to estimate tuning from empty frequency set.\n",
      "  warnings.warn('Trying to estimate tuning from empty frequency set.')\n"
     ]
    },
    {
     "name": "stdout",
     "output_type": "stream",
     "text": [
      "500\n"
     ]
    },
    {
     "name": "stderr",
     "output_type": "stream",
     "text": [
      "C:\\Users\\Admin\\Anaconda3\\envs\\gputest\\lib\\site-packages\\librosa\\util\\utils.py:1591: RuntimeWarning: invalid value encountered in less\n",
      "  if np.any(X < 0) or np.any(X_ref < 0):\n",
      "C:\\Users\\Admin\\Anaconda3\\envs\\gputest\\lib\\site-packages\\librosa\\util\\utils.py:1604: RuntimeWarning: invalid value encountered in less\n",
      "  bad_idx = (Z < np.finfo(dtype).tiny)\n"
     ]
    },
    {
     "name": "stdout",
     "output_type": "stream",
     "text": [
      "E:/Dataset/UrbanSound8K/Augmented_audio/fold1/pitch_2/87275-1-1-0.wav\n",
      "E:/Dataset/UrbanSound8K/Augmented_audio/fold1/pitch_2/87275-1-3-0.wav\n",
      "E:/Dataset/UrbanSound8K/Augmented_audio/fold1/pitch_2/87275-1-4-0.wav\n",
      "E:/Dataset/UrbanSound8K/Augmented_audio/fold1/pitch_-2/.DS_Store\n",
      "1000\n",
      "1500\n",
      "E:/Dataset/UrbanSound8K/Augmented_audio/fold1/pitch_-2/87275-1-2-0.wav\n",
      "E:/Dataset/UrbanSound8K/Augmented_audio/fold1/pitch_-2/87275-1-3-0.wav\n",
      "E:/Dataset/UrbanSound8K/Augmented_audio/fold1/pitch_-2/87275-1-4-0.wav\n",
      "E:/Dataset/UrbanSound8K/Augmented_audio/fold1/pitch_time290/.DS_Store\n",
      "2000\n",
      "2500\n",
      "E:/Dataset/UrbanSound8K/Augmented_audio/fold1/pitch_time290/87275-1-1-0.wav\n",
      "E:/Dataset/UrbanSound8K/Augmented_audio/fold1/pitch_time290/87275-1-2-0.wav\n",
      "E:/Dataset/UrbanSound8K/Augmented_audio/fold1/pitch_time290/87275-1-3-0.wav\n",
      "E:/Dataset/UrbanSound8K/Augmented_audio/fold1/pitch_time-290/.DS_Store\n",
      "3000\n",
      "E:/Dataset/UrbanSound8K/Augmented_audio/fold1/pitch_time-290/87275-1-1-0.wav\n",
      "E:/Dataset/UrbanSound8K/Augmented_audio/fold1/pitch_time-290/87275-1-2-0.wav\n",
      "E:/Dataset/UrbanSound8K/Augmented_audio/fold1/pitch_time-290/87275-1-3-0.wav\n",
      "E:/Dataset/UrbanSound8K/Augmented_audio/fold1/pitch_time2110/.DS_Store\n",
      "3500\n",
      "4000\n",
      "E:/Dataset/UrbanSound8K/Augmented_audio/fold1/pitch_time2110/87275-1-1-0.wav\n",
      "E:/Dataset/UrbanSound8K/Augmented_audio/fold1/pitch_time2110/87275-1-2-0.wav\n",
      "E:/Dataset/UrbanSound8K/Augmented_audio/fold1/pitch_time-2110/.DS_Store\n",
      "4500\n",
      "5000\n",
      "E:/Dataset/UrbanSound8K/Augmented_audio/fold1/pitch_time-2110/87275-1-1-0.wav\n",
      "E:/Dataset/UrbanSound8K/Augmented_audio/fold1/pitch_time-2110/87275-1-2-0.wav\n",
      "E:/Dataset/UrbanSound8K/Augmented_audio/fold1/speed_90/.DS_Store\n",
      "5500\n",
      "6000\n",
      "E:/Dataset/UrbanSound8K/Augmented_audio/fold1/speed_110/.DS_Store\n",
      "6500\n",
      "E:/Dataset/UrbanSound8K/Augmented_audio/fold1/speed_110/87275-1-1-0.wav\n",
      "E:/Dataset/UrbanSound8K/Augmented_audio/fold1/speed_110/87275-1-2-0.wav\n",
      "E:/Dataset/UrbanSound8K/Augmented_audio/fold2/pitch_2/.DS_Store\n",
      "7000\n",
      "7500\n",
      "E:/Dataset/UrbanSound8K/Augmented_audio/fold2/pitch_-2/.DS_Store\n",
      "8000\n",
      "8500\n",
      "E:/Dataset/UrbanSound8K/Augmented_audio/fold2/pitch_time290/.DS_Store\n",
      "9000\n",
      "9500\n",
      "E:/Dataset/UrbanSound8K/Augmented_audio/fold2/pitch_time-290/.DS_Store\n",
      "10000\n",
      "10500\n",
      "E:/Dataset/UrbanSound8K/Augmented_audio/fold2/pitch_time2110/.DS_Store\n",
      "E:/Dataset/UrbanSound8K/Augmented_audio/fold2/pitch_time2110/17307-1-0-0.wav\n",
      "11000\n",
      "E:/Dataset/UrbanSound8K/Augmented_audio/fold2/pitch_time-2110/.DS_Store\n",
      "11500\n",
      "12000\n",
      "E:/Dataset/UrbanSound8K/Augmented_audio/fold2/speed_90/.DS_Store\n",
      "12500\n",
      "E:/Dataset/UrbanSound8K/Augmented_audio/fold2/speed_90/17307-1-0-0.wav\n",
      "13000\n",
      "E:/Dataset/UrbanSound8K/Augmented_audio/fold2/speed_110/.DS_Store\n",
      "13500\n",
      "E:/Dataset/UrbanSound8K/Augmented_audio/fold2/speed_110/17307-1-0-0.wav\n",
      "14000\n",
      "E:/Dataset/UrbanSound8K/Augmented_audio/fold3/pitch_2/.DS_Store\n",
      "14500\n",
      "E:/Dataset/UrbanSound8K/Augmented_audio/fold3/pitch_-2/.DS_Store\n",
      "15000\n",
      "15500\n",
      "E:/Dataset/UrbanSound8K/Augmented_audio/fold3/pitch_time290/.DS_Store\n",
      "16000\n",
      "16500\n",
      "E:/Dataset/UrbanSound8K/Augmented_audio/fold3/pitch_time-290/.DS_Store\n",
      "17000\n",
      "17500\n",
      "E:/Dataset/UrbanSound8K/Augmented_audio/fold3/pitch_time2110/.DS_Store\n",
      "18000\n",
      "18500\n",
      "E:/Dataset/UrbanSound8K/Augmented_audio/fold3/pitch_time-2110/.DS_Store\n",
      "19000\n",
      "19500\n",
      "E:/Dataset/UrbanSound8K/Augmented_audio/fold3/speed_90/.DS_Store\n",
      "20000\n",
      "20500\n",
      "E:/Dataset/UrbanSound8K/Augmented_audio/fold3/speed_110/.DS_Store\n",
      "21000\n",
      "E:/Dataset/UrbanSound8K/Augmented_audio/fold4/pitch_2/.DS_Store\n",
      "21500\n",
      "22000\n",
      "E:/Dataset/UrbanSound8K/Augmented_audio/fold4/pitch_-2/.DS_Store\n",
      "22500\n",
      "23000\n",
      "E:/Dataset/UrbanSound8K/Augmented_audio/fold4/pitch_time290/.DS_Store\n",
      "23500\n",
      "24000\n",
      "E:/Dataset/UrbanSound8K/Augmented_audio/fold4/pitch_time-290/.DS_Store\n",
      "24500\n",
      "25000\n",
      "E:/Dataset/UrbanSound8K/Augmented_audio/fold4/pitch_time2110/.DS_Store\n",
      "25500\n",
      "26000\n",
      "E:/Dataset/UrbanSound8K/Augmented_audio/fold4/pitch_time-2110/.DS_Store\n",
      "26500\n",
      "27000\n",
      "E:/Dataset/UrbanSound8K/Augmented_audio/fold4/speed_90/.DS_Store\n",
      "27500\n",
      "28000\n",
      "E:/Dataset/UrbanSound8K/Augmented_audio/fold4/speed_110/.DS_Store\n",
      "28500\n",
      "29000\n",
      "E:/Dataset/UrbanSound8K/Augmented_audio/fold5/pitch_2/.DS_Store\n",
      "29500\n",
      "30000\n",
      "E:/Dataset/UrbanSound8K/Augmented_audio/fold5/pitch_-2/.DS_Store\n",
      "30500\n",
      "31000\n",
      "E:/Dataset/UrbanSound8K/Augmented_audio/fold5/pitch_time290/.DS_Store\n",
      "31500\n",
      "32000\n",
      "E:/Dataset/UrbanSound8K/Augmented_audio/fold5/pitch_time-290/.DS_Store\n",
      "32500\n",
      "33000\n",
      "E:/Dataset/UrbanSound8K/Augmented_audio/fold5/pitch_time2110/.DS_Store\n",
      "33500\n",
      "34000\n",
      "E:/Dataset/UrbanSound8K/Augmented_audio/fold5/pitch_time-2110/.DS_Store\n",
      "34500\n",
      "35000\n",
      "E:/Dataset/UrbanSound8K/Augmented_audio/fold5/speed_90/.DS_Store\n",
      "35500\n",
      "E:/Dataset/UrbanSound8K/Augmented_audio/fold5/speed_110/.DS_Store\n",
      "36000\n",
      "36500\n",
      "E:/Dataset/UrbanSound8K/Augmented_audio/fold6/pitch_2/.DS_Store\n",
      "37000\n",
      "37500\n",
      "E:/Dataset/UrbanSound8K/Augmented_audio/fold6/pitch_-2/.DS_Store\n",
      "38000\n",
      "38500\n",
      "E:/Dataset/UrbanSound8K/Augmented_audio/fold6/pitch_time290/.DS_Store\n",
      "39000\n",
      "E:/Dataset/UrbanSound8K/Augmented_audio/fold6/pitch_time-290/.DS_Store\n",
      "39500\n",
      "40000\n",
      "E:/Dataset/UrbanSound8K/Augmented_audio/fold6/pitch_time2110/.DS_Store\n",
      "40500\n",
      "E:/Dataset/UrbanSound8K/Augmented_audio/fold6/pitch_time-2110/.DS_Store\n",
      "41000\n",
      "41500\n",
      "E:/Dataset/UrbanSound8K/Augmented_audio/fold6/speed_90/.DS_Store\n",
      "42000\n",
      "42500\n",
      "E:/Dataset/UrbanSound8K/Augmented_audio/fold6/speed_110/.DS_Store\n",
      "43000\n",
      "E:/Dataset/UrbanSound8K/Augmented_audio/fold7/pitch_2/.DS_Store\n",
      "43500\n",
      "44000\n",
      "E:/Dataset/UrbanSound8K/Augmented_audio/fold7/pitch_-2/.DS_Store\n",
      "44500\n",
      "45000\n",
      "E:/Dataset/UrbanSound8K/Augmented_audio/fold7/pitch_time290/.DS_Store\n",
      "45500\n",
      "E:/Dataset/UrbanSound8K/Augmented_audio/fold7/pitch_time-290/.DS_Store\n",
      "46000\n",
      "46500\n",
      "E:/Dataset/UrbanSound8K/Augmented_audio/fold7/pitch_time2110/.DS_Store\n",
      "47000\n",
      "47500\n",
      "E:/Dataset/UrbanSound8K/Augmented_audio/fold7/pitch_time-2110/.DS_Store\n",
      "48000\n",
      "E:/Dataset/UrbanSound8K/Augmented_audio/fold7/speed_90/.DS_Store\n",
      "48500\n",
      "49000\n",
      "E:/Dataset/UrbanSound8K/Augmented_audio/fold7/speed_110/.DS_Store\n",
      "49500\n",
      "50000\n",
      "E:/Dataset/UrbanSound8K/Augmented_audio/fold8/pitch_2/.DS_Store\n",
      "50500\n",
      "E:/Dataset/UrbanSound8K/Augmented_audio/fold8/pitch_-2/.DS_Store\n",
      "51000\n",
      "51500\n",
      "E:/Dataset/UrbanSound8K/Augmented_audio/fold8/pitch_time290/.DS_Store\n",
      "52000\n",
      "52500\n",
      "E:/Dataset/UrbanSound8K/Augmented_audio/fold8/pitch_time-290/.DS_Store\n",
      "53000\n",
      "E:/Dataset/UrbanSound8K/Augmented_audio/fold8/pitch_time2110/.DS_Store\n",
      "53500\n",
      "54000\n",
      "E:/Dataset/UrbanSound8K/Augmented_audio/fold8/pitch_time-2110/.DS_Store\n",
      "54500\n",
      "E:/Dataset/UrbanSound8K/Augmented_audio/fold8/speed_90/.DS_Store\n",
      "55000\n",
      "55500\n",
      "E:/Dataset/UrbanSound8K/Augmented_audio/fold8/speed_110/.DS_Store\n",
      "56000\n",
      "56500\n",
      "E:/Dataset/UrbanSound8K/Augmented_audio/fold9/pitch_2/.DS_Store\n",
      "57000\n",
      "E:/Dataset/UrbanSound8K/Augmented_audio/fold9/pitch_-2/.DS_Store\n",
      "57500\n",
      "58000\n",
      "E:/Dataset/UrbanSound8K/Augmented_audio/fold9/pitch_time290/.DS_Store\n",
      "58500\n",
      "59000\n",
      "E:/Dataset/UrbanSound8K/Augmented_audio/fold9/pitch_time-290/.DS_Store\n",
      "59500\n",
      "E:/Dataset/UrbanSound8K/Augmented_audio/fold9/pitch_time2110/.DS_Store\n",
      "60000\n",
      "60500\n",
      "E:/Dataset/UrbanSound8K/Augmented_audio/fold9/pitch_time-2110/.DS_Store\n",
      "61000\n",
      "61500\n",
      "E:/Dataset/UrbanSound8K/Augmented_audio/fold9/speed_90/.DS_Store\n",
      "62000\n",
      "E:/Dataset/UrbanSound8K/Augmented_audio/fold9/speed_110/.DS_Store\n",
      "62500\n",
      "63000\n",
      "E:/Dataset/UrbanSound8K/Augmented_audio/fold10/pitch_2/.DS_Store\n",
      "63500\n",
      "E:/Dataset/UrbanSound8K/Augmented_audio/fold10/pitch_-2/.DS_Store\n",
      "64000\n",
      "64500\n",
      "E:/Dataset/UrbanSound8K/Augmented_audio/fold10/pitch_time290/.DS_Store\n",
      "65000\n",
      "65500\n",
      "E:/Dataset/UrbanSound8K/Augmented_audio/fold10/pitch_time-290/.DS_Store\n",
      "66000\n",
      "E:/Dataset/UrbanSound8K/Augmented_audio/fold10/pitch_time2110/.DS_Store\n",
      "66500\n",
      "67000\n",
      "E:/Dataset/UrbanSound8K/Augmented_audio/fold10/pitch_time-2110/.DS_Store\n",
      "67500\n",
      "68000\n",
      "E:/Dataset/UrbanSound8K/Augmented_audio/fold10/speed_90/.DS_Store\n",
      "68500\n",
      "E:/Dataset/UrbanSound8K/Augmented_audio/fold10/speed_110/.DS_Store\n",
      "69000\n",
      "69500\n",
      "E:/Dataset/UrbanSound8K/audio/fold1/.DS_Store\n",
      "E:/Dataset/UrbanSound8K/audio/fold1/87275-1-1-0.wav\n",
      "E:/Dataset/UrbanSound8K/audio/fold2/.DS_Store\n",
      "E:/Dataset/UrbanSound8K/audio/fold2/17307-1-0-0.wav\n",
      "E:/Dataset/UrbanSound8K/audio/fold3/.DS_Store\n",
      "E:/Dataset/UrbanSound8K/audio/fold4/.DS_Store\n",
      "E:/Dataset/UrbanSound8K/audio/fold5/.DS_Store\n",
      "E:/Dataset/UrbanSound8K/audio/fold6/.DS_Store\n",
      "E:/Dataset/UrbanSound8K/audio/fold7/.DS_Store\n",
      "E:/Dataset/UrbanSound8K/audio/fold8/.DS_Store\n"
     ]
    },
    {
     "name": "stdout",
     "output_type": "stream",
     "text": [
      "E:/Dataset/UrbanSound8K/audio/fold9/.DS_Store\n",
      "E:/Dataset/UrbanSound8K/audio/fold10/.DS_Store\n",
      "Exceptions:  113\n",
      "time taken: 291.0 minutes 22.4 seconds\n",
      "None\n",
      "Finished feature extraction from all folder\n"
     ]
    }
   ],
   "source": [
    "stacked_features = []\n",
    "exceptions=0\n",
    "count=0\n",
    "\n",
    "start_time = timer()\n",
    "for i in range(10):\n",
    "    for j in range(8):\n",
    "  \n",
    "        mypath = 'E:/Dataset/UrbanSound8K/Augmented_audio/'+ fold_list[i] + '/' + Augment_list[j] + '/'\n",
    "        files = [mypath + f for f in listdir(mypath) if isfile(join(mypath, f))]\n",
    "\n",
    "        for fn in files:\n",
    "            try: \n",
    "                mfccs,chroma,mel,contrast,tonnetz = extract_feature(fn)\n",
    "                features = np.empty((0,174))\n",
    "                ext_features = np.hstack([mfccs,chroma,mel,contrast,tonnetz])\n",
    "                features = np.reshape(np.vstack([features,ext_features]),(29,6))\n",
    "                count +=1\n",
    "                if(count%500==0):\n",
    "                    print(count)\n",
    "\n",
    "\n",
    "            except: \n",
    "                print(fn)\n",
    "                exceptions += 1\n",
    "                continue\n",
    "\n",
    "            l_row = metadata_ori.loc[metadata_ori['file']==fn.split('/')[-1]].values.tolist()\n",
    "            label = l_row[0][-4]\n",
    "            fold = i+1\n",
    "            \n",
    "\n",
    "            stacked_features.append([features, features.shape, label, fold])\n",
    "\n",
    "            \n",
    "for i in range(10):\n",
    "    \n",
    "    mypath = 'E:/Dataset/UrbanSound8K/audio/'+ fold_list[i] + '/'\n",
    "    files = [mypath + f for f in listdir(mypath) if isfile(join(mypath, f))]\n",
    "    \n",
    "    for fn in files:\n",
    "        try:\n",
    "            mfccs,chroma,mel,contrast,tonnetz = extract_feature(fn)\n",
    "            features = np.empty((0,174))\n",
    "            ext_features = np.hstack([mfccs,chroma,mel,contrast,tonnetz])\n",
    "            features = np.reshape(np.vstack([features,ext_features]),(29,6))\n",
    "            \n",
    "        except: \n",
    "            print(fn)\n",
    "            exceptions += 1\n",
    "            continue\n",
    "            \n",
    "        l_row = metadata.loc[metadata['slice_file_name']==fn.split('/')[-1]].values.tolist()\n",
    "        label = l_row[0][-1]\n",
    "        fold = i+1\n",
    "    \n",
    "        stacked_features.append([features, features.shape, label, fold])\n",
    "        \n",
    "        \n",
    "print(\"Exceptions: \", exceptions)\n",
    "end_time = timer()\n",
    "print(print(\"time taken: {0} minutes {1:.1f} seconds\".format((end_time - start_time)//60, (end_time - start_time)%60)))\n",
    "print('Finished feature extraction from all folder')"
   ]
  },
  {
   "cell_type": "code",
   "execution_count": 17,
   "metadata": {},
   "outputs": [
    {
     "name": "stdout",
     "output_type": "stream",
     "text": [
      "<class 'pandas.core.frame.DataFrame'>\n",
      "RangeIndex: 78565 entries, 0 to 78564\n",
      "Data columns (total 4 columns):\n",
      " #   Column            Non-Null Count  Dtype \n",
      "---  ------            --------------  ----- \n",
      " 0   Stacked_Features  78565 non-null  object\n",
      " 1   Matrix_Shape      78565 non-null  object\n",
      " 2   Label             78565 non-null  object\n",
      " 3   Fold              78565 non-null  int64 \n",
      "dtypes: int64(1), object(3)\n",
      "memory usage: 2.4+ MB\n"
     ]
    }
   ],
   "source": [
    "cols=['Stacked_Features', 'Matrix_Shape', 'Label', 'Fold']\n",
    "Stacked_feature_pd=pd.DataFrame(data=stacked_features , columns=cols)\n",
    "Stacked_feature_pd.info()"
   ]
  },
  {
   "cell_type": "code",
   "execution_count": 34,
   "metadata": {},
   "outputs": [
    {
     "data": {
      "text/html": [
       "<div>\n",
       "<style scoped>\n",
       "    .dataframe tbody tr th:only-of-type {\n",
       "        vertical-align: middle;\n",
       "    }\n",
       "\n",
       "    .dataframe tbody tr th {\n",
       "        vertical-align: top;\n",
       "    }\n",
       "\n",
       "    .dataframe thead th {\n",
       "        text-align: right;\n",
       "    }\n",
       "</style>\n",
       "<table border=\"1\" class=\"dataframe\">\n",
       "  <thead>\n",
       "    <tr style=\"text-align: right;\">\n",
       "      <th></th>\n",
       "      <th>Stacked_Features</th>\n",
       "      <th>Matrix_Shape</th>\n",
       "      <th>Label</th>\n",
       "      <th>Fold</th>\n",
       "    </tr>\n",
       "  </thead>\n",
       "  <tbody>\n",
       "    <tr>\n",
       "      <th>0</th>\n",
       "      <td>[[-428.4471130371094, 98.53794860839844, 10.22...</td>\n",
       "      <td>(29, 6)</td>\n",
       "      <td>dog_bark</td>\n",
       "      <td>1</td>\n",
       "    </tr>\n",
       "    <tr>\n",
       "      <th>1</th>\n",
       "      <td>[[-383.4932861328125, 132.21249389648438, 17.8...</td>\n",
       "      <td>(29, 6)</td>\n",
       "      <td>dog_bark</td>\n",
       "      <td>1</td>\n",
       "    </tr>\n",
       "    <tr>\n",
       "      <th>2</th>\n",
       "      <td>[[-462.9029846191406, 78.42694854736328, 6.544...</td>\n",
       "      <td>(29, 6)</td>\n",
       "      <td>dog_bark</td>\n",
       "      <td>1</td>\n",
       "    </tr>\n",
       "    <tr>\n",
       "      <th>3</th>\n",
       "      <td>[[-282.76763916015625, 93.10582733154297, -51....</td>\n",
       "      <td>(29, 6)</td>\n",
       "      <td>dog_bark</td>\n",
       "      <td>1</td>\n",
       "    </tr>\n",
       "    <tr>\n",
       "      <th>4</th>\n",
       "      <td>[[-409.9855041503906, 125.34252166748047, 28.1...</td>\n",
       "      <td>(29, 6)</td>\n",
       "      <td>gun_shot</td>\n",
       "      <td>1</td>\n",
       "    </tr>\n",
       "  </tbody>\n",
       "</table>\n",
       "</div>"
      ],
      "text/plain": [
       "                                    Stacked_Features Matrix_Shape     Label  \\\n",
       "0  [[-428.4471130371094, 98.53794860839844, 10.22...      (29, 6)  dog_bark   \n",
       "1  [[-383.4932861328125, 132.21249389648438, 17.8...      (29, 6)  dog_bark   \n",
       "2  [[-462.9029846191406, 78.42694854736328, 6.544...      (29, 6)  dog_bark   \n",
       "3  [[-282.76763916015625, 93.10582733154297, -51....      (29, 6)  dog_bark   \n",
       "4  [[-409.9855041503906, 125.34252166748047, 28.1...      (29, 6)  gun_shot   \n",
       "\n",
       "   Fold  \n",
       "0     1  \n",
       "1     1  \n",
       "2     1  \n",
       "3     1  \n",
       "4     1  "
      ]
     },
     "execution_count": 34,
     "metadata": {},
     "output_type": "execute_result"
    }
   ],
   "source": [
    "Stacked_feature_pd.head()"
   ]
  },
  {
   "cell_type": "code",
   "execution_count": 36,
   "metadata": {},
   "outputs": [],
   "source": [
    "\n",
    "\n",
    "from sklearn.preprocessing import LabelEncoder\n",
    "from keras.utils import to_categorical\n",
    "\n",
    "\n",
    "X = np.array(Stacked_feature_pd.Stacked_Features.tolist())\n",
    "y = np.array(Stacked_feature_pd.Label.tolist())\n",
    "\n",
    "\n",
    "le = LabelEncoder()\n",
    "yy = to_categorical(le.fit_transform(y))"
   ]
  },
  {
   "cell_type": "code",
   "execution_count": 37,
   "metadata": {},
   "outputs": [],
   "source": [
    "\n",
    "\n",
    "from sklearn.model_selection import train_test_split \n",
    "\n",
    "x_train, x_test, y_train, y_test = train_test_split(X, yy, test_size=0.2, random_state=42)\n",
    "\n"
   ]
  },
  {
   "cell_type": "code",
   "execution_count": 38,
   "metadata": {},
   "outputs": [
    {
     "name": "stdout",
     "output_type": "stream",
     "text": [
      "(62852, 29, 6) (15713, 29, 6) (62852, 10) (15713, 10) (78565, 10)\n"
     ]
    }
   ],
   "source": [
    "print(x_train.shape, x_test.shape, y_train.shape, y_test.shape, yy.shape)"
   ]
  },
  {
   "cell_type": "code",
   "execution_count": 44,
   "metadata": {},
   "outputs": [
    {
     "name": "stdout",
     "output_type": "stream",
     "text": [
      "(62852, 29, 6, 1) (15713, 29, 6, 1)\n"
     ]
    }
   ],
   "source": [
    "x_train=np.reshape(x_train,(x_train.shape[0], 29,6,1))\n",
    "x_test=np.reshape(x_test,(x_test.shape[0], 29,6,1))\n",
    "print(x_train.shape, x_test.shape)\n",
    "\n"
   ]
  },
  {
   "cell_type": "code",
   "execution_count": 45,
   "metadata": {},
   "outputs": [],
   "source": [
    "import numpy as np\n",
    "from keras.models import Sequential\n",
    "from keras.layers import Dense, Dropout, Activation, Flatten\n",
    "from keras.layers import Convolution2D, Conv2D, MaxPooling2D, GlobalAveragePooling2D\n",
    "from keras.optimizers import Adam\n",
    "from keras.utils import np_utils\n",
    "from sklearn import metrics"
   ]
  },
  {
   "cell_type": "code",
   "execution_count": 46,
   "metadata": {},
   "outputs": [],
   "source": [
    "\n",
    "\n",
    "model=Sequential()\n",
    "model.add(Conv2D(64,kernel_size=5,strides=1,padding=\"Same\",activation=\"relu\",input_shape=(29,6,1)))\n",
    "model.add(MaxPooling2D(padding=\"same\"))\n",
    "\n",
    "model.add(Conv2D(128,kernel_size=5,strides=1,padding=\"same\",activation=\"relu\"))\n",
    "model.add(MaxPooling2D(padding=\"same\"))\n",
    "model.add(Dropout(0.3))\n",
    "\n",
    "model.add(Flatten())\n",
    "#model.add(GlobalAveragePooling2D())\n",
    "\n",
    "\n",
    "model.add(Dense(256,activation=\"relu\"))\n",
    "model.add(Dropout(0.3))\n",
    "\n",
    "model.add(Dense(512,activation=\"relu\"))\n",
    "model.add(Dropout(0.3))\n",
    "\n",
    "model.add(Dense(10,activation=\"softmax\"))\n",
    "\n"
   ]
  },
  {
   "cell_type": "code",
   "execution_count": 47,
   "metadata": {},
   "outputs": [
    {
     "name": "stdout",
     "output_type": "stream",
     "text": [
      "Model: \"sequential_5\"\n",
      "_________________________________________________________________\n",
      "Layer (type)                 Output Shape              Param #   \n",
      "=================================================================\n",
      "conv2d_9 (Conv2D)            (None, 29, 6, 64)         1664      \n",
      "_________________________________________________________________\n",
      "max_pooling2d_9 (MaxPooling2 (None, 15, 3, 64)         0         \n",
      "_________________________________________________________________\n",
      "conv2d_10 (Conv2D)           (None, 15, 3, 128)        204928    \n",
      "_________________________________________________________________\n",
      "max_pooling2d_10 (MaxPooling (None, 8, 2, 128)         0         \n",
      "_________________________________________________________________\n",
      "dropout_13 (Dropout)         (None, 8, 2, 128)         0         \n",
      "_________________________________________________________________\n",
      "flatten_5 (Flatten)          (None, 2048)              0         \n",
      "_________________________________________________________________\n",
      "dense_13 (Dense)             (None, 256)               524544    \n",
      "_________________________________________________________________\n",
      "dropout_14 (Dropout)         (None, 256)               0         \n",
      "_________________________________________________________________\n",
      "dense_14 (Dense)             (None, 512)               131584    \n",
      "_________________________________________________________________\n",
      "dropout_15 (Dropout)         (None, 512)               0         \n",
      "_________________________________________________________________\n",
      "dense_15 (Dense)             (None, 10)                5130      \n",
      "=================================================================\n",
      "Total params: 867,850\n",
      "Trainable params: 867,850\n",
      "Non-trainable params: 0\n",
      "_________________________________________________________________\n"
     ]
    }
   ],
   "source": [
    "model.compile(loss='categorical_crossentropy', metrics=['accuracy'], optimizer='adam')\n",
    "model.summary()"
   ]
  },
  {
   "cell_type": "code",
   "execution_count": 48,
   "metadata": {},
   "outputs": [
    {
     "name": "stdout",
     "output_type": "stream",
     "text": [
      "Model: \"sequential_5\"\n",
      "_________________________________________________________________\n",
      "Layer (type)                 Output Shape              Param #   \n",
      "=================================================================\n",
      "conv2d_9 (Conv2D)            (None, 29, 6, 64)         1664      \n",
      "_________________________________________________________________\n",
      "max_pooling2d_9 (MaxPooling2 (None, 15, 3, 64)         0         \n",
      "_________________________________________________________________\n",
      "conv2d_10 (Conv2D)           (None, 15, 3, 128)        204928    \n",
      "_________________________________________________________________\n",
      "max_pooling2d_10 (MaxPooling (None, 8, 2, 128)         0         \n",
      "_________________________________________________________________\n",
      "dropout_13 (Dropout)         (None, 8, 2, 128)         0         \n",
      "_________________________________________________________________\n",
      "flatten_5 (Flatten)          (None, 2048)              0         \n",
      "_________________________________________________________________\n",
      "dense_13 (Dense)             (None, 256)               524544    \n",
      "_________________________________________________________________\n",
      "dropout_14 (Dropout)         (None, 256)               0         \n",
      "_________________________________________________________________\n",
      "dense_14 (Dense)             (None, 512)               131584    \n",
      "_________________________________________________________________\n",
      "dropout_15 (Dropout)         (None, 512)               0         \n",
      "_________________________________________________________________\n",
      "dense_15 (Dense)             (None, 10)                5130      \n",
      "=================================================================\n",
      "Total params: 867,850\n",
      "Trainable params: 867,850\n",
      "Non-trainable params: 0\n",
      "_________________________________________________________________\n"
     ]
    }
   ],
   "source": [
    "model.compile(loss='categorical_crossentropy', metrics=['accuracy'], optimizer='adam')\n",
    "model.summary()"
   ]
  },
  {
   "cell_type": "code",
   "execution_count": 49,
   "metadata": {},
   "outputs": [
    {
     "name": "stdout",
     "output_type": "stream",
     "text": [
      "Pre-training accuracy: 11.4237%\n"
     ]
    }
   ],
   "source": [
    "score = model.evaluate(x_test, y_test, verbose=0)\n",
    "accuracy = 100*score[1]\n",
    "\n",
    "print(\"Pre-training accuracy: %.4f%%\" % accuracy)"
   ]
  },
  {
   "cell_type": "code",
   "execution_count": 50,
   "metadata": {},
   "outputs": [
    {
     "name": "stdout",
     "output_type": "stream",
     "text": [
      "Train on 62852 samples, validate on 15713 samples\n",
      "Epoch 1/30\n",
      "62852/62852 [==============================] - 6s 98us/step - loss: 1.5087 - accuracy: 0.4767 - val_loss: 0.9589 - val_accuracy: 0.6819\n",
      "Epoch 2/30\n",
      "62852/62852 [==============================] - 6s 93us/step - loss: 1.0301 - accuracy: 0.6538 - val_loss: 0.7111 - val_accuracy: 0.7599\n",
      "Epoch 3/30\n",
      "62852/62852 [==============================] - 6s 93us/step - loss: 0.8505 - accuracy: 0.7183 - val_loss: 0.5789 - val_accuracy: 0.8051\n",
      "Epoch 4/30\n",
      "62852/62852 [==============================] - 6s 91us/step - loss: 0.7207 - accuracy: 0.7612 - val_loss: 0.4802 - val_accuracy: 0.8315\n",
      "Epoch 5/30\n",
      "62852/62852 [==============================] - 6s 93us/step - loss: 0.6491 - accuracy: 0.7841 - val_loss: 0.4226 - val_accuracy: 0.8608\n",
      "Epoch 6/30\n",
      "62852/62852 [==============================] - 6s 92us/step - loss: 0.5930 - accuracy: 0.8033 - val_loss: 0.3991 - val_accuracy: 0.8659\n",
      "Epoch 7/30\n",
      "62852/62852 [==============================] - 6s 94us/step - loss: 0.5575 - accuracy: 0.8157 - val_loss: 0.3373 - val_accuracy: 0.8853\n",
      "Epoch 8/30\n",
      "62852/62852 [==============================] - 6s 92us/step - loss: 0.5226 - accuracy: 0.8285 - val_loss: 0.3134 - val_accuracy: 0.8995\n",
      "Epoch 9/30\n",
      "62852/62852 [==============================] - 6s 94us/step - loss: 0.4867 - accuracy: 0.8398 - val_loss: 0.3021 - val_accuracy: 0.9019\n",
      "Epoch 10/30\n",
      "62852/62852 [==============================] - 6s 94us/step - loss: 0.4707 - accuracy: 0.8444 - val_loss: 0.2819 - val_accuracy: 0.9094\n",
      "Epoch 11/30\n",
      "62852/62852 [==============================] - 6s 92us/step - loss: 0.4431 - accuracy: 0.8539 - val_loss: 0.2588 - val_accuracy: 0.9160\n",
      "Epoch 12/30\n",
      "62852/62852 [==============================] - 6s 93us/step - loss: 0.4276 - accuracy: 0.8582 - val_loss: 0.2611 - val_accuracy: 0.9136\n",
      "Epoch 13/30\n",
      "62852/62852 [==============================] - 6s 93us/step - loss: 0.4287 - accuracy: 0.8614 - val_loss: 0.2352 - val_accuracy: 0.9240\n",
      "Epoch 14/30\n",
      "62852/62852 [==============================] - 6s 93us/step - loss: 0.3934 - accuracy: 0.8724 - val_loss: 0.2517 - val_accuracy: 0.9234\n",
      "Epoch 15/30\n",
      "62852/62852 [==============================] - 6s 92us/step - loss: 0.4077 - accuracy: 0.8688 - val_loss: 0.2130 - val_accuracy: 0.9319\n",
      "Epoch 16/30\n",
      "62852/62852 [==============================] - 6s 92us/step - loss: 0.3873 - accuracy: 0.8764 - val_loss: 0.2184 - val_accuracy: 0.9260\n",
      "Epoch 17/30\n",
      "62852/62852 [==============================] - 6s 92us/step - loss: 0.3605 - accuracy: 0.8828 - val_loss: 0.2198 - val_accuracy: 0.9292\n",
      "Epoch 18/30\n",
      "62852/62852 [==============================] - 6s 93us/step - loss: 0.3754 - accuracy: 0.8808 - val_loss: 0.1938 - val_accuracy: 0.9367\n",
      "Epoch 19/30\n",
      "62852/62852 [==============================] - 6s 93us/step - loss: 0.3591 - accuracy: 0.8850 - val_loss: 0.1824 - val_accuracy: 0.9429\n",
      "Epoch 20/30\n",
      "62852/62852 [==============================] - 6s 95us/step - loss: 0.3477 - accuracy: 0.8878 - val_loss: 0.1788 - val_accuracy: 0.9413\n",
      "Epoch 21/30\n",
      "62852/62852 [==============================] - 6s 93us/step - loss: 0.3356 - accuracy: 0.8932 - val_loss: 0.1696 - val_accuracy: 0.9441\n",
      "Epoch 22/30\n",
      "62852/62852 [==============================] - 6s 93us/step - loss: 0.3442 - accuracy: 0.8926 - val_loss: 0.1685 - val_accuracy: 0.9488\n",
      "Epoch 23/30\n",
      "62852/62852 [==============================] - 6s 92us/step - loss: 0.3218 - accuracy: 0.8973 - val_loss: 0.1734 - val_accuracy: 0.9444\n",
      "Epoch 24/30\n",
      "62852/62852 [==============================] - 6s 93us/step - loss: 0.3240 - accuracy: 0.8963 - val_loss: 0.1692 - val_accuracy: 0.9439\n",
      "Epoch 25/30\n",
      "62852/62852 [==============================] - 6s 93us/step - loss: 0.3300 - accuracy: 0.8979 - val_loss: 0.1702 - val_accuracy: 0.9428\n",
      "Epoch 26/30\n",
      "62852/62852 [==============================] - 6s 93us/step - loss: 0.3201 - accuracy: 0.8997 - val_loss: 0.1490 - val_accuracy: 0.9542\n",
      "Epoch 27/30\n",
      "62852/62852 [==============================] - 6s 93us/step - loss: 0.3064 - accuracy: 0.9025 - val_loss: 0.1377 - val_accuracy: 0.9564\n",
      "Epoch 28/30\n",
      "62852/62852 [==============================] - 6s 93us/step - loss: 0.3326 - accuracy: 0.8992 - val_loss: 0.1408 - val_accuracy: 0.9570\n",
      "Epoch 29/30\n",
      "62852/62852 [==============================] - 6s 93us/step - loss: 0.3109 - accuracy: 0.9034 - val_loss: 0.1381 - val_accuracy: 0.9544\n",
      "Epoch 30/30\n",
      "62852/62852 [==============================] - 6s 93us/step - loss: 0.2951 - accuracy: 0.9060 - val_loss: 0.1379 - val_accuracy: 0.9569\n",
      "time taken: 2.0 minutes 56.4 seconds\n",
      "None\n"
     ]
    }
   ],
   "source": [
    "start_time=timer()\n",
    "history=model.fit(x_train,y_train,batch_size=50,epochs=30,validation_data=(x_test,y_test))\n",
    "end_time=timer()\n",
    "print(print(\"time taken: {0} minutes {1:.1f} seconds\".format((end_time - start_time)//60, (end_time - start_time)%60)))"
   ]
  },
  {
   "cell_type": "code",
   "execution_count": 51,
   "metadata": {},
   "outputs": [
    {
     "name": "stdout",
     "output_type": "stream",
     "text": [
      "Training Accuracy:  97.05657958984375\n",
      "Testing Accuracy:  95.69146633148193\n"
     ]
    }
   ],
   "source": [
    "score = model.evaluate(x_train, y_train, verbose=0)\n",
    "print(\"Training Accuracy: \", score[1]*100)\n",
    "\n",
    "score = model.evaluate(x_test, y_test, verbose=0)\n",
    "print(\"Testing Accuracy: \", score[1]*100)"
   ]
  },
  {
   "cell_type": "code",
   "execution_count": 52,
   "metadata": {},
   "outputs": [],
   "source": [
    "def plot_accuracy():\n",
    "    plt.plot(history.history['accuracy'])\n",
    "    plt.plot(history.history['val_accuracy'])\n",
    "    plt.title('Model Accuracy')\n",
    "    plt.ylabel('Accuracy')\n",
    "    plt.xlabel('No of epoch')\n",
    "    plt.legend(['train', 'test'], loc='upper left')\n",
    "    plt.show()\n",
    "    \n",
    "def plot_loss():\n",
    "    plt.plot(history.history['loss'], label='Training')\n",
    "    plt.plot(history.history['val_loss'], label='Testing')\n",
    "    plt.title('Model Loss')\n",
    "    plt.ylabel('Loss')\n",
    "    plt.xlabel('No of epoch')\n",
    "    plt.legend(loc=\"upper left\")\n",
    "    plt.show()"
   ]
  },
  {
   "cell_type": "code",
   "execution_count": 53,
   "metadata": {},
   "outputs": [
    {
     "data": {
      "image/png": "[encoded data removed]",
      "text/plain": [
       "<Figure size 864x288 with 1 Axes>"
      ]
     },
     "metadata": {
      "needs_background": "light"
     },
     "output_type": "display_data"
    },
    {
     "data": {
      "image/png": "[encoded data removed]",
      "text/plain": [
       "<Figure size 864x288 with 1 Axes>"
      ]
     },
     "metadata": {
      "needs_background": "light"
     },
     "output_type": "display_data"
    }
   ],
   "source": [
    "plt.figure(figsize=(12,4))\n",
    "plot_accuracy()\n",
    "plt.figure(figsize=(12,4))\n",
    "plot_loss()"
   ]
  },
  {
   "cell_type": "code",
   "execution_count": 54,
   "metadata": {},
   "outputs": [],
   "source": [
    "Class_Label = {'Air_conditioner':0, 'Car_horn':1, 'Children_playing':2, 'Dog_Bark':3, \n",
    "               'Drilling':4,'Engine_idling':5, 'Gun_Shot' :6, 'Jackhammer': 7 ,'Siren':8,'Street_Music':9 }"
   ]
  },
  {
   "cell_type": "code",
   "execution_count": 55,
   "metadata": {},
   "outputs": [
    {
     "name": "stdout",
     "output_type": "stream",
     "text": [
      "(15713,) (15713,)\n",
      "                  precision    recall  f1-score   support\n",
      "\n",
      " Air_conditioner       0.97      0.97      0.97      1782\n",
      "        Car_horn       0.98      0.96      0.97       775\n",
      "Children_playing       0.92      0.93      0.93      1770\n",
      "        Dog_Bark       0.98      0.91      0.95      1839\n",
      "        Drilling       0.97      0.94      0.95      1763\n",
      "   Engine_idling       0.97      0.98      0.98      1806\n",
      "        Gun_Shot       1.00      0.97      0.98       709\n",
      "      Jackhammer       0.94      0.98      0.96      1781\n",
      "           Siren       0.99      0.97      0.98      1693\n",
      "    Street_Music       0.89      0.96      0.93      1795\n",
      "\n",
      "        accuracy                           0.96     15713\n",
      "       macro avg       0.96      0.96      0.96     15713\n",
      "    weighted avg       0.96      0.96      0.96     15713\n",
      "\n"
     ]
    }
   ],
   "source": [
    "from sklearn.metrics import classification_report\n",
    "\n",
    "y_true = np.argmax(y_test, axis = 1)\n",
    "y_pred = model.predict(x_test)\n",
    "y_pred = np.argmax(y_pred, axis=1)\n",
    "labels = [0,1,2,3,4,5,6,7,8,9]\n",
    "target_names = Class_Label.keys()\n",
    "\n",
    "print(y_true.shape, y_pred.shape)\n",
    "print(classification_report(y_true, y_pred, target_names=target_names))"
   ]
  },
  {
   "cell_type": "code",
   "execution_count": 56,
   "metadata": {},
   "outputs": [
    {
     "name": "stdout",
     "output_type": "stream",
     "text": [
      "96.0\n"
     ]
    }
   ],
   "source": [
    "from sklearn.metrics import accuracy_score\n",
    "z=np.around((accuracy_score(y_true, y_pred)*100), decimals=0)\n",
    "print(z)"
   ]
  },
  {
   "cell_type": "code",
   "execution_count": 57,
   "metadata": {},
   "outputs": [
    {
     "name": "stdout",
     "output_type": "stream",
     "text": [
      "[[1732    0   14    1    3   12    0    7    2   11]\n",
      " [   4  742    1    0    2    4    0    1    2   19]\n",
      " [   6    4 1650   15    1    6    0    2    6   80]\n",
      " [  18    2   67 1681    7   13    0    3   10   38]\n",
      " [   2    1    9    1 1655    0    0   75    0   20]\n",
      " [   8    2    9    0    6 1770    0    0    1   10]\n",
      " [   0    0    2    9    7    0  687    1    0    3]\n",
      " [   0    0    2    1   24    1    2 1747    0    4]\n",
      " [   2    2    7    8    0    8    0    2 1644   20]\n",
      " [   6    8   28    2    1    3    0   19    0 1728]]\n"
     ]
    }
   ],
   "source": [
    "\n",
    "\n",
    "from sklearn.metrics import confusion_matrix\n",
    "print(confusion_matrix(y_true, y_pred))\n",
    "\n"
   ]
  },
  {
   "cell_type": "code",
   "execution_count": 58,
   "metadata": {},
   "outputs": [
    {
     "data": {
      "text/plain": [
       "Text(32.09374999999999, 0.5, 'Predicted label')"
      ]
     },
     "execution_count": 58,
     "metadata": {},
     "output_type": "execute_result"
    },
    {
     "data": {
      "image/png": "[encoded data removed]",
      "text/plain": [
       "<Figure size 432x288 with 1 Axes>"
      ]
     },
     "metadata": {
      "needs_background": "light"
     },
     "output_type": "display_data"
    },
    {
     "data": {
      "text/plain": [
       "<Figure size 720x288 with 0 Axes>"
      ]
     },
     "metadata": {},
     "output_type": "display_data"
    }
   ],
   "source": [
    "from sklearn.metrics import confusion_matrix\n",
    "import seaborn as sns\n",
    "import matplotlib.pyplot as plt\n",
    "\n",
    "ax=plt.subplot()\n",
    "mat = confusion_matrix(y_true, y_pred)\n",
    "plt.figure(figsize=(10,4))\n",
    "sns.heatmap(mat, square=False, annot=True, fmt='d',cbar=False,linewidths=.5,xticklabels=Class_Label.keys(),yticklabels=Class_Label.keys(), ax=ax, cmap='PuBuGn')\n",
    "bottom, top= ax.get_ylim()\n",
    "ax.set_ylim(bottom + 0.5 , top -0.5)\n",
    "ax.set_title('Confusion Matrix')\n",
    "ax.set_xlabel('True label')\n",
    "ax.set_ylabel('Predicted label')"
   ]
  },
  {
   "cell_type": "code",
   "execution_count": 59,
   "metadata": {},
   "outputs": [],
   "source": [
    "def acc_per_class(np_probs_array):    \n",
    "    accs = []\n",
    "    for idx in range(0, np_probs_array.shape[0]):\n",
    "        correct = np_probs_array[idx][idx].astype(int)\n",
    "        total = np_probs_array[idx].sum().astype(int)\n",
    "        acc = (correct / total) * 100\n",
    "        accs.append(acc)\n",
    "    return accs"
   ]
  },
  {
   "cell_type": "code",
   "execution_count": 60,
   "metadata": {},
   "outputs": [
    {
     "data": {
      "text/html": [
       "<div>\n",
       "<style scoped>\n",
       "    .dataframe tbody tr th:only-of-type {\n",
       "        vertical-align: middle;\n",
       "    }\n",
       "\n",
       "    .dataframe tbody tr th {\n",
       "        vertical-align: top;\n",
       "    }\n",
       "\n",
       "    .dataframe thead th {\n",
       "        text-align: right;\n",
       "    }\n",
       "</style>\n",
       "<table border=\"1\" class=\"dataframe\">\n",
       "  <thead>\n",
       "    <tr style=\"text-align: right;\">\n",
       "      <th></th>\n",
       "      <th>CLASS</th>\n",
       "      <th>ACCURACY</th>\n",
       "    </tr>\n",
       "  </thead>\n",
       "  <tbody>\n",
       "    <tr>\n",
       "      <th>7</th>\n",
       "      <td>Jackhammer</td>\n",
       "      <td>98.090960</td>\n",
       "    </tr>\n",
       "    <tr>\n",
       "      <th>5</th>\n",
       "      <td>Engine Idling</td>\n",
       "      <td>98.006645</td>\n",
       "    </tr>\n",
       "    <tr>\n",
       "      <th>0</th>\n",
       "      <td>Air Conditioner</td>\n",
       "      <td>97.194164</td>\n",
       "    </tr>\n",
       "    <tr>\n",
       "      <th>8</th>\n",
       "      <td>Siren</td>\n",
       "      <td>97.105729</td>\n",
       "    </tr>\n",
       "    <tr>\n",
       "      <th>6</th>\n",
       "      <td>Gun Shot</td>\n",
       "      <td>96.897038</td>\n",
       "    </tr>\n",
       "    <tr>\n",
       "      <th>9</th>\n",
       "      <td>Street Music</td>\n",
       "      <td>96.267409</td>\n",
       "    </tr>\n",
       "    <tr>\n",
       "      <th>1</th>\n",
       "      <td>Car Horn</td>\n",
       "      <td>95.741935</td>\n",
       "    </tr>\n",
       "    <tr>\n",
       "      <th>4</th>\n",
       "      <td>Drilling</td>\n",
       "      <td>93.874078</td>\n",
       "    </tr>\n",
       "    <tr>\n",
       "      <th>2</th>\n",
       "      <td>Children Playing</td>\n",
       "      <td>93.220339</td>\n",
       "    </tr>\n",
       "    <tr>\n",
       "      <th>3</th>\n",
       "      <td>Dog bark</td>\n",
       "      <td>91.408374</td>\n",
       "    </tr>\n",
       "  </tbody>\n",
       "</table>\n",
       "</div>"
      ],
      "text/plain": [
       "              CLASS   ACCURACY\n",
       "7        Jackhammer  98.090960\n",
       "5     Engine Idling  98.006645\n",
       "0   Air Conditioner  97.194164\n",
       "8             Siren  97.105729\n",
       "6          Gun Shot  96.897038\n",
       "9      Street Music  96.267409\n",
       "1          Car Horn  95.741935\n",
       "4          Drilling  93.874078\n",
       "2  Children Playing  93.220339\n",
       "3          Dog bark  91.408374"
      ]
     },
     "execution_count": 60,
     "metadata": {},
     "output_type": "execute_result"
    }
   ],
   "source": [
    "accuracies=acc_per_class(mat)\n",
    "labels = [\n",
    "        'Air Conditioner',\n",
    "        'Car Horn',\n",
    "        'Children Playing',\n",
    "        'Dog bark',\n",
    "        'Drilling',\n",
    "        'Engine Idling',\n",
    "        'Gun Shot',\n",
    "        'Jackhammer',\n",
    "        'Siren',\n",
    "        'Street Music'\n",
    "    ]\n",
    "\n",
    "pd.DataFrame({'CLASS':labels, 'ACCURACY': accuracies}).sort_values(by='ACCURACY', ascending=False)"
   ]
  },
  {
   "cell_type": "code",
   "execution_count": 61,
   "metadata": {},
   "outputs": [
    {
     "data": {
      "text/plain": [
       "Text(0.5, 1.0, 'Accuracy per Class')"
      ]
     },
     "execution_count": 61,
     "metadata": {},
     "output_type": "execute_result"
    },
    {
     "data": {
      "image/png": "[encoded data removed]",
      "text/plain": [
       "<Figure size 720x432 with 1 Axes>"
      ]
     },
     "metadata": {
      "needs_background": "light"
     },
     "output_type": "display_data"
    }
   ],
   "source": [
    "Y=np.around(accuracies , decimals=1)\n",
    "labels = [\n",
    "        'Air Conditioner',\n",
    "        'Car Horn',\n",
    "        'Children Playing',\n",
    "        'Dog bark',\n",
    "        'Drilling',\n",
    "        'Engine Idling',\n",
    "        'Gun Shot',\n",
    "        'Jackhammer',\n",
    "        'Siren',\n",
    "        'Street Music'\n",
    "    ]\n",
    "index=np.arange(len(labels))\n",
    "plt.figure(figsize=(10,6))\n",
    "plt.bar(index, Y, color='olive')\n",
    "plt.xticks(index, labels, rotation=90)\n",
    "plt.xlabel('Class_Name')\n",
    "plt.ylabel('Accuracy')\n",
    "plt.title('Accuracy per Class')"
   ]
  },
  {
   "cell_type": "code",
   "execution_count": null,
   "metadata": {},
   "outputs": [],
   "source": []
  }
 ],
 "metadata": {
  "kernelspec": {
   "display_name": "Python 3",
   "language": "python",
   "name": "python3"
  },
  "language_info": {
   "codemirror_mode": {
    "name": "ipython",
    "version": 3
   },
   "file_extension": ".py",
   "mimetype": "text/x-python",
   "name": "python",
   "nbconvert_exporter": "python",
   "pygments_lexer": "ipython3",
   "version": "3.8.3"
  }
 },
 "nbformat": 4,
 "nbformat_minor": 4
}
