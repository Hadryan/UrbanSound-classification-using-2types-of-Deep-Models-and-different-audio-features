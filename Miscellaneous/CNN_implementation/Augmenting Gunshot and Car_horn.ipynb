{
 "cells": [
  {
   "cell_type": "code",
   "execution_count": 1,
   "metadata": {},
   "outputs": [],
   "source": [
    "import os\n",
    "from os import listdir\n",
    "from os.path import isfile, join\n",
    "import librosa\n",
    "import librosa.display\n",
    "import pandas as pd\n",
    "import IPython.display as ipd\n",
    "import numpy as np\n",
    "import random\n",
    "import matplotlib as plt\n",
    "import matplotlib.pyplot as plt\n",
    "from IPython.display import clear_output, display"
   ]
  },
  {
   "cell_type": "code",
   "execution_count": 2,
   "metadata": {},
   "outputs": [
    {
     "data": {
      "text/html": [
       "<div>\n",
       "<style scoped>\n",
       "    .dataframe tbody tr th:only-of-type {\n",
       "        vertical-align: middle;\n",
       "    }\n",
       "\n",
       "    .dataframe tbody tr th {\n",
       "        vertical-align: top;\n",
       "    }\n",
       "\n",
       "    .dataframe thead th {\n",
       "        text-align: right;\n",
       "    }\n",
       "</style>\n",
       "<table border=\"1\" class=\"dataframe\">\n",
       "  <thead>\n",
       "    <tr style=\"text-align: right;\">\n",
       "      <th></th>\n",
       "      <th>slice_file_name</th>\n",
       "      <th>fsID</th>\n",
       "      <th>start</th>\n",
       "      <th>end</th>\n",
       "      <th>salience</th>\n",
       "      <th>fold</th>\n",
       "      <th>classID</th>\n",
       "      <th>class_name</th>\n",
       "    </tr>\n",
       "  </thead>\n",
       "  <tbody>\n",
       "    <tr>\n",
       "      <td>0</td>\n",
       "      <td>100032-3-0-0.wav</td>\n",
       "      <td>100032</td>\n",
       "      <td>0.0</td>\n",
       "      <td>0.317551</td>\n",
       "      <td>1</td>\n",
       "      <td>5</td>\n",
       "      <td>3</td>\n",
       "      <td>dog_bark</td>\n",
       "    </tr>\n",
       "    <tr>\n",
       "      <td>1</td>\n",
       "      <td>100263-2-0-117.wav</td>\n",
       "      <td>100263</td>\n",
       "      <td>58.5</td>\n",
       "      <td>62.500000</td>\n",
       "      <td>1</td>\n",
       "      <td>5</td>\n",
       "      <td>2</td>\n",
       "      <td>children_playing</td>\n",
       "    </tr>\n",
       "    <tr>\n",
       "      <td>2</td>\n",
       "      <td>100263-2-0-121.wav</td>\n",
       "      <td>100263</td>\n",
       "      <td>60.5</td>\n",
       "      <td>64.500000</td>\n",
       "      <td>1</td>\n",
       "      <td>5</td>\n",
       "      <td>2</td>\n",
       "      <td>children_playing</td>\n",
       "    </tr>\n",
       "    <tr>\n",
       "      <td>3</td>\n",
       "      <td>100263-2-0-126.wav</td>\n",
       "      <td>100263</td>\n",
       "      <td>63.0</td>\n",
       "      <td>67.000000</td>\n",
       "      <td>1</td>\n",
       "      <td>5</td>\n",
       "      <td>2</td>\n",
       "      <td>children_playing</td>\n",
       "    </tr>\n",
       "    <tr>\n",
       "      <td>4</td>\n",
       "      <td>100263-2-0-137.wav</td>\n",
       "      <td>100263</td>\n",
       "      <td>68.5</td>\n",
       "      <td>72.500000</td>\n",
       "      <td>1</td>\n",
       "      <td>5</td>\n",
       "      <td>2</td>\n",
       "      <td>children_playing</td>\n",
       "    </tr>\n",
       "  </tbody>\n",
       "</table>\n",
       "</div>"
      ],
      "text/plain": [
       "      slice_file_name    fsID  start        end  salience  fold  classID  \\\n",
       "0    100032-3-0-0.wav  100032    0.0   0.317551         1     5        3   \n",
       "1  100263-2-0-117.wav  100263   58.5  62.500000         1     5        2   \n",
       "2  100263-2-0-121.wav  100263   60.5  64.500000         1     5        2   \n",
       "3  100263-2-0-126.wav  100263   63.0  67.000000         1     5        2   \n",
       "4  100263-2-0-137.wav  100263   68.5  72.500000         1     5        2   \n",
       "\n",
       "         class_name  \n",
       "0          dog_bark  \n",
       "1  children_playing  \n",
       "2  children_playing  \n",
       "3  children_playing  \n",
       "4  children_playing  "
      ]
     },
     "execution_count": 2,
     "metadata": {},
     "output_type": "execute_result"
    }
   ],
   "source": [
    "metadata_path='E:/Thesis/Dataset/UrbanSound8K/metadata/UrbanSound8K.csv'\n",
    "metadata=pd.read_csv(metadata_path)\n",
    "metadata.head()"
   ]
  },
  {
   "cell_type": "code",
   "execution_count": 3,
   "metadata": {},
   "outputs": [
    {
     "name": "stdout",
     "output_type": "stream",
     "text": [
      "air_conditioner     1000\n",
      "drilling            1000\n",
      "street_music        1000\n",
      "jackhammer          1000\n",
      "children_playing    1000\n",
      "engine_idling       1000\n",
      "dog_bark            1000\n",
      "siren                929\n",
      "car_horn             429\n",
      "gun_shot             374\n",
      "Name: class_name, dtype: int64\n"
     ]
    }
   ],
   "source": [
    "print(metadata.class_name.value_counts())"
   ]
  },
  {
   "cell_type": "markdown",
   "metadata": {},
   "source": [
    "# Gun_Shot"
   ]
  },
  {
   "cell_type": "markdown",
   "metadata": {},
   "source": [
    "## Time_Stretch"
   ]
  },
  {
   "cell_type": "code",
   "execution_count": 4,
   "metadata": {},
   "outputs": [],
   "source": [
    "import random"
   ]
  },
  {
   "cell_type": "code",
   "execution_count": 5,
   "metadata": {},
   "outputs": [
    {
     "name": "stdout",
     "output_type": "stream",
     "text": [
      "Progress: 208/208\n",
      "Last file:  162432-6-14-0.wav\n"
     ]
    }
   ],
   "source": [
    "rates = [0.9]\n",
    "total = 208 * len(rates)\n",
    "count = 0\n",
    "num=0\n",
    "for rate in rates: \n",
    " # Generate new stretched audio file\n",
    "    for index, row in metadata.iterrows(): \n",
    "        curr_fold = str(row['fold'])\n",
    "        curr_file_path='E:/Thesis/Dataset/UrbanSound8K/audio' + '/fold' + curr_fold + '/' + row['slice_file_name']\n",
    "        curr_rate_path='E:/Thesis/Dataset/UrbanSound8K/Augmented_Gunshot_CarHorn' + '/fold' + curr_fold + '/speed_' + str(int (rate*100))\n",
    "        if(count==208):\n",
    "            break\n",
    "        if(row['class_name']=='gun_shot'):\n",
    "            if not os.path.exists(curr_rate_path):\n",
    "                os.makedirs(curr_rate_path)\n",
    "\n",
    "            output_path=curr_rate_path + '/' + row['slice_file_name']\n",
    "\n",
    "            if (os.path.isfile(output_path)):\n",
    "                count += 1 \n",
    "                continue\n",
    "\n",
    "            y, sr = librosa.load(curr_file_path)  \n",
    "            y_changed = librosa.effects.time_stretch(y, rate=rate)\n",
    "            librosa.output.write_wav(output_path, y_changed, sr)\n",
    "\n",
    "            count += 1\n",
    "\n",
    "            clear_output(wait=True)\n",
    "            print(\"Progress: {}/{}\".format(count, total))\n",
    "            print(\"Last file: \", row['slice_file_name'])"
   ]
  },
  {
   "cell_type": "markdown",
   "metadata": {},
   "source": [
    "## Pitch_Shift"
   ]
  },
  {
   "cell_type": "code",
   "execution_count": 6,
   "metadata": {},
   "outputs": [
    {
     "name": "stdout",
     "output_type": "stream",
     "text": [
      "Progress: 208/208\n",
      "Last file:  162432-6-14-0.wav\n"
     ]
    }
   ],
   "source": [
    "tone_steps=[-2, 2]\n",
    "total = 208\n",
    "count = 0\n",
    "for tone_step in tone_steps:\n",
    "    # Generate new pitched audio\n",
    "    for index, row in metadata.iterrows():   \n",
    "        curr_fold = str(row['fold'])\n",
    "        curr_file_path='E:/Thesis/Dataset/UrbanSound8K/audio' + '/fold' + curr_fold + '/' + row['slice_file_name']\n",
    "        curr_ps_path ='E:/Thesis/Dataset/UrbanSound8K/Augmented_Gunshot_CarHorn' + '/fold' + curr_fold + '/pitch_' + str(tone_step)\n",
    "        if(count==208):\n",
    "            break\n",
    "        if(row['class_name']=='gun_shot'):\n",
    "\n",
    "            # Create sub-dir if it does not exist\n",
    "            if not os.path.exists(curr_ps_path):\n",
    "                os.makedirs(curr_ps_path)\n",
    "\n",
    "            output_path = curr_ps_path + '/' + row['slice_file_name']\n",
    "\n",
    "            # Skip when file already exists\n",
    "            if (os.path.isfile(output_path)):\n",
    "                count += 1 \n",
    "                continue\n",
    "            tone =random.choice(tone_steps)\n",
    "            y, sr = librosa.load(curr_file_path)  \n",
    "            y_changed = librosa.effects.pitch_shift(y, sr, n_steps=tone)\n",
    "            librosa.output.write_wav(output_path, y_changed, sr)\n",
    "\n",
    "            count += 1 \n",
    "\n",
    "            clear_output(wait=True)\n",
    "            print(\"Progress: {}/{}\".format(count, total))\n",
    "            print(\"Last file: \", row['slice_file_name'])"
   ]
  },
  {
   "cell_type": "markdown",
   "metadata": {},
   "source": [
    "## Time_stretch and Pitch_shift"
   ]
  },
  {
   "cell_type": "code",
   "execution_count": 7,
   "metadata": {},
   "outputs": [
    {
     "name": "stdout",
     "output_type": "stream",
     "text": [
      "Progress: 208/208\n",
      "Last file:  162432-6-14-0.wav\n"
     ]
    }
   ],
   "source": [
    "tone_steps=[-2,2]\n",
    "rates = [0.9]\n",
    "total = 208\n",
    "count = 0\n",
    "for tone_step in tone_steps:\n",
    "    for rate in rates:\n",
    "\n",
    "        for index, row in metadata.iterrows():   \n",
    "            curr_fold = str(row['fold'])\n",
    "            curr_file_path='E:/Thesis/Dataset/UrbanSound8K/audio' + '/fold' + curr_fold + '/' + row['slice_file_name']\n",
    "            curr_ps_path ='E:/Thesis/Dataset/UrbanSound8K/Augmented_Gunshot_CarHorn' + '/fold' + curr_fold + '/pitch_time' + str(tone_step)+str(int (rate*100))\n",
    "\n",
    "            if(count==208):\n",
    "                break\n",
    "            if(row['class_name']=='gun_shot'):\n",
    "                if not os.path.exists(curr_ps_path):\n",
    "                    os.makedirs(curr_ps_path)\n",
    "\n",
    "                output_path = curr_ps_path + '/' + row['slice_file_name']\n",
    "\n",
    "                # Skip when file already exists\n",
    "                if (os.path.isfile(output_path)):\n",
    "                    count += 1 \n",
    "                    continue\n",
    "\n",
    "                y, sr = librosa.load(curr_file_path)  \n",
    "                tone=random.choice(tone_steps)\n",
    "                y_changed = librosa.effects.pitch_shift(y, sr, n_steps=tone)\n",
    "                y_changed_again=librosa.effects.time_stretch(y_changed, rate=rate)\n",
    "                librosa.output.write_wav(output_path, y_changed_again, sr)\n",
    "\n",
    "                count += 1 \n",
    "\n",
    "                clear_output(wait=True)\n",
    "                print(\"Progress: {}/{}\".format(count, total))\n",
    "                print(\"Last file: \", row['slice_file_name'])"
   ]
  },
  {
   "cell_type": "code",
   "execution_count": 8,
   "metadata": {},
   "outputs": [
    {
     "name": "stdout",
     "output_type": "stream",
     "text": [
      "998 Number of the Gunshot Files\n"
     ]
    }
   ],
   "source": [
    "print ((208*3+374), 'Number of the Gunshot Files')"
   ]
  },
  {
   "cell_type": "markdown",
   "metadata": {},
   "source": [
    "# Car_horn"
   ]
  },
  {
   "cell_type": "markdown",
   "metadata": {},
   "source": [
    "## Time stretch"
   ]
  },
  {
   "cell_type": "code",
   "execution_count": 9,
   "metadata": {},
   "outputs": [
    {
     "name": "stdout",
     "output_type": "stream",
     "text": [
      "Progress: 190/190\n",
      "Last file:  24074-1-0-2.wav\n"
     ]
    }
   ],
   "source": [
    "rates = [0.9]\n",
    "total = 190 * len(rates)\n",
    "count = 0\n",
    "num=0\n",
    "for rate in rates: \n",
    " # Generate new stretched audio file\n",
    "    for index, row in metadata.iterrows(): \n",
    "        curr_fold = str(row['fold'])\n",
    "        curr_file_path='E:/Thesis/Dataset/UrbanSound8K/audio' + '/fold' + curr_fold + '/' + row['slice_file_name']\n",
    "        curr_rate_path='E:/Thesis/Dataset/UrbanSound8K/Augmented_Gunshot_CarHorn' + '/fold' + curr_fold + '/speed_' + str(int (rate*100))\n",
    "        if(count==190):\n",
    "            break\n",
    "        if(row['class_name']=='car_horn'):\n",
    "            if not os.path.exists(curr_rate_path):\n",
    "                os.makedirs(curr_rate_path)\n",
    "\n",
    "            output_path=curr_rate_path + '/' + row['slice_file_name']\n",
    "\n",
    "            if (os.path.isfile(output_path)):\n",
    "                count += 1 \n",
    "                continue\n",
    "\n",
    "            y, sr = librosa.load(curr_file_path)  \n",
    "            y_changed = librosa.effects.time_stretch(y, rate=rate)\n",
    "            librosa.output.write_wav(output_path, y_changed, sr)\n",
    "\n",
    "            count += 1\n",
    "\n",
    "            clear_output(wait=True)\n",
    "            print(\"Progress: {}/{}\".format(count, total))\n",
    "            print(\"Last file: \", row['slice_file_name'])"
   ]
  },
  {
   "cell_type": "markdown",
   "metadata": {},
   "source": [
    "## Pitch_Shift"
   ]
  },
  {
   "cell_type": "code",
   "execution_count": 10,
   "metadata": {},
   "outputs": [
    {
     "name": "stdout",
     "output_type": "stream",
     "text": [
      "Progress: 190/190\n",
      "Last file:  24074-1-0-2.wav\n"
     ]
    }
   ],
   "source": [
    "tone_steps=[-2, 2]\n",
    "total = 190\n",
    "count = 0\n",
    "for tone_step in tone_steps:\n",
    "    # Generate new pitched audio\n",
    "    for index, row in metadata.iterrows():   \n",
    "        curr_fold = str(row['fold'])\n",
    "        curr_file_path='E:/Thesis/Dataset/UrbanSound8K/audio' + '/fold' + curr_fold + '/' + row['slice_file_name']\n",
    "        curr_ps_path ='E:/Thesis/Dataset/UrbanSound8K/Augmented_Gunshot_CarHorn' + '/fold' + curr_fold + '/pitch_' + str(tone_step)\n",
    "        if(count==190):\n",
    "            break\n",
    "        if(row['class_name']=='car_horn'):\n",
    "\n",
    "            # Create sub-dir if it does not exist\n",
    "            if not os.path.exists(curr_ps_path):\n",
    "                os.makedirs(curr_ps_path)\n",
    "\n",
    "            output_path = curr_ps_path + '/' + row['slice_file_name']\n",
    "\n",
    "            # Skip when file already exists\n",
    "            if (os.path.isfile(output_path)):\n",
    "                count += 1 \n",
    "                continue\n",
    "            tone =random.choice(tone_steps)\n",
    "            y, sr = librosa.load(curr_file_path)  \n",
    "            y_changed = librosa.effects.pitch_shift(y, sr, n_steps=tone)\n",
    "            librosa.output.write_wav(output_path, y_changed, sr)\n",
    "\n",
    "            count += 1 \n",
    "\n",
    "            clear_output(wait=True)\n",
    "            print(\"Progress: {}/{}\".format(count, total))\n",
    "            print(\"Last file: \", row['slice_file_name'])"
   ]
  },
  {
   "cell_type": "markdown",
   "metadata": {},
   "source": [
    "## Pitch_Shift and Time_stretch"
   ]
  },
  {
   "cell_type": "code",
   "execution_count": 11,
   "metadata": {},
   "outputs": [
    {
     "name": "stdout",
     "output_type": "stream",
     "text": [
      "Progress: 190/190\n",
      "Last file:  24074-1-0-2.wav\n"
     ]
    }
   ],
   "source": [
    "tone_steps=[-2,2]\n",
    "rates = [0.9]\n",
    "total = 190\n",
    "count = 0\n",
    "for tone_step in tone_steps:\n",
    "    for rate in rates:\n",
    "\n",
    "        for index, row in metadata.iterrows():   \n",
    "            curr_fold = str(row['fold'])\n",
    "            curr_file_path='E:/Thesis/Dataset/UrbanSound8K/audio' + '/fold' + curr_fold + '/' + row['slice_file_name']\n",
    "            curr_ps_path ='E:/Thesis/Dataset/UrbanSound8K/Augmented_Gunshot_CarHorn' + '/fold' + curr_fold + '/pitch_time' + str(tone_step)+str(int (rate*100))\n",
    "\n",
    "            if(count==190):\n",
    "                break\n",
    "            if(row['class_name']=='car_horn'):\n",
    "                if not os.path.exists(curr_ps_path):\n",
    "                    os.makedirs(curr_ps_path)\n",
    "\n",
    "                output_path = curr_ps_path + '/' + row['slice_file_name']\n",
    "\n",
    "                # Skip when file already exists\n",
    "                if (os.path.isfile(output_path)):\n",
    "                    count += 1 \n",
    "                    continue\n",
    "\n",
    "                y, sr = librosa.load(curr_file_path)  \n",
    "                tone=random.choice(tone_steps)\n",
    "                y_changed = librosa.effects.pitch_shift(y, sr, n_steps=tone)\n",
    "                y_changed_again=librosa.effects.time_stretch(y_changed, rate=rate)\n",
    "                librosa.output.write_wav(output_path, y_changed_again, sr)\n",
    "\n",
    "                count += 1 \n",
    "\n",
    "                clear_output(wait=True)\n",
    "                print(\"Progress: {}/{}\".format(count, total))\n",
    "                print(\"Last file: \", row['slice_file_name'])"
   ]
  },
  {
   "cell_type": "code",
   "execution_count": 12,
   "metadata": {},
   "outputs": [
    {
     "name": "stdout",
     "output_type": "stream",
     "text": [
      "999 Number of Car_horn Files\n"
     ]
    }
   ],
   "source": [
    "print((190*3 + 429), 'Number of Car_horn Files')"
   ]
  },
  {
   "cell_type": "code",
   "execution_count": 13,
   "metadata": {},
   "outputs": [],
   "source": [
    "def get_files_recursive(path):\n",
    "    \n",
    "    file_list = os.listdir(path)\n",
    "    all_files = list()\n",
    " \n",
    "    for entry in file_list:\n",
    "  \n",
    "        full_path = os.path.join(path, entry)\n",
    "       \n",
    "        if os.path.isdir(full_path):\n",
    "            all_files = all_files + get_files_recursive(full_path)\n",
    "        else:\n",
    "            all_files.append(full_path)\n",
    "                \n",
    "    return all_files"
   ]
  },
  {
   "cell_type": "code",
   "execution_count": 36,
   "metadata": {},
   "outputs": [
    {
     "name": "stdout",
     "output_type": "stream",
     "text": [
      "1194 Augmented Data\n"
     ]
    }
   ],
   "source": [
    "\n",
    "# Get every single file within the tree\n",
    "files = get_files_recursive('E:/Thesis/Dataset/UrbanSound8K/Augmented_Gunshot_CarHorn')\n",
    "\n",
    "# Define metadata columns\n",
    "names = []\n",
    "classes = []\n",
    "folds = []\n",
    "augmented = []\n",
    "\n",
    "\n",
    "for file in files:\n",
    "    #pieces = file.split(\"/\")\n",
    "    #print(pieces)\n",
    "    pieces2 = file.split(\"\\\\\")\n",
    "    file = pieces2[len(pieces2) - 1]\n",
    "    fold = pieces2[len(pieces2) - 3] \n",
    "    augment = pieces2[len(pieces2) - 2] \n",
    "    fold_num = fold[4:len(fold)]\n",
    "    class_id = file.split(\"-\")[1]\n",
    "\n",
    "\n",
    "    names.append(file)\n",
    "    folds.append(fold_num)\n",
    "    classes.append(class_id)\n",
    "    augmented.append(augment)\n",
    "\n",
    "\n",
    "new_metadata = pd.DataFrame({'file': names, 'fold': folds, 'class_id': classes, 'augment': augmented })\n",
    "\n",
    "# Make sure class_id is int\n",
    "new_metadata['class_id'] = new_metadata['class_id'].astype(np.int64)\n",
    "\n",
    "print(len(new_metadata), \"Augmented Data\")"
   ]
  },
  {
   "cell_type": "code",
   "execution_count": 37,
   "metadata": {},
   "outputs": [],
   "source": [
    "classes = pd.DataFrame({\n",
    "    'class_id': range(0,10),\n",
    "    'class': ['air_conditioner','car_horn','children_playing','dog_bark','drilling','engine_idling','gun_shot','jackhammer','siren','street_music']})\n",
    "\n",
    "new_metadata = pd.merge(new_metadata, classes, on='class_id')"
   ]
  },
  {
   "cell_type": "code",
   "execution_count": 38,
   "metadata": {},
   "outputs": [
    {
     "data": {
      "text/html": [
       "<div>\n",
       "<style scoped>\n",
       "    .dataframe tbody tr th:only-of-type {\n",
       "        vertical-align: middle;\n",
       "    }\n",
       "\n",
       "    .dataframe tbody tr th {\n",
       "        vertical-align: top;\n",
       "    }\n",
       "\n",
       "    .dataframe thead th {\n",
       "        text-align: right;\n",
       "    }\n",
       "</style>\n",
       "<table border=\"1\" class=\"dataframe\">\n",
       "  <thead>\n",
       "    <tr style=\"text-align: right;\">\n",
       "      <th></th>\n",
       "      <th>file</th>\n",
       "      <th>fold</th>\n",
       "      <th>class_id</th>\n",
       "      <th>augment</th>\n",
       "      <th>class</th>\n",
       "    </tr>\n",
       "  </thead>\n",
       "  <tbody>\n",
       "    <tr>\n",
       "      <td>0</td>\n",
       "      <td>102305-6-0-0.wav</td>\n",
       "      <td>1</td>\n",
       "      <td>6</td>\n",
       "      <td>pitch_-2</td>\n",
       "      <td>gun_shot</td>\n",
       "    </tr>\n",
       "    <tr>\n",
       "      <td>1</td>\n",
       "      <td>122690-6-0-0.wav</td>\n",
       "      <td>1</td>\n",
       "      <td>6</td>\n",
       "      <td>pitch_-2</td>\n",
       "      <td>gun_shot</td>\n",
       "    </tr>\n",
       "    <tr>\n",
       "      <td>2</td>\n",
       "      <td>102305-6-0-0.wav</td>\n",
       "      <td>1</td>\n",
       "      <td>6</td>\n",
       "      <td>pitch_time-290</td>\n",
       "      <td>gun_shot</td>\n",
       "    </tr>\n",
       "    <tr>\n",
       "      <td>3</td>\n",
       "      <td>122690-6-0-0.wav</td>\n",
       "      <td>1</td>\n",
       "      <td>6</td>\n",
       "      <td>pitch_time-290</td>\n",
       "      <td>gun_shot</td>\n",
       "    </tr>\n",
       "    <tr>\n",
       "      <td>4</td>\n",
       "      <td>102305-6-0-0.wav</td>\n",
       "      <td>1</td>\n",
       "      <td>6</td>\n",
       "      <td>speed_90</td>\n",
       "      <td>gun_shot</td>\n",
       "    </tr>\n",
       "  </tbody>\n",
       "</table>\n",
       "</div>"
      ],
      "text/plain": [
       "               file fold  class_id         augment     class\n",
       "0  102305-6-0-0.wav    1         6        pitch_-2  gun_shot\n",
       "1  122690-6-0-0.wav    1         6        pitch_-2  gun_shot\n",
       "2  102305-6-0-0.wav    1         6  pitch_time-290  gun_shot\n",
       "3  122690-6-0-0.wav    1         6  pitch_time-290  gun_shot\n",
       "4  102305-6-0-0.wav    1         6        speed_90  gun_shot"
      ]
     },
     "execution_count": 38,
     "metadata": {},
     "output_type": "execute_result"
    }
   ],
   "source": [
    "new_metadata.head()"
   ]
  },
  {
   "cell_type": "code",
   "execution_count": 39,
   "metadata": {},
   "outputs": [],
   "source": [
    "metadata=pd.read_csv('E:/Thesis/Dataset/UrbanSound8K/Augmented_Gunshot_CarHorn_metadata/UrbanSound8K.csv')\n",
    "del metadata['fsID'], metadata['start'], metadata['end'], metadata['salience']\n",
    "metadata.columns = ['file', 'fold', 'class_id', 'class']\n",
    "metadata['augment'] = 'none'"
   ]
  },
  {
   "cell_type": "code",
   "execution_count": 40,
   "metadata": {},
   "outputs": [
    {
     "data": {
      "text/html": [
       "<div>\n",
       "<style scoped>\n",
       "    .dataframe tbody tr th:only-of-type {\n",
       "        vertical-align: middle;\n",
       "    }\n",
       "\n",
       "    .dataframe tbody tr th {\n",
       "        vertical-align: top;\n",
       "    }\n",
       "\n",
       "    .dataframe thead th {\n",
       "        text-align: right;\n",
       "    }\n",
       "</style>\n",
       "<table border=\"1\" class=\"dataframe\">\n",
       "  <thead>\n",
       "    <tr style=\"text-align: right;\">\n",
       "      <th></th>\n",
       "      <th>file</th>\n",
       "      <th>fold</th>\n",
       "      <th>class_id</th>\n",
       "      <th>class</th>\n",
       "      <th>augment</th>\n",
       "    </tr>\n",
       "  </thead>\n",
       "  <tbody>\n",
       "    <tr>\n",
       "      <td>0</td>\n",
       "      <td>100032-3-0-0.wav</td>\n",
       "      <td>5</td>\n",
       "      <td>3</td>\n",
       "      <td>dog_bark</td>\n",
       "      <td>none</td>\n",
       "    </tr>\n",
       "    <tr>\n",
       "      <td>1</td>\n",
       "      <td>100263-2-0-117.wav</td>\n",
       "      <td>5</td>\n",
       "      <td>2</td>\n",
       "      <td>children_playing</td>\n",
       "      <td>none</td>\n",
       "    </tr>\n",
       "    <tr>\n",
       "      <td>2</td>\n",
       "      <td>100263-2-0-121.wav</td>\n",
       "      <td>5</td>\n",
       "      <td>2</td>\n",
       "      <td>children_playing</td>\n",
       "      <td>none</td>\n",
       "    </tr>\n",
       "    <tr>\n",
       "      <td>3</td>\n",
       "      <td>100263-2-0-126.wav</td>\n",
       "      <td>5</td>\n",
       "      <td>2</td>\n",
       "      <td>children_playing</td>\n",
       "      <td>none</td>\n",
       "    </tr>\n",
       "    <tr>\n",
       "      <td>4</td>\n",
       "      <td>100263-2-0-137.wav</td>\n",
       "      <td>5</td>\n",
       "      <td>2</td>\n",
       "      <td>children_playing</td>\n",
       "      <td>none</td>\n",
       "    </tr>\n",
       "  </tbody>\n",
       "</table>\n",
       "</div>"
      ],
      "text/plain": [
       "                 file  fold  class_id             class augment\n",
       "0    100032-3-0-0.wav     5         3          dog_bark    none\n",
       "1  100263-2-0-117.wav     5         2  children_playing    none\n",
       "2  100263-2-0-121.wav     5         2  children_playing    none\n",
       "3  100263-2-0-126.wav     5         2  children_playing    none\n",
       "4  100263-2-0-137.wav     5         2  children_playing    none"
      ]
     },
     "execution_count": 40,
     "metadata": {},
     "output_type": "execute_result"
    }
   ],
   "source": [
    "metadata.head()"
   ]
  },
  {
   "cell_type": "code",
   "execution_count": 41,
   "metadata": {},
   "outputs": [
    {
     "name": "stdout",
     "output_type": "stream",
     "text": [
      "Dataframes merged correctly!\n",
      "Initial data: 8732\n",
      "New data: 1194\n",
      "Merged data: 9926\n"
     ]
    },
    {
     "name": "stderr",
     "output_type": "stream",
     "text": [
      "C:\\Users\\User\\Anaconda3\\lib\\site-packages\\ipykernel_launcher.py:1: FutureWarning: Sorting because non-concatenation axis is not aligned. A future version\n",
      "of pandas will change to not sort by default.\n",
      "\n",
      "To accept the future behavior, pass 'sort=False'.\n",
      "\n",
      "To retain the current behavior and silence the warning, pass 'sort=True'.\n",
      "\n",
      "  \"\"\"Entry point for launching an IPython kernel.\n"
     ]
    }
   ],
   "source": [
    "full_metadata_2 = pd.concat([metadata, new_metadata])\n",
    "if (len(full_metadata_2) == len(metadata) + len(new_metadata)):\n",
    "    print(\"Dataframes merged correctly!\")\n",
    "else:\n",
    "    print(\"Error! Lengths do not match.\")\n",
    "\n",
    "print(\"Initial data:\", len(metadata))\n",
    "print(\"New data:\", len(new_metadata))\n",
    "print(\"Merged data:\", len(full_metadata_2))"
   ]
  },
  {
   "cell_type": "code",
   "execution_count": 47,
   "metadata": {},
   "outputs": [
    {
     "data": {
      "text/html": [
       "<div>\n",
       "<style scoped>\n",
       "    .dataframe tbody tr th:only-of-type {\n",
       "        vertical-align: middle;\n",
       "    }\n",
       "\n",
       "    .dataframe tbody tr th {\n",
       "        vertical-align: top;\n",
       "    }\n",
       "\n",
       "    .dataframe thead th {\n",
       "        text-align: right;\n",
       "    }\n",
       "</style>\n",
       "<table border=\"1\" class=\"dataframe\">\n",
       "  <thead>\n",
       "    <tr style=\"text-align: right;\">\n",
       "      <th></th>\n",
       "      <th>augment</th>\n",
       "      <th>class</th>\n",
       "      <th>class_id</th>\n",
       "      <th>file</th>\n",
       "      <th>fold</th>\n",
       "    </tr>\n",
       "  </thead>\n",
       "  <tbody>\n",
       "    <tr>\n",
       "      <td>0</td>\n",
       "      <td>none</td>\n",
       "      <td>dog_bark</td>\n",
       "      <td>3</td>\n",
       "      <td>100032-3-0-0.wav</td>\n",
       "      <td>5</td>\n",
       "    </tr>\n",
       "    <tr>\n",
       "      <td>1</td>\n",
       "      <td>none</td>\n",
       "      <td>children_playing</td>\n",
       "      <td>2</td>\n",
       "      <td>100263-2-0-117.wav</td>\n",
       "      <td>5</td>\n",
       "    </tr>\n",
       "    <tr>\n",
       "      <td>2</td>\n",
       "      <td>none</td>\n",
       "      <td>children_playing</td>\n",
       "      <td>2</td>\n",
       "      <td>100263-2-0-121.wav</td>\n",
       "      <td>5</td>\n",
       "    </tr>\n",
       "    <tr>\n",
       "      <td>3</td>\n",
       "      <td>none</td>\n",
       "      <td>children_playing</td>\n",
       "      <td>2</td>\n",
       "      <td>100263-2-0-126.wav</td>\n",
       "      <td>5</td>\n",
       "    </tr>\n",
       "    <tr>\n",
       "      <td>4</td>\n",
       "      <td>none</td>\n",
       "      <td>children_playing</td>\n",
       "      <td>2</td>\n",
       "      <td>100263-2-0-137.wav</td>\n",
       "      <td>5</td>\n",
       "    </tr>\n",
       "  </tbody>\n",
       "</table>\n",
       "</div>"
      ],
      "text/plain": [
       "  augment             class  class_id                file fold\n",
       "0    none          dog_bark         3    100032-3-0-0.wav    5\n",
       "1    none  children_playing         2  100263-2-0-117.wav    5\n",
       "2    none  children_playing         2  100263-2-0-121.wav    5\n",
       "3    none  children_playing         2  100263-2-0-126.wav    5\n",
       "4    none  children_playing         2  100263-2-0-137.wav    5"
      ]
     },
     "execution_count": 47,
     "metadata": {},
     "output_type": "execute_result"
    }
   ],
   "source": [
    "full_metadata_2.head()"
   ]
  },
  {
   "cell_type": "code",
   "execution_count": 50,
   "metadata": {},
   "outputs": [],
   "source": [
    "metadata_augmented_path='E:/Thesis/Dataset/UrbanSound8K/Augmented_Gunshot_CarHorn_metadata/UrbanSound8k_Augmented_GunShot_Carhorn.csv'\n",
    "full_metadata_2.to_csv(metadata_augmented_path, index=False, encoding=\"utf-8\")"
   ]
  },
  {
   "cell_type": "code",
   "execution_count": null,
   "metadata": {},
   "outputs": [],
   "source": []
  },
  {
   "cell_type": "code",
   "execution_count": null,
   "metadata": {},
   "outputs": [],
   "source": []
  },
  {
   "cell_type": "code",
   "execution_count": null,
   "metadata": {},
   "outputs": [],
   "source": []
  }
 ],
 "metadata": {
  "kernelspec": {
   "display_name": "Python 3",
   "language": "python",
   "name": "python3"
  },
  "language_info": {
   "codemirror_mode": {
    "name": "ipython",
    "version": 3
   },
   "file_extension": ".py",
   "mimetype": "text/x-python",
   "name": "python",
   "nbconvert_exporter": "python",
   "pygments_lexer": "ipython3",
   "version": "3.7.4"
  }
 },
 "nbformat": 4,
 "nbformat_minor": 2
}
