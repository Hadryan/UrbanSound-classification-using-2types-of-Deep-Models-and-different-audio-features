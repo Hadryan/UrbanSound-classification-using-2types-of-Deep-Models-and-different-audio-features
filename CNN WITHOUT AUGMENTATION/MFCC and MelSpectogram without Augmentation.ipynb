{
 "cells": [
  {
   "cell_type": "code",
   "execution_count": 1,
   "metadata": {},
   "outputs": [],
   "source": [
    "import os\n",
    "import sys\n",
    "from os import listdir\n",
    "from os.path import isfile, join\n",
    "import IPython.display as ipd\n",
    "import librosa \n",
    "import librosa.display\n",
    "%matplotlib inline\n",
    "import matplotlib.pyplot as plt\n",
    "import pandas as pd\n",
    "from scipy.io import wavfile as wav\n",
    "import numpy as np\n",
    "from timeit import default_timer as timer"
   ]
  },
  {
   "cell_type": "markdown",
   "metadata": {},
   "source": [
    "# Implementing CNN model with MFCC and MelSpectogram"
   ]
  },
  {
   "cell_type": "code",
   "execution_count": 2,
   "metadata": {},
   "outputs": [],
   "source": [
    "def extract_MFCCandMel(filename):\n",
    "    audio, sample_rate=librosa.load(filename, res_type='kaiser_fast')\n",
    "    mfccs=np.mean(librosa.feature.mfcc(y=audio, sr=sample_rate, n_mfcc=50).T, axis=0)\n",
    "    mel=np.mean(librosa.feature.melspectrogram(audio ,sr=sample_rate, n_mels=50,fmax=8000).T, axis=0)\n",
    "    \n",
    "    return mfccs, mel"
   ]
  },
  {
   "cell_type": "code",
   "execution_count": 3,
   "metadata": {},
   "outputs": [
    {
     "name": "stdout",
     "output_type": "stream",
     "text": [
      "Time taken to extract feature from one file: 0.030sec\n"
     ]
    }
   ],
   "source": [
    "start_time=timer()\n",
    "filename=\"E:/Thesis/Dataset/UrbanSound8K/audio/fold3/6988-5-0-4.wav\"\n",
    "a,b=extract_MFCCandMel(filename)\n",
    "end_time=timer()\n",
    "print('Time taken to extract feature from one file: {:.3f}sec'.format((end_time-start_time)/60))"
   ]
  },
  {
   "cell_type": "code",
   "execution_count": 4,
   "metadata": {},
   "outputs": [
    {
     "name": "stdout",
     "output_type": "stream",
     "text": [
      "(50,) (50,)\n",
      "(100,)\n"
     ]
    }
   ],
   "source": [
    "print(a.shape,b.shape)\n",
    "c=np.hstack([a,b])\n",
    "print(c.shape)"
   ]
  },
  {
   "cell_type": "code",
   "execution_count": 5,
   "metadata": {},
   "outputs": [
    {
     "data": {
      "text/html": [
       "<div>\n",
       "<style scoped>\n",
       "    .dataframe tbody tr th:only-of-type {\n",
       "        vertical-align: middle;\n",
       "    }\n",
       "\n",
       "    .dataframe tbody tr th {\n",
       "        vertical-align: top;\n",
       "    }\n",
       "\n",
       "    .dataframe thead th {\n",
       "        text-align: right;\n",
       "    }\n",
       "</style>\n",
       "<table border=\"1\" class=\"dataframe\">\n",
       "  <thead>\n",
       "    <tr style=\"text-align: right;\">\n",
       "      <th></th>\n",
       "      <th>slice_file_name</th>\n",
       "      <th>fsID</th>\n",
       "      <th>start</th>\n",
       "      <th>end</th>\n",
       "      <th>salience</th>\n",
       "      <th>fold</th>\n",
       "      <th>classID</th>\n",
       "      <th>class_name</th>\n",
       "    </tr>\n",
       "  </thead>\n",
       "  <tbody>\n",
       "    <tr>\n",
       "      <td>0</td>\n",
       "      <td>100032-3-0-0.wav</td>\n",
       "      <td>100032</td>\n",
       "      <td>0.0</td>\n",
       "      <td>0.317551</td>\n",
       "      <td>1</td>\n",
       "      <td>5</td>\n",
       "      <td>3</td>\n",
       "      <td>dog_bark</td>\n",
       "    </tr>\n",
       "    <tr>\n",
       "      <td>1</td>\n",
       "      <td>100263-2-0-117.wav</td>\n",
       "      <td>100263</td>\n",
       "      <td>58.5</td>\n",
       "      <td>62.500000</td>\n",
       "      <td>1</td>\n",
       "      <td>5</td>\n",
       "      <td>2</td>\n",
       "      <td>children_playing</td>\n",
       "    </tr>\n",
       "    <tr>\n",
       "      <td>2</td>\n",
       "      <td>100263-2-0-121.wav</td>\n",
       "      <td>100263</td>\n",
       "      <td>60.5</td>\n",
       "      <td>64.500000</td>\n",
       "      <td>1</td>\n",
       "      <td>5</td>\n",
       "      <td>2</td>\n",
       "      <td>children_playing</td>\n",
       "    </tr>\n",
       "    <tr>\n",
       "      <td>3</td>\n",
       "      <td>100263-2-0-126.wav</td>\n",
       "      <td>100263</td>\n",
       "      <td>63.0</td>\n",
       "      <td>67.000000</td>\n",
       "      <td>1</td>\n",
       "      <td>5</td>\n",
       "      <td>2</td>\n",
       "      <td>children_playing</td>\n",
       "    </tr>\n",
       "    <tr>\n",
       "      <td>4</td>\n",
       "      <td>100263-2-0-137.wav</td>\n",
       "      <td>100263</td>\n",
       "      <td>68.5</td>\n",
       "      <td>72.500000</td>\n",
       "      <td>1</td>\n",
       "      <td>5</td>\n",
       "      <td>2</td>\n",
       "      <td>children_playing</td>\n",
       "    </tr>\n",
       "  </tbody>\n",
       "</table>\n",
       "</div>"
      ],
      "text/plain": [
       "      slice_file_name    fsID  start        end  salience  fold  classID  \\\n",
       "0    100032-3-0-0.wav  100032    0.0   0.317551         1     5        3   \n",
       "1  100263-2-0-117.wav  100263   58.5  62.500000         1     5        2   \n",
       "2  100263-2-0-121.wav  100263   60.5  64.500000         1     5        2   \n",
       "3  100263-2-0-126.wav  100263   63.0  67.000000         1     5        2   \n",
       "4  100263-2-0-137.wav  100263   68.5  72.500000         1     5        2   \n",
       "\n",
       "         class_name  \n",
       "0          dog_bark  \n",
       "1  children_playing  \n",
       "2  children_playing  \n",
       "3  children_playing  \n",
       "4  children_playing  "
      ]
     },
     "execution_count": 5,
     "metadata": {},
     "output_type": "execute_result"
    }
   ],
   "source": [
    "metadata=pd.read_csv('E:/Thesis/Dataset/UrbanSound8K/metadata/UrbanSound8K.csv')\n",
    "metadata.head()"
   ]
  },
  {
   "cell_type": "code",
   "execution_count": 6,
   "metadata": {},
   "outputs": [],
   "source": [
    "fold_list = ['fold1', 'fold2', 'fold3', 'fold4', 'fold5', 'fold6', 'fold7', 'fold8', 'fold9', 'fold10']"
   ]
  },
  {
   "cell_type": "code",
   "execution_count": 7,
   "metadata": {},
   "outputs": [
    {
     "name": "stderr",
     "output_type": "stream",
     "text": [
      "C:\\Users\\User\\Anaconda3\\lib\\site-packages\\librosa\\core\\audio.py:146: UserWarning: PySoundFile failed. Trying audioread instead.\n",
      "  warnings.warn('PySoundFile failed. Trying audioread instead.')\n"
     ]
    },
    {
     "name": "stdout",
     "output_type": "stream",
     "text": [
      "E:/Thesis/Dataset/UrbanSound8K/audio/fold1/.DS_Store\n",
      "E:/Thesis/Dataset/UrbanSound8K/audio/fold2/.DS_Store\n",
      "E:/Thesis/Dataset/UrbanSound8K/audio/fold3/.DS_Store\n",
      "E:/Thesis/Dataset/UrbanSound8K/audio/fold4/.DS_Store\n",
      "E:/Thesis/Dataset/UrbanSound8K/audio/fold5/.DS_Store\n",
      "E:/Thesis/Dataset/UrbanSound8K/audio/fold6/.DS_Store\n",
      "E:/Thesis/Dataset/UrbanSound8K/audio/fold7/.DS_Store\n",
      "E:/Thesis/Dataset/UrbanSound8K/audio/fold8/.DS_Store\n",
      "E:/Thesis/Dataset/UrbanSound8K/audio/fold9/.DS_Store\n",
      "E:/Thesis/Dataset/UrbanSound8K/audio/fold10/.DS_Store\n",
      "Exceptions:  10\n",
      "time taken: 13.0 minutes 59.4 seconds\n",
      "None\n",
      "Finished feature extraction from all folder\n"
     ]
    }
   ],
   "source": [
    "\n",
    "stacked_features = []\n",
    "exceptions=0\n",
    "\n",
    "start_time = timer()\n",
    "for i in range(10):\n",
    "    # get file names\n",
    "    mypath = 'E:/Thesis/Dataset/UrbanSound8K/audio/'+ fold_list[i] + '/'\n",
    "    files = [mypath + f for f in listdir(mypath) if isfile(join(mypath, f))]\n",
    "    \n",
    "    for fn in files:\n",
    "        try: # extract features\n",
    "            mfccs,mels = extract_MFCCandMel(fn)\n",
    "            features=np.reshape((np.hstack([mfccs,mels])),(20,5))\n",
    "            \n",
    "            \n",
    "        except: # else exception (.ds_store files are part of mac file systems)\n",
    "            print(fn)\n",
    "            exceptions += 1\n",
    "            continue\n",
    "            \n",
    "        l_row = metadata.loc[metadata['slice_file_name']==fn.split('/')[-1]].values.tolist()\n",
    "        label = l_row[0][-1]\n",
    "        fold = i+1\n",
    "    \n",
    "        stacked_features.append([features, features.shape, label, fold])\n",
    "        \n",
    "            #print(f,old_samplerate,ss)\n",
    "        \n",
    "print(\"Exceptions: \", exceptions)\n",
    "end_time = timer()\n",
    "print(print(\"time taken: {0} minutes {1:.1f} seconds\".format((end_time - start_time)//60, (end_time - start_time)%60)))\n",
    "print('Finished feature extraction from all folder')"
   ]
  },
  {
   "cell_type": "code",
   "execution_count": 8,
   "metadata": {},
   "outputs": [
    {
     "data": {
      "text/html": [
       "<div>\n",
       "<style scoped>\n",
       "    .dataframe tbody tr th:only-of-type {\n",
       "        vertical-align: middle;\n",
       "    }\n",
       "\n",
       "    .dataframe tbody tr th {\n",
       "        vertical-align: top;\n",
       "    }\n",
       "\n",
       "    .dataframe thead th {\n",
       "        text-align: right;\n",
       "    }\n",
       "</style>\n",
       "<table border=\"1\" class=\"dataframe\">\n",
       "  <thead>\n",
       "    <tr style=\"text-align: right;\">\n",
       "      <th></th>\n",
       "      <th>Features_MFCC_Mel</th>\n",
       "      <th>Matrix_Shape</th>\n",
       "      <th>Label</th>\n",
       "      <th>Fold</th>\n",
       "    </tr>\n",
       "  </thead>\n",
       "  <tbody>\n",
       "    <tr>\n",
       "      <td>0</td>\n",
       "      <td>[[-403.96762, 94.398056, 17.75182, -11.521065,...</td>\n",
       "      <td>(20, 5)</td>\n",
       "      <td>dog_bark</td>\n",
       "      <td>1</td>\n",
       "    </tr>\n",
       "    <tr>\n",
       "      <td>1</td>\n",
       "      <td>[[-368.11002, 128.74481, 28.91274, -21.190063,...</td>\n",
       "      <td>(20, 5)</td>\n",
       "      <td>dog_bark</td>\n",
       "      <td>1</td>\n",
       "    </tr>\n",
       "    <tr>\n",
       "      <td>2</td>\n",
       "      <td>[[-422.47903, 70.38345, 9.934866, 0.0006177825...</td>\n",
       "      <td>(20, 5)</td>\n",
       "      <td>dog_bark</td>\n",
       "      <td>1</td>\n",
       "    </tr>\n",
       "    <tr>\n",
       "      <td>3</td>\n",
       "      <td>[[-260.24, 109.35184, -51.811287, -4.2874146, ...</td>\n",
       "      <td>(20, 5)</td>\n",
       "      <td>dog_bark</td>\n",
       "      <td>1</td>\n",
       "    </tr>\n",
       "    <tr>\n",
       "      <td>4</td>\n",
       "      <td>[[-386.7848, 132.62964, 25.220673, 22.799538, ...</td>\n",
       "      <td>(20, 5)</td>\n",
       "      <td>gun_shot</td>\n",
       "      <td>1</td>\n",
       "    </tr>\n",
       "  </tbody>\n",
       "</table>\n",
       "</div>"
      ],
      "text/plain": [
       "                                   Features_MFCC_Mel Matrix_Shape     Label  \\\n",
       "0  [[-403.96762, 94.398056, 17.75182, -11.521065,...      (20, 5)  dog_bark   \n",
       "1  [[-368.11002, 128.74481, 28.91274, -21.190063,...      (20, 5)  dog_bark   \n",
       "2  [[-422.47903, 70.38345, 9.934866, 0.0006177825...      (20, 5)  dog_bark   \n",
       "3  [[-260.24, 109.35184, -51.811287, -4.2874146, ...      (20, 5)  dog_bark   \n",
       "4  [[-386.7848, 132.62964, 25.220673, 22.799538, ...      (20, 5)  gun_shot   \n",
       "\n",
       "   Fold  \n",
       "0     1  \n",
       "1     1  \n",
       "2     1  \n",
       "3     1  \n",
       "4     1  "
      ]
     },
     "execution_count": 8,
     "metadata": {},
     "output_type": "execute_result"
    }
   ],
   "source": [
    "cols=['Features_MFCC_Mel', 'Matrix_Shape', 'Label', 'Fold']\n",
    "Stacked_feature_pd=pd.DataFrame(data=stacked_features , columns=cols)\n",
    "Stacked_feature_pd.head()"
   ]
  },
  {
   "cell_type": "code",
   "execution_count": 9,
   "metadata": {},
   "outputs": [
    {
     "name": "stderr",
     "output_type": "stream",
     "text": [
      "Using TensorFlow backend.\n"
     ]
    }
   ],
   "source": [
    "from sklearn.preprocessing import LabelEncoder\n",
    "from keras.utils import to_categorical\n",
    "\n",
    "\n",
    "X = np.array(Stacked_feature_pd.Features_MFCC_Mel.tolist())\n",
    "y = np.array(Stacked_feature_pd.Label.tolist())\n",
    "\n",
    "\n",
    "le = LabelEncoder()\n",
    "yy = to_categorical(le.fit_transform(y))"
   ]
  },
  {
   "cell_type": "code",
   "execution_count": 10,
   "metadata": {},
   "outputs": [],
   "source": [
    "from sklearn.model_selection import train_test_split \n",
    "\n",
    "x_train, x_test, y_train, y_test = train_test_split(X, yy, test_size=0.2, random_state=42)"
   ]
  },
  {
   "cell_type": "code",
   "execution_count": 11,
   "metadata": {},
   "outputs": [
    {
     "name": "stdout",
     "output_type": "stream",
     "text": [
      "(6985, 20, 5) (1747, 20, 5) (6985, 10) (1747, 10) (8732, 10)\n"
     ]
    }
   ],
   "source": [
    "print(x_train.shape, x_test.shape, y_train.shape, y_test.shape, yy.shape)"
   ]
  },
  {
   "cell_type": "code",
   "execution_count": 12,
   "metadata": {},
   "outputs": [
    {
     "name": "stdout",
     "output_type": "stream",
     "text": [
      "(6985, 20, 5, 1) (1747, 20, 5, 1)\n"
     ]
    }
   ],
   "source": [
    "x_train =x_train.reshape(x_train.shape[0], 20, 5,1)\n",
    "x_test=x_test.reshape(x_test.shape[0],20,5, 1)\n",
    "\n",
    "print(x_train.shape, x_test.shape)"
   ]
  },
  {
   "cell_type": "code",
   "execution_count": 13,
   "metadata": {},
   "outputs": [],
   "source": [
    "from keras.models import Sequential\n",
    "from keras.layers import Dense, Dropout, Activation, Flatten\n",
    "from keras.layers import Convolution2D, Conv2D, MaxPooling2D, GlobalAveragePooling2D\n",
    "from keras.optimizers import Adam\n",
    "from keras.utils import np_utils\n",
    "from sklearn import metrics \n",
    "\n",
    "model=Sequential()\n",
    "model.add(Conv2D(64,kernel_size=5,strides=1,padding=\"Same\",activation=\"relu\",input_shape=(20,5,1)))\n",
    "model.add(MaxPooling2D(padding=\"same\"))\n",
    "\n",
    "model.add(Conv2D(128,kernel_size=5,strides=1,padding=\"same\",activation=\"relu\"))\n",
    "model.add(MaxPooling2D(padding=\"same\"))\n",
    "model.add(Dropout(0.3))\n",
    "\n",
    "model.add(Flatten())\n",
    "\n",
    "model.add(Dense(256,activation=\"relu\"))\n",
    "model.add(Dropout(0.3))\n",
    "\n",
    "model.add(Dense(512,activation=\"relu\"))\n",
    "model.add(Dropout(0.3))\n",
    "\n",
    "model.add(Dense(10,activation=\"softmax\"))\n",
    "                 \n"
   ]
  },
  {
   "cell_type": "code",
   "execution_count": 14,
   "metadata": {},
   "outputs": [
    {
     "name": "stdout",
     "output_type": "stream",
     "text": [
      "Model: \"sequential_1\"\n",
      "_________________________________________________________________\n",
      "Layer (type)                 Output Shape              Param #   \n",
      "=================================================================\n",
      "conv2d_1 (Conv2D)            (None, 20, 5, 64)         1664      \n",
      "_________________________________________________________________\n",
      "max_pooling2d_1 (MaxPooling2 (None, 10, 3, 64)         0         \n",
      "_________________________________________________________________\n",
      "conv2d_2 (Conv2D)            (None, 10, 3, 128)        204928    \n",
      "_________________________________________________________________\n",
      "max_pooling2d_2 (MaxPooling2 (None, 5, 2, 128)         0         \n",
      "_________________________________________________________________\n",
      "dropout_1 (Dropout)          (None, 5, 2, 128)         0         \n",
      "_________________________________________________________________\n",
      "flatten_1 (Flatten)          (None, 1280)              0         \n",
      "_________________________________________________________________\n",
      "dense_1 (Dense)              (None, 256)               327936    \n",
      "_________________________________________________________________\n",
      "dropout_2 (Dropout)          (None, 256)               0         \n",
      "_________________________________________________________________\n",
      "dense_2 (Dense)              (None, 512)               131584    \n",
      "_________________________________________________________________\n",
      "dropout_3 (Dropout)          (None, 512)               0         \n",
      "_________________________________________________________________\n",
      "dense_3 (Dense)              (None, 10)                5130      \n",
      "=================================================================\n",
      "Total params: 671,242\n",
      "Trainable params: 671,242\n",
      "Non-trainable params: 0\n",
      "_________________________________________________________________\n"
     ]
    }
   ],
   "source": [
    "model.compile(loss='categorical_crossentropy', metrics=['accuracy'], optimizer='adam')\n",
    "model.summary()"
   ]
  },
  {
   "cell_type": "code",
   "execution_count": 15,
   "metadata": {},
   "outputs": [
    {
     "name": "stdout",
     "output_type": "stream",
     "text": [
      "1747/1747 [==============================] - 1s 582us/step\n",
      "Pre-training accuracy: 10.6468%\n"
     ]
    }
   ],
   "source": [
    "score = model.evaluate(x_test, y_test, verbose=1)\n",
    "accuracy = 100*score[1]\n",
    "\n",
    "print(\"Pre-training accuracy: %.4f%%\" % accuracy)"
   ]
  },
  {
   "cell_type": "code",
   "execution_count": 16,
   "metadata": {},
   "outputs": [
    {
     "name": "stdout",
     "output_type": "stream",
     "text": [
      "Train on 6985 samples, validate on 1747 samples\n",
      "Epoch 1/30\n",
      "6985/6985 [==============================] - 8s 1ms/step - loss: 2.0652 - accuracy: 0.2949 - val_loss: 1.6539 - val_accuracy: 0.4745\n",
      "Epoch 2/30\n",
      "6985/6985 [==============================] - 7s 1ms/step - loss: 1.5466 - accuracy: 0.4583 - val_loss: 1.2732 - val_accuracy: 0.5930\n",
      "Epoch 3/30\n",
      "6985/6985 [==============================] - 7s 1ms/step - loss: 1.3235 - accuracy: 0.5497 - val_loss: 1.0986 - val_accuracy: 0.6279\n",
      "Epoch 4/30\n",
      "6985/6985 [==============================] - 9s 1ms/step - loss: 1.1442 - accuracy: 0.6160 - val_loss: 0.9696 - val_accuracy: 0.6743\n",
      "Epoch 5/30\n",
      "6985/6985 [==============================] - 9s 1ms/step - loss: 1.0567 - accuracy: 0.6382 - val_loss: 0.8949 - val_accuracy: 0.7264\n",
      "Epoch 6/30\n",
      "6985/6985 [==============================] - 8s 1ms/step - loss: 0.9470 - accuracy: 0.6869 - val_loss: 0.8351 - val_accuracy: 0.7476\n",
      "Epoch 7/30\n",
      "6985/6985 [==============================] - 9s 1ms/step - loss: 0.8975 - accuracy: 0.7025 - val_loss: 0.7417 - val_accuracy: 0.7762\n",
      "Epoch 8/30\n",
      "6985/6985 [==============================] - 9s 1ms/step - loss: 0.8038 - accuracy: 0.7323 - val_loss: 0.7192 - val_accuracy: 0.7779\n",
      "Epoch 9/30\n",
      "6985/6985 [==============================] - 9s 1ms/step - loss: 0.7315 - accuracy: 0.7605 - val_loss: 0.6519 - val_accuracy: 0.7991\n",
      "Epoch 10/30\n",
      "6985/6985 [==============================] - 9s 1ms/step - loss: 0.7286 - accuracy: 0.7639 - val_loss: 0.6078 - val_accuracy: 0.8077\n",
      "Epoch 11/30\n",
      "6985/6985 [==============================] - 9s 1ms/step - loss: 0.6529 - accuracy: 0.7841 - val_loss: 0.5970 - val_accuracy: 0.8037\n",
      "Epoch 12/30\n",
      "6985/6985 [==============================] - 9s 1ms/step - loss: 0.6106 - accuracy: 0.7999 - val_loss: 0.5607 - val_accuracy: 0.8323\n",
      "Epoch 13/30\n",
      "6985/6985 [==============================] - 9s 1ms/step - loss: 0.5739 - accuracy: 0.8102 - val_loss: 0.5534 - val_accuracy: 0.8203\n",
      "Epoch 14/30\n",
      "6985/6985 [==============================] - 9s 1ms/step - loss: 0.5331 - accuracy: 0.8275 - val_loss: 0.4936 - val_accuracy: 0.8466\n",
      "Epoch 15/30\n",
      "6985/6985 [==============================] - 9s 1ms/step - loss: 0.5517 - accuracy: 0.8140 - val_loss: 0.5361 - val_accuracy: 0.8414\n",
      "Epoch 16/30\n",
      "6985/6985 [==============================] - 9s 1ms/step - loss: 0.5037 - accuracy: 0.8293 - val_loss: 0.4929 - val_accuracy: 0.8380\n",
      "Epoch 17/30\n",
      "6985/6985 [==============================] - 9s 1ms/step - loss: 0.4998 - accuracy: 0.8362 - val_loss: 0.4674 - val_accuracy: 0.8558\n",
      "Epoch 18/30\n",
      "6985/6985 [==============================] - 9s 1ms/step - loss: 0.4780 - accuracy: 0.8417 - val_loss: 0.5972 - val_accuracy: 0.8392\n",
      "Epoch 19/30\n",
      "6985/6985 [==============================] - 9s 1ms/step - loss: 0.4655 - accuracy: 0.8504 - val_loss: 0.4315 - val_accuracy: 0.8586\n",
      "Epoch 20/30\n",
      "6985/6985 [==============================] - 9s 1ms/step - loss: 0.4234 - accuracy: 0.8613 - val_loss: 0.3981 - val_accuracy: 0.8695\n",
      "Epoch 21/30\n",
      "6985/6985 [==============================] - 9s 1ms/step - loss: 0.4060 - accuracy: 0.8640 - val_loss: 0.5119 - val_accuracy: 0.8558\n",
      "Epoch 22/30\n",
      "6985/6985 [==============================] - 9s 1ms/step - loss: 0.4015 - accuracy: 0.8637 - val_loss: 0.3876 - val_accuracy: 0.8735\n",
      "Epoch 23/30\n",
      "6985/6985 [==============================] - 9s 1ms/step - loss: 0.4005 - accuracy: 0.8673 - val_loss: 0.3741 - val_accuracy: 0.8706\n",
      "Epoch 24/30\n",
      "6985/6985 [==============================] - 9s 1ms/step - loss: 0.3748 - accuracy: 0.8739 - val_loss: 0.3798 - val_accuracy: 0.8844\n",
      "Epoch 25/30\n",
      "6985/6985 [==============================] - 9s 1ms/step - loss: 0.3858 - accuracy: 0.8740 - val_loss: 0.3847 - val_accuracy: 0.8804\n",
      "Epoch 26/30\n",
      "6985/6985 [==============================] - 9s 1ms/step - loss: 0.3961 - accuracy: 0.8730 - val_loss: 0.4093 - val_accuracy: 0.8758\n",
      "Epoch 27/30\n",
      "6985/6985 [==============================] - 9s 1ms/step - loss: 0.3444 - accuracy: 0.8809 - val_loss: 0.4132 - val_accuracy: 0.8781\n",
      "Epoch 28/30\n",
      "6985/6985 [==============================] - 9s 1ms/step - loss: 0.3554 - accuracy: 0.8782 - val_loss: 0.4216 - val_accuracy: 0.8729\n",
      "Epoch 29/30\n",
      "6985/6985 [==============================] - 9s 1ms/step - loss: 0.3650 - accuracy: 0.8802 - val_loss: 0.4183 - val_accuracy: 0.8844\n",
      "Epoch 30/30\n",
      "6985/6985 [==============================] - 9s 1ms/step - loss: 0.3661 - accuracy: 0.8849 - val_loss: 0.4097 - val_accuracy: 0.8964\n",
      "time taken: 4.0 minutes 20.7 seconds\n",
      "None\n"
     ]
    }
   ],
   "source": [
    "start_time=timer()\n",
    "history=model.fit(x_train,y_train,batch_size=50,epochs=30,validation_data=(x_test,y_test))\n",
    "end_time=timer()\n",
    "print(print(\"time taken: {0} minutes {1:.1f} seconds\".format((end_time - start_time)//60, (end_time - start_time)%60)))"
   ]
  },
  {
   "cell_type": "code",
   "execution_count": 17,
   "metadata": {},
   "outputs": [
    {
     "name": "stdout",
     "output_type": "stream",
     "text": [
      "Training Accuracy:  0.9544738531112671\n",
      "Testing Accuracy:  0.8963938355445862\n"
     ]
    }
   ],
   "source": [
    "score = model.evaluate(x_train, y_train, verbose=0)\n",
    "print(\"Training Accuracy: \", score[1])\n",
    "\n",
    "score = model.evaluate(x_test, y_test, verbose=0)\n",
    "print(\"Testing Accuracy: \", score[1])"
   ]
  },
  {
   "cell_type": "code",
   "execution_count": 18,
   "metadata": {},
   "outputs": [],
   "source": [
    "Class_Label = {'Air_conditioner':0, 'Car_horn':1, 'Children_playing':2, 'Dog_Bark':3, \n",
    "               'Drilling':4,'Engine_idling':5, 'Gun_Shot' :6, 'Jackhammer': 7 ,'Siren':8,'Street_Music':9 }"
   ]
  },
  {
   "cell_type": "code",
   "execution_count": 19,
   "metadata": {},
   "outputs": [
    {
     "name": "stdout",
     "output_type": "stream",
     "text": [
      "(1747,) (1747,)\n",
      "                  precision    recall  f1-score   support\n",
      "\n",
      " Air_conditioner       0.94      0.93      0.94       195\n",
      "        Car_horn       0.94      0.92      0.93        73\n",
      "Children_playing       0.82      0.89      0.85       198\n",
      "        Dog_Bark       0.79      0.85      0.82       190\n",
      "        Drilling       0.98      0.84      0.91       222\n",
      "   Engine_idling       0.94      0.96      0.95       197\n",
      "        Gun_Shot       0.88      0.89      0.89        57\n",
      "      Jackhammer       0.92      0.99      0.95       217\n",
      "           Siren       0.91      0.92      0.91       204\n",
      "    Street_Music       0.85      0.78      0.81       194\n",
      "\n",
      "        accuracy                           0.90      1747\n",
      "       macro avg       0.90      0.90      0.90      1747\n",
      "    weighted avg       0.90      0.90      0.90      1747\n",
      "\n"
     ]
    }
   ],
   "source": [
    "from sklearn.metrics import classification_report\n",
    "\n",
    "y_true = np.argmax(y_test, axis = 1)\n",
    "y_pred = model.predict(x_test)\n",
    "y_pred = np.argmax(y_pred, axis=1)\n",
    "labels = [0,1,2,3,4,5,6,7,8,9]\n",
    "target_names = Class_Label.keys()\n",
    "\n",
    "print(y_true.shape, y_pred.shape)\n",
    "print(classification_report(y_true, y_pred, target_names=target_names))"
   ]
  },
  {
   "cell_type": "code",
   "execution_count": 20,
   "metadata": {},
   "outputs": [
    {
     "name": "stdout",
     "output_type": "stream",
     "text": [
      "89.63938179736691\n"
     ]
    }
   ],
   "source": [
    "from sklearn.metrics import accuracy_score\n",
    "\n",
    "print(accuracy_score(y_true, y_pred)*100)"
   ]
  },
  {
   "cell_type": "code",
   "execution_count": 21,
   "metadata": {},
   "outputs": [
    {
     "name": "stdout",
     "output_type": "stream",
     "text": [
      "[[182   1   3   1   0   0   2   0   1   5]\n",
      " [  0  67   1   1   0   1   0   1   1   1]\n",
      " [  0   2 176  11   0   1   1   0   4   3]\n",
      " [  4   1   9 162   1   3   0   0   5   5]\n",
      " [  1   0   0  11 187   2   3  11   1   6]\n",
      " [  0   0   2   1   0 189   0   0   0   5]\n",
      " [  0   0   3   3   0   0  51   0   0   0]\n",
      " [  0   0   0   0   1   1   0 214   0   1]\n",
      " [  0   0   7   9   0   0   0   0 187   1]\n",
      " [  6   0  14   5   2   3   1   6   6 151]]\n"
     ]
    }
   ],
   "source": [
    "from sklearn.metrics import confusion_matrix\n",
    "print(confusion_matrix(y_true, y_pred))"
   ]
  },
  {
   "cell_type": "code",
   "execution_count": 23,
   "metadata": {},
   "outputs": [
    {
     "data": {
      "image/png": "[encoded data removed]",
      "text/plain": [
       "<Figure size 432x288 with 1 Axes>"
      ]
     },
     "metadata": {
      "needs_background": "light"
     },
     "output_type": "display_data"
    },
    {
     "data": {
      "text/plain": [
       "<Figure size 720x288 with 0 Axes>"
      ]
     },
     "metadata": {},
     "output_type": "display_data"
    }
   ],
   "source": [
    "from sklearn.metrics import confusion_matrix\n",
    "import seaborn as sns\n",
    "import matplotlib.pyplot as plt\n",
    "\n",
    "ax=plt.subplot()\n",
    "mat = confusion_matrix(y_true, y_pred)\n",
    "plt.figure(figsize=(10,4))\n",
    "sns.heatmap(mat, square=False, annot=True, fmt='d',cbar=False,linewidths=.5,xticklabels=Class_Label.keys(),yticklabels=Class_Label.keys(), ax=ax, cmap='PuBuGn')\n",
    "bottom, top= ax.get_ylim()\n",
    "ax.set_ylim(bottom + 0.5 , top -0.5)\n",
    "ax.set_title('Confusion Matrix')\n",
    "ax.set_xlabel('True label')\n",
    "ax.set_ylabel('Predicted label');"
   ]
  },
  {
   "cell_type": "code",
   "execution_count": 24,
   "metadata": {},
   "outputs": [],
   "source": [
    "def acc_per_class(np_probs_array):    \n",
    "    accs = []\n",
    "    for idx in range(0, np_probs_array.shape[0]):\n",
    "        correct = np_probs_array[idx][idx].astype(int)\n",
    "        total = np_probs_array[idx].sum().astype(int)\n",
    "        acc = (correct / total) * 100\n",
    "        accs.append(acc)\n",
    "    return accs"
   ]
  },
  {
   "cell_type": "code",
   "execution_count": 25,
   "metadata": {},
   "outputs": [
    {
     "data": {
      "text/html": [
       "<div>\n",
       "<style scoped>\n",
       "    .dataframe tbody tr th:only-of-type {\n",
       "        vertical-align: middle;\n",
       "    }\n",
       "\n",
       "    .dataframe tbody tr th {\n",
       "        vertical-align: top;\n",
       "    }\n",
       "\n",
       "    .dataframe thead th {\n",
       "        text-align: right;\n",
       "    }\n",
       "</style>\n",
       "<table border=\"1\" class=\"dataframe\">\n",
       "  <thead>\n",
       "    <tr style=\"text-align: right;\">\n",
       "      <th></th>\n",
       "      <th>CLASS</th>\n",
       "      <th>ACCURACY</th>\n",
       "    </tr>\n",
       "  </thead>\n",
       "  <tbody>\n",
       "    <tr>\n",
       "      <td>7</td>\n",
       "      <td>Jackhammer</td>\n",
       "      <td>98.617512</td>\n",
       "    </tr>\n",
       "    <tr>\n",
       "      <td>5</td>\n",
       "      <td>Engine Idling</td>\n",
       "      <td>95.939086</td>\n",
       "    </tr>\n",
       "    <tr>\n",
       "      <td>0</td>\n",
       "      <td>Air Conditioner</td>\n",
       "      <td>93.333333</td>\n",
       "    </tr>\n",
       "    <tr>\n",
       "      <td>1</td>\n",
       "      <td>Car Horn</td>\n",
       "      <td>91.780822</td>\n",
       "    </tr>\n",
       "    <tr>\n",
       "      <td>8</td>\n",
       "      <td>Siren</td>\n",
       "      <td>91.666667</td>\n",
       "    </tr>\n",
       "    <tr>\n",
       "      <td>6</td>\n",
       "      <td>Gun Shot</td>\n",
       "      <td>89.473684</td>\n",
       "    </tr>\n",
       "    <tr>\n",
       "      <td>2</td>\n",
       "      <td>Children Playing</td>\n",
       "      <td>88.888889</td>\n",
       "    </tr>\n",
       "    <tr>\n",
       "      <td>3</td>\n",
       "      <td>Dog bark</td>\n",
       "      <td>85.263158</td>\n",
       "    </tr>\n",
       "    <tr>\n",
       "      <td>4</td>\n",
       "      <td>Drilling</td>\n",
       "      <td>84.234234</td>\n",
       "    </tr>\n",
       "    <tr>\n",
       "      <td>9</td>\n",
       "      <td>Street Music</td>\n",
       "      <td>77.835052</td>\n",
       "    </tr>\n",
       "  </tbody>\n",
       "</table>\n",
       "</div>"
      ],
      "text/plain": [
       "              CLASS   ACCURACY\n",
       "7        Jackhammer  98.617512\n",
       "5     Engine Idling  95.939086\n",
       "0   Air Conditioner  93.333333\n",
       "1          Car Horn  91.780822\n",
       "8             Siren  91.666667\n",
       "6          Gun Shot  89.473684\n",
       "2  Children Playing  88.888889\n",
       "3          Dog bark  85.263158\n",
       "4          Drilling  84.234234\n",
       "9      Street Music  77.835052"
      ]
     },
     "execution_count": 25,
     "metadata": {},
     "output_type": "execute_result"
    }
   ],
   "source": [
    "accuracies=acc_per_class(mat)\n",
    "labels = [\n",
    "        'Air Conditioner',\n",
    "        'Car Horn',\n",
    "        'Children Playing',\n",
    "        'Dog bark',\n",
    "        'Drilling',\n",
    "        'Engine Idling',\n",
    "        'Gun Shot',\n",
    "        'Jackhammer',\n",
    "        'Siren',\n",
    "        'Street Music'\n",
    "    ]\n",
    "\n",
    "pd.DataFrame({'CLASS':labels, 'ACCURACY': accuracies}).sort_values(by='ACCURACY', ascending=False)"
   ]
  },
  {
   "cell_type": "code",
   "execution_count": 26,
   "metadata": {},
   "outputs": [
    {
     "data": {
      "text/plain": [
       "Text(0.5, 1.0, 'Accuracy per Class')"
      ]
     },
     "execution_count": 26,
     "metadata": {},
     "output_type": "execute_result"
    },
    {
     "data": {
      "image/png": "[encoded data removed]",
      "text/plain": [
       "<Figure size 720x432 with 1 Axes>"
      ]
     },
     "metadata": {
      "needs_background": "light"
     },
     "output_type": "display_data"
    }
   ],
   "source": [
    "Y=np.around(accuracies , decimals=1)\n",
    "\n",
    "index=np.arange(len(labels))\n",
    "plt.figure(figsize=(10,6))\n",
    "plt.bar(index, Y)\n",
    "plt.xticks(index, labels, rotation=90)\n",
    "plt.xlabel('Class_Name')\n",
    "plt.ylabel('Accuracy')\n",
    "plt.title('Accuracy per Class')"
   ]
  },
  {
   "cell_type": "code",
   "execution_count": null,
   "metadata": {},
   "outputs": [],
   "source": []
  }
 ],
 "metadata": {
  "kernelspec": {
   "display_name": "Python 3",
   "language": "python",
   "name": "python3"
  },
  "language_info": {
   "codemirror_mode": {
    "name": "ipython",
    "version": 3
   },
   "file_extension": ".py",
   "mimetype": "text/x-python",
   "name": "python",
   "nbconvert_exporter": "python",
   "pygments_lexer": "ipython3",
   "version": "3.7.4"
  }
 },
 "nbformat": 4,
 "nbformat_minor": 2
}
