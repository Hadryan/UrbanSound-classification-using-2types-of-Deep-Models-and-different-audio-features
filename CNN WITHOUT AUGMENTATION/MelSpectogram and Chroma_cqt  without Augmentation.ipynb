{
 "cells": [
  {
   "cell_type": "code",
   "execution_count": null,
   "metadata": {},
   "outputs": [],
   "source": [
    "import os\n",
    "import sys\n",
    "from os import listdir\n",
    "from os.path import isfile, join\n",
    "import IPython.display as ipd\n",
    "import librosa \n",
    "import librosa.display\n",
    "%matplotlib inline\n",
    "import matplotlib.pyplot as plt\n",
    "import pandas as pd\n",
    "from scipy.io import wavfile as wav\n",
    "import numpy as np\n",
    "from timeit import default_timer as timer"
   ]
  },
  {
   "cell_type": "markdown",
   "metadata": {},
   "source": [
    "# Implementing CNN with Mel and Chroma_cqt"
   ]
  },
  {
   "cell_type": "code",
   "execution_count": null,
   "metadata": {},
   "outputs": [],
   "source": [
    "filename='E:/Thesis/Dataset/UrbanSound8K/audio/fold3/6988-5-0-4.wav'\n",
    "ipd.Audio(filename)"
   ]
  },
  {
   "cell_type": "code",
   "execution_count": null,
   "metadata": {},
   "outputs": [],
   "source": [
    "def extract_MElandChroma_cqt(filename):\n",
    "    audio,sample_rate=librosa.load(filename, res_type='kaiser_fast')\n",
    "    chroma_cqt = np.mean(librosa.feature.chroma_cqt(y=audio, sr=sample_rate,n_chroma=50).T,axis=0)\n",
    "    mel=np.mean(librosa.feature.melspectrogram(audio ,sr=sample_rate, n_mels=50,fmax=8000).T, axis=0)\n",
    "    \n",
    "    return chroma_cqt, mel"
   ]
  },
  {
   "cell_type": "code",
   "execution_count": null,
   "metadata": {},
   "outputs": [],
   "source": [
    "start_time=timer()\n",
    "filename='E:/Thesis/Dataset/UrbanSound8K/audio/fold3/6988-5-0-4.wav'\n",
    "a,b=extract_MElandChroma_cqt(filename)\n",
    "end_time=timer()\n",
    "print('time to extract features from one file: {:.3f}sec'.format((end_time-start_time)/60))\n",
    "print(a.shape, b.shape)"
   ]
  },
  {
   "cell_type": "code",
   "execution_count": null,
   "metadata": {},
   "outputs": [],
   "source": [
    "metadata=pd.read_csv('E:/Thesis/Dataset/UrbanSound8K/metadata/UrbanSound8K.csv')\n",
    "metadata.head()"
   ]
  },
  {
   "cell_type": "code",
   "execution_count": null,
   "metadata": {},
   "outputs": [],
   "source": [
    "fold_list = ['fold1', 'fold2', 'fold3', 'fold4', 'fold5', 'fold6', 'fold7', 'fold8', 'fold9', 'fold10']"
   ]
  },
  {
   "cell_type": "code",
   "execution_count": null,
   "metadata": {},
   "outputs": [],
   "source": [
    "stacked_features = []\n",
    "exceptions=0\n",
    "\n",
    "start_time = timer()\n",
    "for i in range(10):\n",
    "    # get file names\n",
    "    mypath = 'E:/Thesis/Dataset/UrbanSound8K/audio/'+ fold_list[i] + '/'\n",
    "    files = [mypath + f for f in listdir(mypath) if isfile(join(mypath, f))]\n",
    "    \n",
    "    for fn in files:\n",
    "        try: # extract features\n",
    "            a,b=extract_MElandChroma_cqt(fn)\n",
    "            features=np.reshape((np.hstack([a,b])),(20,5))\n",
    "             \n",
    "    \n",
    "            \n",
    "            \n",
    "        except: # else exception (.ds_store files are part of mac file systems)\n",
    "            print(fn)\n",
    "            exceptions += 1\n",
    "            continue\n",
    "            \n",
    "        l_row = metadata.loc[metadata['slice_file_name']==fn.split('/')[-1]].values.tolist()\n",
    "        label = l_row[0][-1]\n",
    "        fold = i+1\n",
    "    \n",
    "        stacked_features.append([features, features.shape, label, fold])\n",
    "        \n",
    "            #print(f,old_samplerate,ss)\n",
    "        \n",
    "print(\"Exceptions: \", exceptions)\n",
    "end_time = timer()\n",
    "print(print(\"time taken: {0} minutes {1:.1f} seconds\".format((end_time - start_time)//60, (end_time - start_time)%60)))\n",
    "print('Finished feature extraction from all folder')"
   ]
  },
  {
   "cell_type": "code",
   "execution_count": null,
   "metadata": {},
   "outputs": [],
   "source": [
    "cols=['Features_MFCC_ChromaSTFT', 'Matrix_Shape', 'Label', 'Fold']\n",
    "Stacked_feature_pd=pd.DataFrame(data=stacked_features , columns=cols)\n",
    "Stacked_feature_pd.head()\n"
   ]
  },
  {
   "cell_type": "code",
   "execution_count": null,
   "metadata": {},
   "outputs": [],
   "source": [
    "from sklearn.preprocessing import LabelEncoder\n",
    "from keras.utils import to_categorical\n",
    "\n",
    "\n",
    "X = np.array(Stacked_feature_pd.Features_MFCC_ChromaSTFT.tolist())\n",
    "y = np.array(Stacked_feature_pd.Label.tolist())\n",
    "\n",
    "\n",
    "le = LabelEncoder()\n",
    "yy = to_categorical(le.fit_transform(y))"
   ]
  },
  {
   "cell_type": "code",
   "execution_count": null,
   "metadata": {},
   "outputs": [],
   "source": [
    "from sklearn.model_selection import train_test_split \n",
    "\n",
    "x_train, x_test, y_train, y_test = train_test_split(X, yy, test_size=0.2, random_state=42)"
   ]
  },
  {
   "cell_type": "code",
   "execution_count": null,
   "metadata": {},
   "outputs": [],
   "source": [
    "print(x_train.shape, x_test.shape, y_train.shape, y_test.shape, yy.shape)"
   ]
  },
  {
   "cell_type": "code",
   "execution_count": null,
   "metadata": {},
   "outputs": [],
   "source": [
    "x_train =x_train.reshape(x_train.shape[0], 20, 5,1)\n",
    "x_test=x_test.reshape(x_test.shape[0],20,5, 1)\n",
    "\n",
    "print(x_train.shape, x_test.shape)"
   ]
  },
  {
   "cell_type": "code",
   "execution_count": null,
   "metadata": {},
   "outputs": [],
   "source": [
    "from keras.models import Sequential\n",
    "from keras.layers import Dense, Dropout, Activation, Flatten\n",
    "from keras.layers import Convolution2D, Conv2D, MaxPooling2D, GlobalAveragePooling2D\n",
    "from keras.optimizers import Adam\n",
    "from keras.utils import np_utils\n",
    "from sklearn import metrics \n",
    "\n",
    "model=Sequential()\n",
    "model.add(Conv2D(64,kernel_size=5,strides=1,padding=\"Same\",activation=\"relu\",input_shape=(20,5,1)))\n",
    "model.add(MaxPooling2D(padding=\"same\"))\n",
    "\n",
    "model.add(Conv2D(128,kernel_size=5,strides=1,padding=\"same\",activation=\"relu\"))\n",
    "model.add(MaxPooling2D(padding=\"same\"))\n",
    "model.add(Dropout(0.3))\n",
    "\n",
    "#model.add(Flatten())\n",
    "\n",
    "model.add(GlobalAveragePooling2D())\n",
    "\n",
    "\n",
    "model.add(Dense(256,activation=\"relu\"))\n",
    "model.add(Dropout(0.3))\n",
    "\n",
    "model.add(Dense(512,activation=\"relu\"))\n",
    "model.add(Dropout(0.3))\n",
    "\n",
    "model.add(Dense(10,activation=\"softmax\"))"
   ]
  },
  {
   "cell_type": "code",
   "execution_count": 16,
   "metadata": {},
   "outputs": [
    {
     "name": "stdout",
     "output_type": "stream",
     "text": [
      "Model: \"sequential_1\"\n",
      "_________________________________________________________________\n",
      "Layer (type)                 Output Shape              Param #   \n",
      "=================================================================\n",
      "conv2d_1 (Conv2D)            (None, 20, 5, 64)         1664      \n",
      "_________________________________________________________________\n",
      "max_pooling2d_1 (MaxPooling2 (None, 10, 3, 64)         0         \n",
      "_________________________________________________________________\n",
      "conv2d_2 (Conv2D)            (None, 10, 3, 128)        204928    \n",
      "_________________________________________________________________\n",
      "max_pooling2d_2 (MaxPooling2 (None, 5, 2, 128)         0         \n",
      "_________________________________________________________________\n",
      "dropout_1 (Dropout)          (None, 5, 2, 128)         0         \n",
      "_________________________________________________________________\n",
      "global_average_pooling2d_1 ( (None, 128)               0         \n",
      "_________________________________________________________________\n",
      "dense_1 (Dense)              (None, 256)               33024     \n",
      "_________________________________________________________________\n",
      "dropout_2 (Dropout)          (None, 256)               0         \n",
      "_________________________________________________________________\n",
      "dense_2 (Dense)              (None, 512)               131584    \n",
      "_________________________________________________________________\n",
      "dropout_3 (Dropout)          (None, 512)               0         \n",
      "_________________________________________________________________\n",
      "dense_3 (Dense)              (None, 10)                5130      \n",
      "=================================================================\n",
      "Total params: 376,330\n",
      "Trainable params: 376,330\n",
      "Non-trainable params: 0\n",
      "_________________________________________________________________\n"
     ]
    }
   ],
   "source": [
    "model.compile(loss='categorical_crossentropy', metrics=['accuracy'], optimizer='adam')\n",
    "model.summary()"
   ]
  },
  {
   "cell_type": "code",
   "execution_count": 17,
   "metadata": {},
   "outputs": [
    {
     "name": "stdout",
     "output_type": "stream",
     "text": [
      "1747/1747 [==============================] - 3s 2ms/step\n",
      "Pre-training accuracy: 8.4144%\n"
     ]
    }
   ],
   "source": [
    "score = model.evaluate(x_test, y_test, verbose=1)\n",
    "accuracy = 100*score[1]\n",
    "\n",
    "print(\"Pre-training accuracy: %.4f%%\" % accuracy)"
   ]
  },
  {
   "cell_type": "code",
   "execution_count": 18,
   "metadata": {},
   "outputs": [
    {
     "name": "stdout",
     "output_type": "stream",
     "text": [
      "Train on 6985 samples, validate on 1747 samples\n",
      "Epoch 1/30\n",
      "6985/6985 [==============================] - 12s 2ms/step - loss: 2.2301 - accuracy: 0.1910 - val_loss: 2.1384 - val_accuracy: 0.2679\n",
      "Epoch 2/30\n",
      "6985/6985 [==============================] - 9s 1ms/step - loss: 2.0468 - accuracy: 0.2792 - val_loss: 1.9128 - val_accuracy: 0.3663\n",
      "Epoch 3/30\n",
      "6985/6985 [==============================] - 9s 1ms/step - loss: 1.8259 - accuracy: 0.3705 - val_loss: 1.6397 - val_accuracy: 0.4327\n",
      "Epoch 4/30\n",
      "6985/6985 [==============================] - 9s 1ms/step - loss: 1.6334 - accuracy: 0.4299 - val_loss: 1.5582 - val_accuracy: 0.4837\n",
      "Epoch 5/30\n",
      "6985/6985 [==============================] - 9s 1ms/step - loss: 1.5332 - accuracy: 0.4687 - val_loss: 1.4468 - val_accuracy: 0.5066\n",
      "Epoch 6/30\n",
      "6985/6985 [==============================] - 9s 1ms/step - loss: 1.4369 - accuracy: 0.5157 - val_loss: 1.4287 - val_accuracy: 0.5192\n",
      "Epoch 7/30\n",
      "6985/6985 [==============================] - 9s 1ms/step - loss: 1.3491 - accuracy: 0.5379 - val_loss: 1.2605 - val_accuracy: 0.5942\n",
      "Epoch 8/30\n",
      "6985/6985 [==============================] - 9s 1ms/step - loss: 1.2411 - accuracy: 0.5811 - val_loss: 1.2129 - val_accuracy: 0.5953\n",
      "Epoch 9/30\n",
      "6985/6985 [==============================] - 9s 1ms/step - loss: 1.1639 - accuracy: 0.6077 - val_loss: 1.0941 - val_accuracy: 0.6554\n",
      "Epoch 10/30\n",
      "6985/6985 [==============================] - 9s 1ms/step - loss: 1.1096 - accuracy: 0.6258 - val_loss: 1.0971 - val_accuracy: 0.6537\n",
      "Epoch 11/30\n",
      "6985/6985 [==============================] - 9s 1ms/step - loss: 1.0794 - accuracy: 0.6356 - val_loss: 1.0167 - val_accuracy: 0.6857\n",
      "Epoch 12/30\n",
      "6985/6985 [==============================] - 9s 1ms/step - loss: 1.0099 - accuracy: 0.6639 - val_loss: 0.9805 - val_accuracy: 0.6880\n",
      "Epoch 13/30\n",
      "6985/6985 [==============================] - 9s 1ms/step - loss: 0.9784 - accuracy: 0.6743 - val_loss: 1.0008 - val_accuracy: 0.6651\n",
      "Epoch 14/30\n",
      "6985/6985 [==============================] - 9s 1ms/step - loss: 0.9194 - accuracy: 0.6890 - val_loss: 0.8893 - val_accuracy: 0.7104\n",
      "Epoch 15/30\n",
      "6985/6985 [==============================] - 9s 1ms/step - loss: 0.8672 - accuracy: 0.7115 - val_loss: 0.8968 - val_accuracy: 0.7006\n",
      "Epoch 16/30\n",
      "6985/6985 [==============================] - 9s 1ms/step - loss: 0.8267 - accuracy: 0.7205 - val_loss: 0.9237 - val_accuracy: 0.7081\n",
      "Epoch 17/30\n",
      "6985/6985 [==============================] - 9s 1ms/step - loss: 0.8197 - accuracy: 0.7310 - val_loss: 0.9587 - val_accuracy: 0.6800\n",
      "Epoch 18/30\n",
      "6985/6985 [==============================] - 9s 1ms/step - loss: 0.7778 - accuracy: 0.7367 - val_loss: 0.8266 - val_accuracy: 0.7338\n",
      "Epoch 19/30\n",
      "6985/6985 [==============================] - 9s 1ms/step - loss: 0.7640 - accuracy: 0.7442 - val_loss: 0.8492 - val_accuracy: 0.7218\n",
      "Epoch 20/30\n",
      "6985/6985 [==============================] - 9s 1ms/step - loss: 0.7092 - accuracy: 0.7603 - val_loss: 0.7785 - val_accuracy: 0.7487\n",
      "Epoch 21/30\n",
      "6985/6985 [==============================] - 9s 1ms/step - loss: 0.6931 - accuracy: 0.7671 - val_loss: 0.9182 - val_accuracy: 0.7023\n",
      "Epoch 22/30\n",
      "6985/6985 [==============================] - 9s 1ms/step - loss: 0.6755 - accuracy: 0.7764 - val_loss: 0.7266 - val_accuracy: 0.7722\n",
      "Epoch 23/30\n",
      "6985/6985 [==============================] - 9s 1ms/step - loss: 0.6308 - accuracy: 0.7881 - val_loss: 0.7077 - val_accuracy: 0.7825\n",
      "Epoch 24/30\n",
      "6985/6985 [==============================] - 9s 1ms/step - loss: 0.6188 - accuracy: 0.7906 - val_loss: 0.7366 - val_accuracy: 0.7762\n",
      "Epoch 25/30\n",
      "6985/6985 [==============================] - 10s 1ms/step - loss: 0.6088 - accuracy: 0.7944 - val_loss: 0.7165 - val_accuracy: 0.7785\n",
      "Epoch 26/30\n",
      "6985/6985 [==============================] - 9s 1ms/step - loss: 0.6003 - accuracy: 0.8020 - val_loss: 0.6801 - val_accuracy: 0.7819\n",
      "Epoch 27/30\n",
      "6985/6985 [==============================] - 9s 1ms/step - loss: 0.5858 - accuracy: 0.8047 - val_loss: 0.6878 - val_accuracy: 0.7865\n",
      "Epoch 28/30\n",
      "6985/6985 [==============================] - 9s 1ms/step - loss: 0.5426 - accuracy: 0.8172 - val_loss: 0.6453 - val_accuracy: 0.8060\n",
      "Epoch 29/30\n",
      "6985/6985 [==============================] - 9s 1ms/step - loss: 0.5228 - accuracy: 0.8278 - val_loss: 0.7081 - val_accuracy: 0.7642\n",
      "Epoch 30/30\n",
      "6985/6985 [==============================] - 9s 1ms/step - loss: 0.5524 - accuracy: 0.8123 - val_loss: 0.6667 - val_accuracy: 0.7991\n",
      "time taken: 4.0 minutes 34.8 seconds\n",
      "None\n"
     ]
    }
   ],
   "source": [
    "start_time=timer()\n",
    "history=model.fit(x_train,y_train,batch_size=50,epochs=30,validation_data=(x_test,y_test))\n",
    "end_time=timer()\n",
    "print(print(\"time taken: {0} minutes {1:.1f} seconds\".format((end_time - start_time)//60, (end_time - start_time)%60)))"
   ]
  },
  {
   "cell_type": "code",
   "execution_count": 19,
   "metadata": {},
   "outputs": [
    {
     "name": "stdout",
     "output_type": "stream",
     "text": [
      "6985/6985 [==============================] - 4s 571us/step\n",
      "Training Accuracy:  0.8813170790672302\n",
      "1747/1747 [==============================] - 1s 572us/step\n",
      "Testing Accuracy:  0.7990841269493103\n"
     ]
    }
   ],
   "source": [
    "score = model.evaluate(x_train, y_train, verbose=1)\n",
    "print(\"Training Accuracy: \", score[1])\n",
    "\n",
    "score = model.evaluate(x_test, y_test, verbose=1)\n",
    "print(\"Testing Accuracy: \", score[1])"
   ]
  },
  {
   "cell_type": "code",
   "execution_count": 20,
   "metadata": {},
   "outputs": [],
   "source": [
    "def plot_accuracy():\n",
    "    plt.plot(history.history['accuracy'])\n",
    "    plt.plot(history.history['val_accuracy'])\n",
    "    plt.title('Model Accuracy')\n",
    "    plt.ylabel('Accuracy')\n",
    "    plt.xlabel('No of epoch')\n",
    "    plt.legend(['train', 'test'], loc='upper left')\n",
    "    plt.show()\n",
    "    \n",
    "def plot_loss():\n",
    "    plt.plot(history.history['loss'], label='Training')\n",
    "    plt.plot(history.history['val_loss'], label='Testing')\n",
    "    plt.title('Model Loss')\n",
    "    plt.ylabel('Loss')\n",
    "    plt.xlabel('No of epoch')\n",
    "    plt.legend(loc=\"upper left\")\n",
    "    plt.show()\n",
    "    "
   ]
  },
  {
   "cell_type": "code",
   "execution_count": 22,
   "metadata": {},
   "outputs": [
    {
     "data": {
      "image/png": "[encoded data removed]",
      "text/plain": [
       "<Figure size 864x288 with 1 Axes>"
      ]
     },
     "metadata": {
      "needs_background": "light"
     },
     "output_type": "display_data"
    },
    {
     "data": {
      "image/png": "[encoded data removed]",
      "text/plain": [
       "<Figure size 864x288 with 1 Axes>"
      ]
     },
     "metadata": {
      "needs_background": "light"
     },
     "output_type": "display_data"
    }
   ],
   "source": [
    "plt.figure(figsize=(12,4))\n",
    "plot_accuracy()\n",
    "plt.figure(figsize=(12,4))\n",
    "plot_loss()"
   ]
  },
  {
   "cell_type": "code",
   "execution_count": 23,
   "metadata": {},
   "outputs": [],
   "source": [
    "Class_Label = {'Air_conditioner':0, 'Car_horn':1, 'Children_playing':2, 'Dog_Bark':3, \n",
    "               'Drilling':4,'Engine_idling':5, 'Gun_Shot' :6, 'Jackhammer': 7 ,'Siren':8,'Street_Music':9 }"
   ]
  },
  {
   "cell_type": "code",
   "execution_count": 24,
   "metadata": {},
   "outputs": [
    {
     "name": "stdout",
     "output_type": "stream",
     "text": [
      "(1747,) (1747,)\n",
      "                  precision    recall  f1-score   support\n",
      "\n",
      " Air_conditioner       0.80      0.92      0.86       195\n",
      "        Car_horn       0.94      0.67      0.78        73\n",
      "Children_playing       0.64      0.69      0.66       198\n",
      "        Dog_Bark       0.78      0.68      0.73       190\n",
      "        Drilling       0.84      0.82      0.83       222\n",
      "   Engine_idling       0.90      0.87      0.88       197\n",
      "        Gun_Shot       0.85      0.70      0.77        57\n",
      "      Jackhammer       0.85      0.92      0.88       217\n",
      "           Siren       0.82      0.87      0.85       204\n",
      "    Street_Music       0.71      0.66      0.69       194\n",
      "\n",
      "        accuracy                           0.80      1747\n",
      "       macro avg       0.81      0.78      0.79      1747\n",
      "    weighted avg       0.80      0.80      0.80      1747\n",
      "\n"
     ]
    }
   ],
   "source": [
    "from sklearn.metrics import classification_report\n",
    "\n",
    "y_true = np.argmax(y_test, axis = 1)\n",
    "y_pred = model.predict(x_test)\n",
    "y_pred = np.argmax(y_pred, axis=1)\n",
    "labels = [0,1,2,3,4,5,6,7,8,9]\n",
    "target_names = Class_Label.keys()\n",
    "\n",
    "print(y_true.shape, y_pred.shape)\n",
    "print(classification_report(y_true, y_pred, target_names=target_names))"
   ]
  },
  {
   "cell_type": "code",
   "execution_count": 25,
   "metadata": {},
   "outputs": [
    {
     "name": "stdout",
     "output_type": "stream",
     "text": [
      "[[180   0   1   2   1   2   0   5   2   2]\n",
      " [  3  49   3   1   3   1   0   0   5   8]\n",
      " [ 11   0 137  10  10   1   3   2  12  12]\n",
      " [  2   1  28 129   6   4   0   1  10   9]\n",
      " [  0   0   1   6 182   3   0  19   1  10]\n",
      " [ 12   1   3   2   1 172   0   2   1   3]\n",
      " [  2   0   6   0   0   2  40   4   1   2]\n",
      " [  2   0   2   0   4   3   2 200   0   4]\n",
      " [  1   0  14   7   1   1   0   0 178   2]\n",
      " [ 13   1  20   8   8   3   2   3   7 129]]\n"
     ]
    }
   ],
   "source": [
    "from sklearn.metrics import confusion_matrix\n",
    "print(confusion_matrix(y_true, y_pred))\n",
    "metadata_cm=confusion_matrix(y_true, y_pred)"
   ]
  },
  {
   "cell_type": "code",
   "execution_count": 41,
   "metadata": {},
   "outputs": [
    {
     "data": {
      "image/png": "[encoded data removed]",
      "text/plain": [
       "<Figure size 432x288 with 1 Axes>"
      ]
     },
     "metadata": {
      "needs_background": "light"
     },
     "output_type": "display_data"
    },
    {
     "data": {
      "text/plain": [
       "<Figure size 720x288 with 0 Axes>"
      ]
     },
     "metadata": {},
     "output_type": "display_data"
    }
   ],
   "source": [
    "from sklearn.metrics import confusion_matrix\n",
    "import seaborn as sns\n",
    "import matplotlib.pyplot as plt\n",
    "\n",
    "ax=plt.subplot()\n",
    "mat = confusion_matrix(y_true, y_pred)\n",
    "plt.figure(figsize=(10,4))\n",
    "sns.heatmap(mat, square=False, annot=True, fmt='d',cbar=False,linewidths=.5,xticklabels=Class_Label.keys(),yticklabels=Class_Label.keys(), ax=ax, cmap='PuBuGn')\n",
    "bottom, top= ax.get_ylim()\n",
    "ax.set_ylim(bottom + 0.5 , top -0.5)\n",
    "ax.set_title('Confusion Matrix')\n",
    "ax.set_xlabel('True label')\n",
    "ax.set_ylabel('Predicted label');"
   ]
  },
  {
   "cell_type": "code",
   "execution_count": 44,
   "metadata": {},
   "outputs": [],
   "source": [
    "def print_prediction(file_name):\n",
    "    a,b =extract_MElandChroma_cqt(file_name) \n",
    "    prediction_feature=np.reshape(np.hstack((a,b)),(20,5))\n",
    "            \n",
    "    prediction_feature = prediction_feature.reshape(1, 20, 5, 1)\n",
    "\n",
    "    predicted_vector = model.predict_classes(prediction_feature)\n",
    "    predicted_class = le.inverse_transform(predicted_vector) \n",
    "    print(\"The predicted class is:\", predicted_class[0], '\\n') \n",
    "\n",
    "    predicted_proba_vector = model.predict_proba(prediction_feature) \n",
    "    predicted_proba = predicted_proba_vector[0]\n",
    "    for i in range(len(predicted_proba)): \n",
    "        category = le.inverse_transform(np.array([i]))\n",
    "        print(category[0], \"\\t\\t : \", format(predicted_proba[i], '.32f') )"
   ]
  },
  {
   "cell_type": "code",
   "execution_count": 46,
   "metadata": {},
   "outputs": [
    {
     "name": "stdout",
     "output_type": "stream",
     "text": [
      "The predicted class is: car_horn \n",
      "\n",
      "air_conditioner \t\t :  0.02719913236796855926513671875000\n",
      "car_horn \t\t :  0.24080868065357208251953125000000\n",
      "children_playing \t\t :  0.04175462201237678527832031250000\n",
      "dog_bark \t\t :  0.15202026069164276123046875000000\n",
      "drilling \t\t :  0.04804234206676483154296875000000\n",
      "engine_idling \t\t :  0.20079308748245239257812500000000\n",
      "gun_shot \t\t :  0.08663919568061828613281250000000\n",
      "jackhammer \t\t :  0.01005834527313709259033203125000\n",
      "siren \t\t :  0.02761969342827796936035156250000\n",
      "street_music \t\t :  0.16506463289260864257812500000000\n"
     ]
    }
   ],
   "source": [
    "filename='E:/Thesis/Dataset/Sample Augmented Sound clips/Augmentation/Car Horn/71439-1-0-0/71439-1-0-0 Noise Added.wav'\n",
    "print_prediction(filename)\n"
   ]
  },
  {
   "cell_type": "code",
   "execution_count": 47,
   "metadata": {},
   "outputs": [
    {
     "name": "stdout",
     "output_type": "stream",
     "text": [
      "The predicted class is: car_horn \n",
      "\n",
      "air_conditioner \t\t :  0.00000000000119490365952518162729\n",
      "car_horn \t\t :  0.99999201297760009765625000000000\n",
      "children_playing \t\t :  0.00000007019202996616513701155782\n",
      "dog_bark \t\t :  0.00000222823928197612985968589783\n",
      "drilling \t\t :  0.00000000834708835384390113176778\n",
      "engine_idling \t\t :  0.00000010000722738823242252692580\n",
      "gun_shot \t\t :  0.00000000002443544151742305103880\n",
      "jackhammer \t\t :  0.00000000000003853140679785371780\n",
      "siren \t\t :  0.00000000000127989448466675481697\n",
      "street_music \t\t :  0.00000552966002942412160336971283\n"
     ]
    }
   ],
   "source": [
    "filename='E:/Thesis/Dataset/Sample Augmented Sound clips/Augmentation/Car Horn/71439-1-0-0/71439-1-0-0 Noise Added + Pitch Down.wav'\n",
    "print_prediction(filename)"
   ]
  },
  {
   "cell_type": "code",
   "execution_count": 48,
   "metadata": {},
   "outputs": [],
   "source": [
    "def acc_per_class(np_probs_array):    \n",
    "    accs = []\n",
    "    for idx in range(0, np_probs_array.shape[0]):\n",
    "        correct = np_probs_array[idx][idx].astype(int)\n",
    "        total = np_probs_array[idx].sum().astype(int)\n",
    "        acc = (correct / total) * 100\n",
    "        accs.append(acc)\n",
    "    return accs"
   ]
  },
  {
   "cell_type": "code",
   "execution_count": 62,
   "metadata": {},
   "outputs": [
    {
     "data": {
      "text/html": [
       "<div>\n",
       "<style scoped>\n",
       "    .dataframe tbody tr th:only-of-type {\n",
       "        vertical-align: middle;\n",
       "    }\n",
       "\n",
       "    .dataframe tbody tr th {\n",
       "        vertical-align: top;\n",
       "    }\n",
       "\n",
       "    .dataframe thead th {\n",
       "        text-align: right;\n",
       "    }\n",
       "</style>\n",
       "<table border=\"1\" class=\"dataframe\">\n",
       "  <thead>\n",
       "    <tr style=\"text-align: right;\">\n",
       "      <th></th>\n",
       "      <th>CLASS</th>\n",
       "      <th>ACCURACY</th>\n",
       "    </tr>\n",
       "  </thead>\n",
       "  <tbody>\n",
       "    <tr>\n",
       "      <td>0</td>\n",
       "      <td>Air Conditioner</td>\n",
       "      <td>92.307692</td>\n",
       "    </tr>\n",
       "    <tr>\n",
       "      <td>7</td>\n",
       "      <td>Jackhammer</td>\n",
       "      <td>92.165899</td>\n",
       "    </tr>\n",
       "    <tr>\n",
       "      <td>5</td>\n",
       "      <td>Engine Idling</td>\n",
       "      <td>87.309645</td>\n",
       "    </tr>\n",
       "    <tr>\n",
       "      <td>8</td>\n",
       "      <td>Siren</td>\n",
       "      <td>87.254902</td>\n",
       "    </tr>\n",
       "    <tr>\n",
       "      <td>4</td>\n",
       "      <td>Drilling</td>\n",
       "      <td>81.981982</td>\n",
       "    </tr>\n",
       "    <tr>\n",
       "      <td>6</td>\n",
       "      <td>Gun Shot</td>\n",
       "      <td>70.175439</td>\n",
       "    </tr>\n",
       "    <tr>\n",
       "      <td>2</td>\n",
       "      <td>Children Playing</td>\n",
       "      <td>69.191919</td>\n",
       "    </tr>\n",
       "    <tr>\n",
       "      <td>3</td>\n",
       "      <td>Dog bark</td>\n",
       "      <td>67.894737</td>\n",
       "    </tr>\n",
       "    <tr>\n",
       "      <td>1</td>\n",
       "      <td>Car Horn</td>\n",
       "      <td>67.123288</td>\n",
       "    </tr>\n",
       "    <tr>\n",
       "      <td>9</td>\n",
       "      <td>Street Music</td>\n",
       "      <td>66.494845</td>\n",
       "    </tr>\n",
       "  </tbody>\n",
       "</table>\n",
       "</div>"
      ],
      "text/plain": [
       "              CLASS   ACCURACY\n",
       "0   Air Conditioner  92.307692\n",
       "7        Jackhammer  92.165899\n",
       "5     Engine Idling  87.309645\n",
       "8             Siren  87.254902\n",
       "4          Drilling  81.981982\n",
       "6          Gun Shot  70.175439\n",
       "2  Children Playing  69.191919\n",
       "3          Dog bark  67.894737\n",
       "1          Car Horn  67.123288\n",
       "9      Street Music  66.494845"
      ]
     },
     "execution_count": 62,
     "metadata": {},
     "output_type": "execute_result"
    }
   ],
   "source": [
    "accuracies=acc_per_class(mat)\n",
    "labels = [\n",
    "        'Air Conditioner',\n",
    "        'Car Horn',\n",
    "        'Children Playing',\n",
    "        'Dog bark',\n",
    "        'Drilling',\n",
    "        'Engine Idling',\n",
    "        'Gun Shot',\n",
    "        'Jackhammer',\n",
    "        'Siren',\n",
    "        'Street Music'\n",
    "    ]\n",
    "\n",
    "pd.DataFrame({'CLASS':labels, 'ACCURACY': accuracies}).sort_values(by='ACCURACY', ascending=False)\n"
   ]
  },
  {
   "cell_type": "code",
   "execution_count": 93,
   "metadata": {},
   "outputs": [
    {
     "name": "stdout",
     "output_type": "stream",
     "text": [
      "[92.3076923076923, 67.12328767123287, 69.1919191919192, 67.89473684210526, 81.98198198198197, 87.30964467005076, 70.17543859649122, 92.16589861751152, 87.25490196078431, 66.49484536082474]\n",
      "[92.3 67.1 69.2 67.9 82.  87.3 70.2 92.2 87.3 66.5]\n"
     ]
    }
   ],
   "source": [
    "accuracies=acc_per_class(mat)\n",
    "print(accuracies)\n",
    "Y=np.around(accuracies , decimals=1)\n",
    "print(Y)"
   ]
  },
  {
   "cell_type": "code",
   "execution_count": 110,
   "metadata": {},
   "outputs": [
    {
     "data": {
      "text/plain": [
       "Text(0.5, 1.0, 'Accuracy per Class')"
      ]
     },
     "execution_count": 110,
     "metadata": {},
     "output_type": "execute_result"
    },
    {
     "data": {
      "image/png": "[encoded data removed]",
      "text/plain": [
       "<Figure size 720x432 with 1 Axes>"
      ]
     },
     "metadata": {
      "needs_background": "light"
     },
     "output_type": "display_data"
    }
   ],
   "source": [
    "Y=np.around(accuracies , decimals=1)\n",
    "labels = [\n",
    "        'Air Conditioner',\n",
    "        'Car Horn',\n",
    "        'Children Playing',\n",
    "        'Dog bark',\n",
    "        'Drilling',\n",
    "        'Engine Idling',\n",
    "        'Gun Shot',\n",
    "        'Jackhammer',\n",
    "        'Siren',\n",
    "        'Street Music'\n",
    "    ]\n",
    "index=np.arange(len(labels))\n",
    "plt.figure(figsize=(10,6))\n",
    "plt.bar(index, Y)\n",
    "plt.xticks(index, labels, rotation=90)\n",
    "plt.xlabel('Class_Name')\n",
    "plt.ylabel('Accuracy')\n",
    "plt.title('Accuracy per Class')"
   ]
  },
  {
   "cell_type": "code",
   "execution_count": 111,
   "metadata": {},
   "outputs": [
    {
     "ename": "ImportError",
     "evalue": "cannot import name 'Plot' from 'tools' (unknown location)",
     "output_type": "error",
     "traceback": [
      "\u001b[1;31m---------------------------------------------------------------------------\u001b[0m",
      "\u001b[1;31mImportError\u001b[0m                               Traceback (most recent call last)",
      "\u001b[1;32m<ipython-input-111-cf67d1171b69>\u001b[0m in \u001b[0;36m<module>\u001b[1;34m\u001b[0m\n\u001b[1;32m----> 1\u001b[1;33m \u001b[1;32mfrom\u001b[0m \u001b[0mtools\u001b[0m \u001b[1;32mimport\u001b[0m \u001b[0mPlot\u001b[0m\u001b[1;33m\u001b[0m\u001b[1;33m\u001b[0m\u001b[0m\n\u001b[0m\u001b[0;32m      2\u001b[0m \u001b[0mPlot\u001b[0m\u001b[1;33m.\u001b[0m\u001b[0mplot_accuracy\u001b[0m\u001b[1;33m(\u001b[0m\u001b[1;33m)\u001b[0m\u001b[1;33m\u001b[0m\u001b[1;33m\u001b[0m\u001b[0m\n",
      "\u001b[1;31mImportError\u001b[0m: cannot import name 'Plot' from 'tools' (unknown location)"
     ]
    }
   ],
   "source": [
    "from tools import Plot\n",
    "Plot.plot_accuracy()"
   ]
  },
  {
   "cell_type": "code",
   "execution_count": null,
   "metadata": {},
   "outputs": [],
   "source": []
  },
  {
   "cell_type": "code",
   "execution_count": null,
   "metadata": {},
   "outputs": [],
   "source": []
  }
 ],
 "metadata": {
  "kernelspec": {
   "display_name": "Python 3",
   "language": "python",
   "name": "python3"
  },
  "language_info": {
   "codemirror_mode": {
    "name": "ipython",
    "version": 3
   },
   "file_extension": ".py",
   "mimetype": "text/x-python",
   "name": "python",
   "nbconvert_exporter": "python",
   "pygments_lexer": "ipython3",
   "version": "3.8.3"
  }
 },
 "nbformat": 4,
 "nbformat_minor": 2
}
